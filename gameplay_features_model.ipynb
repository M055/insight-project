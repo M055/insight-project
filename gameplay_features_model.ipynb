{
 "cells": [
  {
   "cell_type": "markdown",
   "metadata": {},
   "source": [
    "# Model using gameplay features"
   ]
  },
  {
   "cell_type": "code",
   "execution_count": 29,
   "metadata": {},
   "outputs": [],
   "source": [
    "import pandas as pd\n",
    "import numpy as np\n",
    "import seaborn as sns\n",
    "import matplotlib.pyplot as plt\n",
    "import sklearn.metrics.pairwise as sklpw\n"
   ]
  },
  {
   "cell_type": "code",
   "execution_count": 7,
   "metadata": {},
   "outputs": [],
   "source": [
    "bggdata_df = pd.read_pickle('datasources/BGG_FINAL.pkl')"
   ]
  },
  {
   "cell_type": "code",
   "execution_count": 8,
   "metadata": {},
   "outputs": [],
   "source": [
    "bgg_gameplay_df = pd.read_pickle('datasources/bgg_gameplayfeatures.pkl')"
   ]
  },
  {
   "cell_type": "code",
   "execution_count": 18,
   "metadata": {},
   "outputs": [
    {
     "data": {
      "text/plain": [
       "(18898, 272)"
      ]
     },
     "execution_count": 18,
     "metadata": {},
     "output_type": "execute_result"
    }
   ],
   "source": [
    "bgg_gameplay_df.shape"
   ]
  },
  {
   "cell_type": "code",
   "execution_count": 9,
   "metadata": {},
   "outputs": [
    {
     "data": {
      "text/plain": [
       "Index(['game_rank', 'gameweight', 'Abstract', 'Children's', 'Customizable',\n",
       "       'Family', 'Party', 'Strategy', 'Thematic', 'Uncategorized',\n",
       "       ...\n",
       "       'Turn Order: Stat-Based', 'Variable Phase Order',\n",
       "       'Variable Player Powers', 'Variable Setup',\n",
       "       'Victory Points as a Resource', 'Voting', 'Worker Placement',\n",
       "       'Worker Placement with Dice Workers',\n",
       "       'Worker Placement, Different Worker Types', 'Zone of Control'],\n",
       "      dtype='object', length=272)"
      ]
     },
     "execution_count": 9,
     "metadata": {},
     "output_type": "execute_result"
    }
   ],
   "source": [
    "bgg_gameplay_df.columns"
   ]
  },
  {
   "cell_type": "code",
   "execution_count": 122,
   "metadata": {},
   "outputs": [
    {
     "data": {
      "text/plain": [
       "(18500, 272)"
      ]
     },
     "execution_count": 122,
     "metadata": {},
     "output_type": "execute_result"
    }
   ],
   "source": [
    "bgg_gameplay_df.dropna(inplace=True)\n",
    "bgg_gameplay_df.reset_index(drop=True,inplace=True)\n",
    "bgg_gameplay_df.shape"
   ]
  },
  {
   "cell_type": "markdown",
   "metadata": {},
   "source": [
    "### Create matrix for further use"
   ]
  },
  {
   "cell_type": "code",
   "execution_count": 49,
   "metadata": {},
   "outputs": [],
   "source": [
    "allgamePLAYdocvects = np.array(bgg_gameplay_df.iloc[:,1:])"
   ]
  },
  {
   "cell_type": "code",
   "execution_count": 50,
   "metadata": {},
   "outputs": [
    {
     "data": {
      "text/plain": [
       "(18500, 271)"
      ]
     },
     "execution_count": 50,
     "metadata": {},
     "output_type": "execute_result"
    }
   ],
   "source": [
    "allgamePLAYdocvects.shape"
   ]
  },
  {
   "cell_type": "markdown",
   "metadata": {},
   "source": [
    "# Using gamename"
   ]
  },
  {
   "cell_type": "code",
   "execution_count": 123,
   "metadata": {},
   "outputs": [],
   "source": [
    "gamename = 'Tenzi'"
   ]
  },
  {
   "cell_type": "code",
   "execution_count": 124,
   "metadata": {},
   "outputs": [],
   "source": [
    "# Get game rank from game name, and matrix index from rank\n",
    "gamerank = list(bggdata_df.loc[bggdata_df['game_name']==gamename,'game_rank'])[0]\n",
    "gamerank = int(gamerank)\n",
    "gamerank_idx = list(bgg_gameplay_df.index[bgg_gameplay_df['game_rank']==gamerank])[0]"
   ]
  },
  {
   "cell_type": "code",
   "execution_count": 125,
   "metadata": {},
   "outputs": [],
   "source": [
    "mygamePLAYvector = allgamePLAYdocvects[gamerank_idx,:] #bgg_docmatrix[gamerank_idx,:]\n",
    "mygamePLAYvector = mygamePLAYvector.reshape(-1,1)"
   ]
  },
  {
   "cell_type": "code",
   "execution_count": 126,
   "metadata": {},
   "outputs": [],
   "source": [
    "mysimilarities = []\n",
    "for t in range(0,allgamePLAYdocvects.shape[0]):\n",
    "    currgamevect = allgamePLAYdocvects[t,:]\n",
    "    currgamevect = currgamevect.reshape(-1,1)\n",
    "    dum = sklpw.cosine_similarity(currgamevect.T,mygamePLAYvector.T)\n",
    "    mysimilarities.append(dum[0][0])\n",
    "mycompletesimlist_df = pd.concat((bgg_gameplay_df['game_rank'],pd.DataFrame({'Similarity':mysimilarities})),axis=1)\n",
    "mycompletesimlist_df.sort_values(by='Similarity',ascending=False,inplace=True)\n",
    "mytop10simlist_df = mycompletesimlist_df[1:11]\n",
    "# Create output list\n",
    "urllist=[]\n",
    "gamenamelist=[] # Recover from game rank\n",
    "for gamerank in mytop10simlist_df['game_rank']:\n",
    "    urllist.append(list(bggdata_df.loc[bggdata_df['game_rank']==str(int(gamerank)),'bgg_url'])[0])\n",
    "    gamenamelist.append(list(bggdata_df.loc[bggdata_df['game_rank']==str(int(gamerank)),'game_name'])[0])\n",
    "mytop10simlist_df = pd.DataFrame({'Game':gamenamelist,'Similarity':mytop10simlist_df['Similarity'],'url':urllist})\n",
    "mytop10simlist_df.reset_index(drop=True,inplace=True)\n",
    "mytop10simlist_df.index = mytop10simlist_df.index+1\n",
    "#return mytop10simlist_df"
   ]
  },
  {
   "cell_type": "code",
   "execution_count": 127,
   "metadata": {},
   "outputs": [
    {
     "data": {
      "text/html": [
       "<div>\n",
       "<style scoped>\n",
       "    .dataframe tbody tr th:only-of-type {\n",
       "        vertical-align: middle;\n",
       "    }\n",
       "\n",
       "    .dataframe tbody tr th {\n",
       "        vertical-align: top;\n",
       "    }\n",
       "\n",
       "    .dataframe thead th {\n",
       "        text-align: right;\n",
       "    }\n",
       "</style>\n",
       "<table border=\"1\" class=\"dataframe\">\n",
       "  <thead>\n",
       "    <tr style=\"text-align: right;\">\n",
       "      <th></th>\n",
       "      <th>Game</th>\n",
       "      <th>Similarity</th>\n",
       "      <th>url</th>\n",
       "    </tr>\n",
       "  </thead>\n",
       "  <tbody>\n",
       "    <tr>\n",
       "      <th>1</th>\n",
       "      <td>Mars Attacks: The Dice Game</td>\n",
       "      <td>0.838838</td>\n",
       "      <td>https://boardgamegeek.com//boardgame/155119/ma...</td>\n",
       "    </tr>\n",
       "    <tr>\n",
       "      <th>2</th>\n",
       "      <td>Ligretto Dice</td>\n",
       "      <td>0.836655</td>\n",
       "      <td>https://boardgamegeek.com//boardgame/55835/lig...</td>\n",
       "    </tr>\n",
       "    <tr>\n",
       "      <th>3</th>\n",
       "      <td>Würfel Bingo</td>\n",
       "      <td>0.832761</td>\n",
       "      <td>https://boardgamegeek.com//boardgame/29355/wur...</td>\n",
       "    </tr>\n",
       "    <tr>\n",
       "      <th>4</th>\n",
       "      <td>SUTAKKU</td>\n",
       "      <td>0.802895</td>\n",
       "      <td>https://boardgamegeek.com//boardgame/101796/su...</td>\n",
       "    </tr>\n",
       "    <tr>\n",
       "      <th>5</th>\n",
       "      <td>Bears!</td>\n",
       "      <td>0.788951</td>\n",
       "      <td>https://boardgamegeek.com//boardgame/99081/bears</td>\n",
       "    </tr>\n",
       "    <tr>\n",
       "      <th>6</th>\n",
       "      <td>Bohemian Villages</td>\n",
       "      <td>0.782698</td>\n",
       "      <td>https://boardgamegeek.com//boardgame/193651/bo...</td>\n",
       "    </tr>\n",
       "    <tr>\n",
       "      <th>7</th>\n",
       "      <td>Strike</td>\n",
       "      <td>0.778193</td>\n",
       "      <td>https://boardgamegeek.com//boardgame/123570/st...</td>\n",
       "    </tr>\n",
       "    <tr>\n",
       "      <th>8</th>\n",
       "      <td>Cosmic Wimpout</td>\n",
       "      <td>0.765305</td>\n",
       "      <td>https://boardgamegeek.com//boardgame/1302/cosm...</td>\n",
       "    </tr>\n",
       "    <tr>\n",
       "      <th>9</th>\n",
       "      <td>Ciao, Ciao...</td>\n",
       "      <td>0.764902</td>\n",
       "      <td>https://boardgamegeek.com//boardgame/1163/ciao...</td>\n",
       "    </tr>\n",
       "    <tr>\n",
       "      <th>10</th>\n",
       "      <td>Untold: Adventures Await</td>\n",
       "      <td>0.764052</td>\n",
       "      <td>https://boardgamegeek.com//boardgame/226588/un...</td>\n",
       "    </tr>\n",
       "  </tbody>\n",
       "</table>\n",
       "</div>"
      ],
      "text/plain": [
       "                           Game  Similarity  \\\n",
       "1   Mars Attacks: The Dice Game    0.838838   \n",
       "2                 Ligretto Dice    0.836655   \n",
       "3                  Würfel Bingo    0.832761   \n",
       "4                       SUTAKKU    0.802895   \n",
       "5                        Bears!    0.788951   \n",
       "6             Bohemian Villages    0.782698   \n",
       "7                        Strike    0.778193   \n",
       "8                Cosmic Wimpout    0.765305   \n",
       "9                 Ciao, Ciao...    0.764902   \n",
       "10     Untold: Adventures Await    0.764052   \n",
       "\n",
       "                                                  url  \n",
       "1   https://boardgamegeek.com//boardgame/155119/ma...  \n",
       "2   https://boardgamegeek.com//boardgame/55835/lig...  \n",
       "3   https://boardgamegeek.com//boardgame/29355/wur...  \n",
       "4   https://boardgamegeek.com//boardgame/101796/su...  \n",
       "5    https://boardgamegeek.com//boardgame/99081/bears  \n",
       "6   https://boardgamegeek.com//boardgame/193651/bo...  \n",
       "7   https://boardgamegeek.com//boardgame/123570/st...  \n",
       "8   https://boardgamegeek.com//boardgame/1302/cosm...  \n",
       "9   https://boardgamegeek.com//boardgame/1163/ciao...  \n",
       "10  https://boardgamegeek.com//boardgame/226588/un...  "
      ]
     },
     "execution_count": 127,
     "metadata": {},
     "output_type": "execute_result"
    }
   ],
   "source": [
    "mytop10simlist_df"
   ]
  },
  {
   "cell_type": "code",
   "execution_count": null,
   "metadata": {},
   "outputs": [],
   "source": []
  },
  {
   "cell_type": "markdown",
   "metadata": {},
   "source": [
    "# Make function for app:"
   ]
  },
  {
   "cell_type": "code",
   "execution_count": null,
   "metadata": {},
   "outputs": [],
   "source": [
    "gamename='Dixit'\n",
    "\n",
    "\n",
    "def getcompute_similar_by_gameplay(gamename,allgamedata_df, bgg_gameplay_df, allgamePLAYdocvects):\n",
    "    # Get game rank from game name, and matrix index from rank\n",
    "    gamerank = list(allgamedata_df.loc[allgamedata_df['game_name']==gamename,'game_rank'])[0]\n",
    "    gamerank = int(gamerank)\n",
    "    gamerank_idx = list(bgg_gameplay_df.index[bgg_gameplay_df['game_rank']==gamerank])[0]\n",
    "\n",
    "    mygamePLAYvector = allgamePLAYdocvects[gamerank_idx,:] \n",
    "    mygamePLAYvector = mygamePLAYvector.reshape(-1,1)\n",
    "    \n",
    "    mysimilarities_gp = []\n",
    "    for t in range(0,allgamePLAYdocvects.shape[0]):\n",
    "        currgamevect = allgamePLAYdocvects[t,:]\n",
    "        currgamevect = currgamevect.reshape(-1,1)\n",
    "        dum = sklpw.cosine_similarity(currgamevect.T,mygamePLAYvector.T)\n",
    "        mysimilarities_gp.append(dum[0][0])\n",
    "    mycompletesimlist_df = pd.concat((bgg_gameplay_df['game_rank'],pd.DataFrame({'GameplaySimilarity':mysimilarities})),axis=1)\n",
    "    return mycompletesimlist_df"
   ]
  }
 ],
 "metadata": {
  "kernelspec": {
   "display_name": "Python 3",
   "language": "python",
   "name": "python3"
  },
  "language_info": {
   "codemirror_mode": {
    "name": "ipython",
    "version": 3
   },
   "file_extension": ".py",
   "mimetype": "text/x-python",
   "name": "python",
   "nbconvert_exporter": "python",
   "pygments_lexer": "ipython3",
   "version": "3.8.2"
  }
 },
 "nbformat": 4,
 "nbformat_minor": 4
}
