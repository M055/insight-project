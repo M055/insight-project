{
 "cells": [
  {
   "cell_type": "code",
   "execution_count": 9,
   "metadata": {},
   "outputs": [],
   "source": [
    "# NOTE: KEEPING NUMBERS \n",
    "\n",
    "import numpy as np\n",
    "import pandas as pd\n",
    "import re\n",
    "import sklearn.metrics.pairwise as smp\n",
    "import seaborn as sns \n",
    "import matplotlib.pyplot as plt\n",
    "from bgg_functions import *"
   ]
  },
  {
   "cell_type": "code",
   "execution_count": 2,
   "metadata": {},
   "outputs": [],
   "source": [
    "bggdata_df = pd.read_pickle('datasources/BGG_FINAL.pkl')"
   ]
  },
  {
   "cell_type": "code",
   "execution_count": 3,
   "metadata": {},
   "outputs": [
    {
     "data": {
      "text/plain": [
       "Index(['game_rank', 'geek_rating', 'avg_rating', 'num_raters', 'game_name',\n",
       "       'game_year', 'bgg_url', 'reimpl0', 'reimpl0href', 'ranks', 'avgrating',\n",
       "       'titleinfo', 'gameplayinfo', 'gamecredits', 'ftr_title', 'ftr_descr',\n",
       "       'gamedscription', 'rnkoverall', 'rnkthematic', 'rnkstrategy',\n",
       "       'shortsummary', 'numplayersmin', 'numplayersmax', 'gamedurmin',\n",
       "       'gamedurmax', 'agemin', 'gameweight', 'designer', 'artist', 'publisher',\n",
       "       'gametype', 'gamecategory', 'gamemechanisms', 'gamefamily', 'rnkwar',\n",
       "       'rnkcustomizable', 'rnkfamily', 'rnkabstract', 'rnkparty',\n",
       "       'rnkchildren's', 'rnkamiga', 'rnkcommodore64', 'rnkarcade',\n",
       "       'rnkatariST'],\n",
       "      dtype='object')"
      ]
     },
     "execution_count": 3,
     "metadata": {},
     "output_type": "execute_result"
    }
   ],
   "source": [
    "bggdata_df.columns"
   ]
  },
  {
   "cell_type": "code",
   "execution_count": 4,
   "metadata": {},
   "outputs": [
    {
     "data": {
      "text/plain": [
       "(18900, 44)"
      ]
     },
     "execution_count": 4,
     "metadata": {},
     "output_type": "execute_result"
    }
   ],
   "source": [
    "bggdata_df.shape"
   ]
  },
  {
   "cell_type": "markdown",
   "metadata": {},
   "source": [
    "### Get game word2vec"
   ]
  },
  {
   "cell_type": "code",
   "execution_count": 5,
   "metadata": {},
   "outputs": [
    {
     "name": "stdout",
     "output_type": "stream",
     "text": [
      "['gloomhaven', 'is', 'a', 'game', 'of', 'tactical', 'combat', 'in', 'persistent', 'world', 'shifting']\n"
     ]
    }
   ],
   "source": [
    "from gensim.models import Word2Vec\n",
    "bgg_model = Word2Vec.load('datasources/bgg_w2v_model.bin')\n",
    "words = list(bgg_model.wv.vocab)\n",
    "print(words[:11])"
   ]
  },
  {
   "cell_type": "markdown",
   "metadata": {},
   "source": [
    "# Create vectors for all boardgames"
   ]
  },
  {
   "cell_type": "code",
   "execution_count": 20,
   "metadata": {},
   "outputs": [
    {
     "data": {
      "text/plain": [
       "(3, 2)"
      ]
     },
     "execution_count": 20,
     "metadata": {},
     "output_type": "execute_result"
    }
   ],
   "source": [
    "testdf = pd.DataFrame({'desc':bggdata_df.loc[[0, 126, 151],'gamedscription']})\n",
    "testdf['desc2']=[ ' '.join(sanitize_text(x)) for x in testdf['desc']]\n",
    "testdf.shape"
   ]
  },
  {
   "cell_type": "code",
   "execution_count": 23,
   "metadata": {},
   "outputs": [
    {
     "data": {
      "text/html": [
       "<div>\n",
       "<style scoped>\n",
       "    .dataframe tbody tr th:only-of-type {\n",
       "        vertical-align: middle;\n",
       "    }\n",
       "\n",
       "    .dataframe tbody tr th {\n",
       "        vertical-align: top;\n",
       "    }\n",
       "\n",
       "    .dataframe thead th {\n",
       "        text-align: right;\n",
       "    }\n",
       "</style>\n",
       "<table border=\"1\" class=\"dataframe\">\n",
       "  <thead>\n",
       "    <tr style=\"text-align: right;\">\n",
       "      <th></th>\n",
       "      <th>desc</th>\n",
       "      <th>desc2</th>\n",
       "    </tr>\n",
       "  </thead>\n",
       "  <tbody>\n",
       "    <tr>\n",
       "      <th>0</th>\n",
       "      <td>Gloomhaven is a game of Euro-inspired tactical...</td>\n",
       "      <td>gloomhaven is a game of euroinspired tactical ...</td>\n",
       "    </tr>\n",
       "    <tr>\n",
       "      <th>126</th>\n",
       "      <td>You are one of the two most powerful traders i...</td>\n",
       "      <td>you are one of the two most powerful trader in...</td>\n",
       "    </tr>\n",
       "    <tr>\n",
       "      <th>151</th>\n",
       "      <td>Splendor is a game of chip-collecting and card...</td>\n",
       "      <td>splendor is a game of chipcollecting and card ...</td>\n",
       "    </tr>\n",
       "  </tbody>\n",
       "</table>\n",
       "</div>"
      ],
      "text/plain": [
       "                                                  desc  \\\n",
       "0    Gloomhaven is a game of Euro-inspired tactical...   \n",
       "126  You are one of the two most powerful traders i...   \n",
       "151  Splendor is a game of chip-collecting and card...   \n",
       "\n",
       "                                                 desc2  \n",
       "0    gloomhaven is a game of euroinspired tactical ...  \n",
       "126  you are one of the two most powerful trader in...  \n",
       "151  splendor is a game of chipcollecting and card ...  "
      ]
     },
     "execution_count": 23,
     "metadata": {},
     "output_type": "execute_result"
    }
   ],
   "source": [
    "testdf"
   ]
  },
  {
   "cell_type": "markdown",
   "metadata": {},
   "source": [
    "## Get average vectors for each game description *EDIT* Modified to use description2vector"
   ]
  },
  {
   "cell_type": "code",
   "execution_count": 21,
   "metadata": {},
   "outputs": [],
   "source": [
    "gamedocvects_df = pd.DataFrame({})\n",
    "\n",
    "for currdoc in testdf['desc2']:\n",
    "    numw = len(currdoc)\n",
    "    docvect_df = pd.DataFrame({})\n",
    "    for w in range(0,numw): # Over all words in the doc\n",
    "        if currdoc[w] in words:\n",
    "            docvect_df = pd.concat((docvect_df,pd.DataFrame(bgg_model.wv[currdoc[w]])),axis=1)\n",
    "    gamedocvects_df = pd.concat((gamedocvects_df,docvect_df.mean(axis=1)),axis=1)\n",
    "    "
   ]
  },
  {
   "cell_type": "code",
   "execution_count": 24,
   "metadata": {},
   "outputs": [
    {
     "data": {
      "text/plain": [
       "(100, 3)"
      ]
     },
     "execution_count": 24,
     "metadata": {},
     "output_type": "execute_result"
    }
   ],
   "source": [
    "gamedocvects_df.shape"
   ]
  },
  {
   "cell_type": "code",
   "execution_count": null,
   "metadata": {},
   "outputs": [],
   "source": []
  },
  {
   "cell_type": "markdown",
   "metadata": {},
   "source": [
    "### Sanity check"
   ]
  },
  {
   "cell_type": "code",
   "execution_count": 25,
   "metadata": {},
   "outputs": [
    {
     "data": {
      "text/plain": [
       "<matplotlib.axes._subplots.AxesSubplot at 0x7ff96ec32c70>"
      ]
     },
     "execution_count": 25,
     "metadata": {},
     "output_type": "execute_result"
    },
    {
     "data": {
      "image/png": "[encoded data removed]",
      "text/plain": [
       "<Figure size 432x288 with 1 Axes>"
      ]
     },
     "metadata": {
      "needs_background": "light"
     },
     "output_type": "display_data"
    }
   ],
   "source": [
    "sns.distplot(np.ravel(gamedocvects_df))"
   ]
  },
  {
   "cell_type": "code",
   "execution_count": 26,
   "metadata": {},
   "outputs": [],
   "source": [
    "gamedocvects = np.array(gamedocvects_df).T # vectors, 1 per document: each ROW is a game\n",
    "gamesimilarities = smp.cosine_similarity(gamedocvects)\n",
    "gamesimilarities_df = pd.DataFrame(gamesimilarities,columns=list(bggdata_df.loc[testdf.index,'game_name']),index=list(bggdata_df.loc[testdf.index,'game_name']))"
   ]
  },
  {
   "cell_type": "code",
   "execution_count": 27,
   "metadata": {},
   "outputs": [
    {
     "data": {
      "image/png": "[encoded data removed]",
      "text/plain": [
       "<Figure size 648x504 with 2 Axes>"
      ]
     },
     "metadata": {},
     "output_type": "display_data"
    }
   ],
   "source": [
    "sns.set(context='talk')\n",
    "f,a = plt.subplots(1,1,figsize=(9,7))\n",
    "ax = sns.heatmap(gamesimilarities_df, cmap='hot')"
   ]
  },
  {
   "cell_type": "code",
   "execution_count": null,
   "metadata": {},
   "outputs": [],
   "source": []
  },
  {
   "cell_type": "markdown",
   "metadata": {},
   "source": [
    "# Get similarities for ALL GAMES \n",
    "### Select only games with desc lens >N\n",
    "### N >= 200"
   ]
  },
  {
   "cell_type": "code",
   "execution_count": 28,
   "metadata": {},
   "outputs": [
    {
     "data": {
      "text/plain": [
       "(18900, 44)"
      ]
     },
     "execution_count": 28,
     "metadata": {},
     "output_type": "execute_result"
    }
   ],
   "source": [
    "bggdata_df.shape"
   ]
  },
  {
   "cell_type": "code",
   "execution_count": 29,
   "metadata": {},
   "outputs": [
    {
     "data": {
      "text/plain": [
       "Index(['game_rank', 'geek_rating', 'avg_rating', 'num_raters', 'game_name',\n",
       "       'game_year', 'bgg_url', 'reimpl0', 'reimpl0href', 'ranks', 'avgrating',\n",
       "       'titleinfo', 'gameplayinfo', 'gamecredits', 'ftr_title', 'ftr_descr',\n",
       "       'gamedscription', 'rnkoverall', 'rnkthematic', 'rnkstrategy',\n",
       "       'shortsummary', 'numplayersmin', 'numplayersmax', 'gamedurmin',\n",
       "       'gamedurmax', 'agemin', 'gameweight', 'designer', 'artist', 'publisher',\n",
       "       'gametype', 'gamecategory', 'gamemechanisms', 'gamefamily', 'rnkwar',\n",
       "       'rnkcustomizable', 'rnkfamily', 'rnkabstract', 'rnkparty',\n",
       "       'rnkchildren's', 'rnkamiga', 'rnkcommodore64', 'rnkarcade',\n",
       "       'rnkatariST'],\n",
       "      dtype='object')"
      ]
     },
     "execution_count": 29,
     "metadata": {},
     "output_type": "execute_result"
    }
   ],
   "source": [
    "bggdata_df.columns"
   ]
  },
  {
   "cell_type": "code",
   "execution_count": 30,
   "metadata": {},
   "outputs": [],
   "source": [
    "##MO: UPDATE, Jun 8: include game_rank as real index\n",
    "N=200 # DESC LENS AT LEAST THIS LONG (CHARS)\n",
    "allgamesdesc_df = bggdata_df[['game_rank','game_name','gamedscription']]\n",
    "#allgamesdesc_df = pd.DataFrame({'idx':bggdata_df.index,'game_rank':bggdata_df['game_rank'],'gamename':bggdata_df['game_name'],'desc':bggdata_df['gamedscription']})\n",
    "allgamesdesc_df = allgamesdesc_df[allgamesdesc_df['gamedscription'].str.len()>=N]"
   ]
  },
  {
   "cell_type": "code",
   "execution_count": 34,
   "metadata": {},
   "outputs": [
    {
     "data": {
      "text/plain": [
       "(18561, 4)"
      ]
     },
     "execution_count": 34,
     "metadata": {},
     "output_type": "execute_result"
    }
   ],
   "source": [
    "allgamesdesc_df.shape"
   ]
  },
  {
   "cell_type": "code",
   "execution_count": 38,
   "metadata": {},
   "outputs": [],
   "source": [
    "### THIS IS MAIN CELL THAT TAKES FOREVER"
   ]
  },
  {
   "cell_type": "raw",
   "metadata": {},
   "source": [
    "dum=[]\n",
    "for x in allgamesdesc_df['gamedscription']:\n",
    "    dum.append(' '.join(sanitize_text(x)))\n",
    "#allgamesdesc_df['desc_clean']=[ ' '.join(sanitize_text(x)) for x in allgamesdesc_df['gamedscription']]\n",
    "allgamesdesc_df['desc_clean']=dum"
   ]
  },
  {
   "cell_type": "code",
   "execution_count": null,
   "metadata": {},
   "outputs": [],
   "source": [
    "# OLD:\n",
    "#dum_df = sanitize_text(pd.DataFrame(allgamesdesc_df['gamedscription']),'gamedscription','desc_clean')\n",
    "#allgamesdesc_df['desc_clean'] = dum_df['desc_clean']"
   ]
  },
  {
   "cell_type": "code",
   "execution_count": 36,
   "metadata": {},
   "outputs": [],
   "source": [
    "##allgamesdesc_df.to_pickle('sanitized_game_descriptions_master.pkl')"
   ]
  },
  {
   "cell_type": "code",
   "execution_count": 37,
   "metadata": {},
   "outputs": [
    {
     "data": {
      "text/plain": [
       "(18561, 4)"
      ]
     },
     "execution_count": 37,
     "metadata": {},
     "output_type": "execute_result"
    }
   ],
   "source": [
    "allgamesdesc_df.shape"
   ]
  },
  {
   "cell_type": "code",
   "execution_count": 39,
   "metadata": {},
   "outputs": [
    {
     "data": {
      "text/html": [
       "<div>\n",
       "<style scoped>\n",
       "    .dataframe tbody tr th:only-of-type {\n",
       "        vertical-align: middle;\n",
       "    }\n",
       "\n",
       "    .dataframe tbody tr th {\n",
       "        vertical-align: top;\n",
       "    }\n",
       "\n",
       "    .dataframe thead th {\n",
       "        text-align: right;\n",
       "    }\n",
       "</style>\n",
       "<table border=\"1\" class=\"dataframe\">\n",
       "  <thead>\n",
       "    <tr style=\"text-align: right;\">\n",
       "      <th></th>\n",
       "      <th>game_rank</th>\n",
       "      <th>game_name</th>\n",
       "      <th>gamedscription</th>\n",
       "      <th>desc_clean</th>\n",
       "    </tr>\n",
       "  </thead>\n",
       "  <tbody>\n",
       "    <tr>\n",
       "      <th>0</th>\n",
       "      <td>1</td>\n",
       "      <td>Gloomhaven</td>\n",
       "      <td>Gloomhaven is a game of Euro-inspired tactical...</td>\n",
       "      <td>gloomhaven is a game of euroinspired tactical ...</td>\n",
       "    </tr>\n",
       "    <tr>\n",
       "      <th>1</th>\n",
       "      <td>2</td>\n",
       "      <td>Pandemic Legacy: Season 1</td>\n",
       "      <td>Pandemic Legacy is a co-operative campaign gam...</td>\n",
       "      <td>pandemic legacy is a cooperative campaign game...</td>\n",
       "    </tr>\n",
       "    <tr>\n",
       "      <th>2</th>\n",
       "      <td>3</td>\n",
       "      <td>Terraforming Mars</td>\n",
       "      <td>In the 2400s, mankind begins to terraform the ...</td>\n",
       "      <td>in the 2400s mankind begin to terraform the pl...</td>\n",
       "    </tr>\n",
       "  </tbody>\n",
       "</table>\n",
       "</div>"
      ],
      "text/plain": [
       "  game_rank                  game_name  \\\n",
       "0         1                 Gloomhaven   \n",
       "1         2  Pandemic Legacy: Season 1   \n",
       "2         3          Terraforming Mars   \n",
       "\n",
       "                                      gamedscription  \\\n",
       "0  Gloomhaven is a game of Euro-inspired tactical...   \n",
       "1  Pandemic Legacy is a co-operative campaign gam...   \n",
       "2  In the 2400s, mankind begins to terraform the ...   \n",
       "\n",
       "                                          desc_clean  \n",
       "0  gloomhaven is a game of euroinspired tactical ...  \n",
       "1  pandemic legacy is a cooperative campaign game...  \n",
       "2  in the 2400s mankind begin to terraform the pl...  "
      ]
     },
     "execution_count": 39,
     "metadata": {},
     "output_type": "execute_result"
    }
   ],
   "source": [
    "allgamesdesc_df.head(3)"
   ]
  },
  {
   "cell_type": "code",
   "execution_count": 40,
   "metadata": {},
   "outputs": [
    {
     "data": {
      "text/html": [
       "<div>\n",
       "<style scoped>\n",
       "    .dataframe tbody tr th:only-of-type {\n",
       "        vertical-align: middle;\n",
       "    }\n",
       "\n",
       "    .dataframe tbody tr th {\n",
       "        vertical-align: top;\n",
       "    }\n",
       "\n",
       "    .dataframe thead th {\n",
       "        text-align: right;\n",
       "    }\n",
       "</style>\n",
       "<table border=\"1\" class=\"dataframe\">\n",
       "  <thead>\n",
       "    <tr style=\"text-align: right;\">\n",
       "      <th></th>\n",
       "      <th>game_rank</th>\n",
       "      <th>game_name</th>\n",
       "      <th>gamedscription</th>\n",
       "      <th>desc_clean</th>\n",
       "    </tr>\n",
       "  </thead>\n",
       "  <tbody>\n",
       "    <tr>\n",
       "      <th>18897</th>\n",
       "      <td>18898</td>\n",
       "      <td>Mad Gab</td>\n",
       "      <td>From the game box:\\nRead a group of simple wor...</td>\n",
       "      <td>from the game box read a group of simple word ...</td>\n",
       "    </tr>\n",
       "    <tr>\n",
       "      <th>18898</th>\n",
       "      <td>18899</td>\n",
       "      <td>Titanic: The Board Game</td>\n",
       "      <td>\"Gossip with other passengers, receive telegra...</td>\n",
       "      <td>gossip with other passenger receive telegram a...</td>\n",
       "    </tr>\n",
       "    <tr>\n",
       "      <th>18899</th>\n",
       "      <td>18900</td>\n",
       "      <td>Tenzi</td>\n",
       "      <td>Every player gets 10 dice.\\nThe object of the ...</td>\n",
       "      <td>every player get 10 dice the object of the gam...</td>\n",
       "    </tr>\n",
       "  </tbody>\n",
       "</table>\n",
       "</div>"
      ],
      "text/plain": [
       "      game_rank                game_name  \\\n",
       "18897     18898                  Mad Gab   \n",
       "18898     18899  Titanic: The Board Game   \n",
       "18899     18900                    Tenzi   \n",
       "\n",
       "                                          gamedscription  \\\n",
       "18897  From the game box:\\nRead a group of simple wor...   \n",
       "18898  \"Gossip with other passengers, receive telegra...   \n",
       "18899  Every player gets 10 dice.\\nThe object of the ...   \n",
       "\n",
       "                                              desc_clean  \n",
       "18897  from the game box read a group of simple word ...  \n",
       "18898  gossip with other passenger receive telegram a...  \n",
       "18899  every player get 10 dice the object of the gam...  "
      ]
     },
     "execution_count": 40,
     "metadata": {},
     "output_type": "execute_result"
    }
   ],
   "source": [
    "allgamesdesc_df.tail(3)"
   ]
  },
  {
   "cell_type": "code",
   "execution_count": 41,
   "metadata": {},
   "outputs": [],
   "source": [
    "allgamedocvects_df = pd.DataFrame({})\n",
    "\n",
    "for currdoc in allgamesdesc_df['desc_clean']:\n",
    "    numw = len(currdoc)\n",
    "    docvect_df = pd.DataFrame({})\n",
    "    for w in range(0,numw): # Over all words in the doc\n",
    "        if currdoc[w] in words:\n",
    "            docvect_df = pd.concat((docvect_df,pd.DataFrame(bgg_model.wv[currdoc[w]])),axis=1)\n",
    "    allgamedocvects_df = pd.concat((allgamedocvects_df,docvect_df.mean(axis=1)),axis=1)\n",
    "    "
   ]
  },
  {
   "cell_type": "code",
   "execution_count": 42,
   "metadata": {},
   "outputs": [
    {
     "data": {
      "text/plain": [
       "<matplotlib.axes._subplots.AxesSubplot at 0x7ff97793c4c0>"
      ]
     },
     "execution_count": 42,
     "metadata": {},
     "output_type": "execute_result"
    },
    {
     "data": {
      "image/png": "[encoded data removed]",
      "text/plain": [
       "<Figure size 432x288 with 1 Axes>"
      ]
     },
     "metadata": {},
     "output_type": "display_data"
    }
   ],
   "source": [
    "sns.distplot(np.ravel(allgamedocvects_df))"
   ]
  },
  {
   "cell_type": "code",
   "execution_count": 43,
   "metadata": {},
   "outputs": [
    {
     "name": "stdout",
     "output_type": "stream",
     "text": [
      "Each ROW is a game; shape of matrix is: (18561, 100)\n"
     ]
    }
   ],
   "source": [
    "allgamedocvects = np.array(allgamedocvects_df).T # Transpose so each ROW is a game.\n",
    "print('Each ROW is a game; shape of matrix is: {}'.format(allgamedocvects.shape))"
   ]
  },
  {
   "cell_type": "code",
   "execution_count": 44,
   "metadata": {},
   "outputs": [],
   "source": [
    "allgamedocvects_array = np.asarray(allgamedocvects)\n",
    "np.savez_compressed('allgamedocvects_v2.npy', allgamedocvects_array)"
   ]
  },
  {
   "cell_type": "code",
   "execution_count": null,
   "metadata": {},
   "outputs": [],
   "source": []
  },
  {
   "cell_type": "code",
   "execution_count": null,
   "metadata": {},
   "outputs": [],
   "source": [
    "allgamesimilarities = smp.cosine_similarity(allgamedocvects)"
   ]
  },
  {
   "cell_type": "code",
   "execution_count": null,
   "metadata": {},
   "outputs": [],
   "source": [
    "allgamesimilarities.shape"
   ]
  },
  {
   "cell_type": "code",
   "execution_count": null,
   "metadata": {},
   "outputs": [],
   "source": [
    "allgamesimilarities_df = pd.DataFrame(allgamesimilarities,columns=list(allgamesdesc_df['gamename']),index=list(allgamesdesc_df['gamename']))"
   ]
  },
  {
   "cell_type": "code",
   "execution_count": null,
   "metadata": {},
   "outputs": [],
   "source": [
    "import pandas_profiling"
   ]
  },
  {
   "cell_type": "code",
   "execution_count": null,
   "metadata": {},
   "outputs": [],
   "source": [
    "# SAVE DATA\n",
    "#allgamesimilarities_df.to_csv('BGG_GameSimilarityMatrix.csv')\n",
    "#allgamesimilarities_df.to_pickle('BGG_GameSimilarityMatrixP4.pkl',protocol=4)"
   ]
  },
  {
   "cell_type": "code",
   "execution_count": 47,
   "metadata": {},
   "outputs": [
    {
     "data": {
      "text/html": [
       "<div>\n",
       "<style scoped>\n",
       "    .dataframe tbody tr th:only-of-type {\n",
       "        vertical-align: middle;\n",
       "    }\n",
       "\n",
       "    .dataframe tbody tr th {\n",
       "        vertical-align: top;\n",
       "    }\n",
       "\n",
       "    .dataframe thead th {\n",
       "        text-align: right;\n",
       "    }\n",
       "</style>\n",
       "<table border=\"1\" class=\"dataframe\">\n",
       "  <thead>\n",
       "    <tr style=\"text-align: right;\">\n",
       "      <th></th>\n",
       "      <th>idx</th>\n",
       "      <th>game_rank</th>\n",
       "      <th>game_name</th>\n",
       "    </tr>\n",
       "  </thead>\n",
       "  <tbody>\n",
       "    <tr>\n",
       "      <th>0</th>\n",
       "      <td>0</td>\n",
       "      <td>1</td>\n",
       "      <td>Gloomhaven</td>\n",
       "    </tr>\n",
       "    <tr>\n",
       "      <th>1</th>\n",
       "      <td>1</td>\n",
       "      <td>2</td>\n",
       "      <td>Pandemic Legacy: Season 1</td>\n",
       "    </tr>\n",
       "    <tr>\n",
       "      <th>2</th>\n",
       "      <td>2</td>\n",
       "      <td>3</td>\n",
       "      <td>Terraforming Mars</td>\n",
       "    </tr>\n",
       "    <tr>\n",
       "      <th>3</th>\n",
       "      <td>3</td>\n",
       "      <td>4</td>\n",
       "      <td>Brass: Birmingham</td>\n",
       "    </tr>\n",
       "    <tr>\n",
       "      <th>4</th>\n",
       "      <td>4</td>\n",
       "      <td>5</td>\n",
       "      <td>Through the Ages: A New Story of Civilization</td>\n",
       "    </tr>\n",
       "  </tbody>\n",
       "</table>\n",
       "</div>"
      ],
      "text/plain": [
       "   idx  game_rank                                      game_name\n",
       "0    0          1                                     Gloomhaven\n",
       "1    1          2                      Pandemic Legacy: Season 1\n",
       "2    2          3                              Terraforming Mars\n",
       "3    3          4                              Brass: Birmingham\n",
       "4    4          5  Through the Ages: A New Story of Civilization"
      ]
     },
     "execution_count": 47,
     "metadata": {},
     "output_type": "execute_result"
    }
   ],
   "source": [
    "finalgamelist_df = pd.DataFrame({'idx':allgamesdesc_df.index,'game_rank':np.array(list(allgamesdesc_df['game_rank'].astype('int32'))),'game_name':np.array(list(allgamesdesc_df['game_name']))})\n",
    "finalgamelist_df.head()"
   ]
  },
  {
   "cell_type": "code",
   "execution_count": 48,
   "metadata": {},
   "outputs": [
    {
     "data": {
      "text/html": [
       "<div>\n",
       "<style scoped>\n",
       "    .dataframe tbody tr th:only-of-type {\n",
       "        vertical-align: middle;\n",
       "    }\n",
       "\n",
       "    .dataframe tbody tr th {\n",
       "        vertical-align: top;\n",
       "    }\n",
       "\n",
       "    .dataframe thead th {\n",
       "        text-align: right;\n",
       "    }\n",
       "</style>\n",
       "<table border=\"1\" class=\"dataframe\">\n",
       "  <thead>\n",
       "    <tr style=\"text-align: right;\">\n",
       "      <th></th>\n",
       "      <th>idx</th>\n",
       "      <th>game_rank</th>\n",
       "      <th>game_name</th>\n",
       "    </tr>\n",
       "  </thead>\n",
       "  <tbody>\n",
       "    <tr>\n",
       "      <th>18556</th>\n",
       "      <td>18895</td>\n",
       "      <td>18896</td>\n",
       "      <td>Buckaroo!</td>\n",
       "    </tr>\n",
       "    <tr>\n",
       "      <th>18557</th>\n",
       "      <td>18896</td>\n",
       "      <td>18897</td>\n",
       "      <td>Snap</td>\n",
       "    </tr>\n",
       "    <tr>\n",
       "      <th>18558</th>\n",
       "      <td>18897</td>\n",
       "      <td>18898</td>\n",
       "      <td>Mad Gab</td>\n",
       "    </tr>\n",
       "    <tr>\n",
       "      <th>18559</th>\n",
       "      <td>18898</td>\n",
       "      <td>18899</td>\n",
       "      <td>Titanic: The Board Game</td>\n",
       "    </tr>\n",
       "    <tr>\n",
       "      <th>18560</th>\n",
       "      <td>18899</td>\n",
       "      <td>18900</td>\n",
       "      <td>Tenzi</td>\n",
       "    </tr>\n",
       "  </tbody>\n",
       "</table>\n",
       "</div>"
      ],
      "text/plain": [
       "         idx  game_rank                game_name\n",
       "18556  18895      18896                Buckaroo!\n",
       "18557  18896      18897                     Snap\n",
       "18558  18897      18898                  Mad Gab\n",
       "18559  18898      18899  Titanic: The Board Game\n",
       "18560  18899      18900                    Tenzi"
      ]
     },
     "execution_count": 48,
     "metadata": {},
     "output_type": "execute_result"
    }
   ],
   "source": [
    "finalgamelist_df.tail()"
   ]
  },
  {
   "cell_type": "code",
   "execution_count": 49,
   "metadata": {},
   "outputs": [
    {
     "data": {
      "text/plain": [
       "(18561, 3)"
      ]
     },
     "execution_count": 49,
     "metadata": {},
     "output_type": "execute_result"
    }
   ],
   "source": [
    "finalgamelist_df.shape"
   ]
  },
  {
   "cell_type": "code",
   "execution_count": null,
   "metadata": {},
   "outputs": [],
   "source": []
  },
  {
   "cell_type": "code",
   "execution_count": 50,
   "metadata": {},
   "outputs": [],
   "source": [
    "# SAVE DATA\n",
    "finalgamelist_df.to_pickle('datasources/BGG_GameSimilarityKey.pkl')\n",
    "#finalgamelist_df.to_csv('BGG_GameSimilarityKey.csv')"
   ]
  },
  {
   "cell_type": "code",
   "execution_count": null,
   "metadata": {},
   "outputs": [],
   "source": [
    "finalgamelist_df.tail()"
   ]
  },
  {
   "cell_type": "code",
   "execution_count": null,
   "metadata": {},
   "outputs": [],
   "source": []
  },
  {
   "cell_type": "code",
   "execution_count": null,
   "metadata": {},
   "outputs": [],
   "source": []
  },
  {
   "cell_type": "code",
   "execution_count": null,
   "metadata": {},
   "outputs": [],
   "source": [
    "allgamesdesc_df"
   ]
  },
  {
   "cell_type": "code",
   "execution_count": null,
   "metadata": {},
   "outputs": [],
   "source": []
  },
  {
   "cell_type": "code",
   "execution_count": null,
   "metadata": {},
   "outputs": [],
   "source": []
  },
  {
   "cell_type": "markdown",
   "metadata": {},
   "source": [
    "## Test some random sets"
   ]
  },
  {
   "cell_type": "code",
   "execution_count": null,
   "metadata": {},
   "outputs": [],
   "source": [
    "allgamesimilarities_df.shape"
   ]
  },
  {
   "cell_type": "code",
   "execution_count": null,
   "metadata": {},
   "outputs": [],
   "source": [
    "ii = np.append(0,np.random.randint(0,18560,6))"
   ]
  },
  {
   "cell_type": "code",
   "execution_count": null,
   "metadata": {},
   "outputs": [],
   "source": [
    "ax = sns.heatmap(allgamesimilarities_df.iloc[ii,ii], cmap='hot')"
   ]
  },
  {
   "cell_type": "code",
   "execution_count": null,
   "metadata": {},
   "outputs": [],
   "source": [
    "list(allgamesimilarities_df.index[ii])"
   ]
  },
  {
   "cell_type": "code",
   "execution_count": null,
   "metadata": {},
   "outputs": [],
   "source": [
    "finalgamelist_df.loc[ii,'gamename']"
   ]
  },
  {
   "cell_type": "markdown",
   "metadata": {},
   "source": [
    "# Find game most similar to..."
   ]
  },
  {
   "cell_type": "code",
   "execution_count": 51,
   "metadata": {},
   "outputs": [],
   "source": [
    "from fuzzywuzzy import fuzz\n",
    "from fuzzywuzzy import process"
   ]
  },
  {
   "cell_type": "code",
   "execution_count": 52,
   "metadata": {},
   "outputs": [],
   "source": [
    "def get_similar_games(mygamename):\n",
    "    gamename_matchlist = [fuzz.token_sort_ratio(x,mygamename) for x in finalgamelist_df['gamename']]\n",
    "    possiblegame_idx  = [i for i, x in enumerate(gamename_matchlist) if x == max(gamename_matchlist)]\n",
    "    possiblegame_idx = possiblegame_idx[0] # Get first, make it number\n",
    "    possiblegame_name = list(finalgamelist_df.loc[finalgamelist_df['idx']==possiblegame_idx,'gamename'])[0]\n",
    "    print('Best match: {}'.format(possiblegame_name))\n",
    "\n",
    "    mygamevect = list(allgamesimilarities_df.loc[:,possiblegame_name])\n",
    "    mygamevect_df = pd.DataFrame({'gamename':allgamesimilarities_df.index,'cosinesimilarity':mygamevect})\n",
    "    mygamevect_df.sort_values(by='cosinesimilarity',inplace=True,ascending=False)\n",
    "    \n",
    "    return mygamevect_df"
   ]
  },
  {
   "cell_type": "code",
   "execution_count": null,
   "metadata": {},
   "outputs": [],
   "source": [
    "mygamename='elfenland'\n",
    "mygamevect_df = get_similar_games(mygamename)\n",
    "mygamevect_df.head(11)\n"
   ]
  },
  {
   "cell_type": "code",
   "execution_count": null,
   "metadata": {},
   "outputs": [],
   "source": []
  },
  {
   "cell_type": "code",
   "execution_count": null,
   "metadata": {},
   "outputs": [],
   "source": []
  },
  {
   "cell_type": "code",
   "execution_count": null,
   "metadata": {},
   "outputs": [],
   "source": []
  },
  {
   "cell_type": "markdown",
   "metadata": {},
   "source": [
    "# ROUGHWORK"
   ]
  },
  {
   "cell_type": "code",
   "execution_count": 56,
   "metadata": {},
   "outputs": [],
   "source": [
    "dum2 = allgamesdesc_df.loc[0,'desc_clean']"
   ]
  },
  {
   "cell_type": "code",
   "execution_count": 57,
   "metadata": {},
   "outputs": [
    {
     "data": {
      "text/plain": [
       "'gloomhaven is a game of euroinspired tactical combat in a persistent world of shifting motif player will take on the role of a wandering adventurer with their own special set of skill and their own reason for traveling to this dark corner of the world player must work together out of necessity to clear out menacing dungeon and forgotten ruin in the process they will enhance their ability with experience and loot discover new location to explore and plunder and expand an everbranching story fueled by the decision they make this is a game with a persistent and changing world that is ideally played over many game session after a scenario player will make decision on what to do which will determine how the story continues kind of like a choose your own adventure book playing through a scenario is a cooperative affair where player will fight against automated monster using an innovative card system to determine the order of play and what a player doe on their turn'"
      ]
     },
     "execution_count": 57,
     "metadata": {},
     "output_type": "execute_result"
    }
   ],
   "source": [
    "dum2"
   ]
  },
  {
   "cell_type": "code",
   "execution_count": null,
   "metadata": {},
   "outputs": [],
   "source": [
    "\n"
   ]
  },
  {
   "cell_type": "code",
   "execution_count": 53,
   "metadata": {},
   "outputs": [],
   "source": [
    "import pandas as pd\n",
    "import sklearn.metrics.pairwise as sklpw"
   ]
  },
  {
   "cell_type": "code",
   "execution_count": 54,
   "metadata": {},
   "outputs": [],
   "source": [
    "##### GET THE DATA\n",
    "# Game data\n",
    "allgamedata_df = pd.read_pickle('datasources/BGG_FINAL.pkl') # USE ONLY FOR URLS\n",
    "allgamedata_df = allgamedata_df.astype({'game_rank':'int32'},copy=True)\n",
    "finalgamelist_df = pd.read_pickle('datasources/BGG_GameSimilarityKey.pkl')\n",
    "finalgamelist_df.reset_index(drop=True,inplace=True) # So that row ids are indices to gamevector array\n",
    "# Semantic game vectors\n",
    "allgamedocvects = np.load('datasources/allgamedocvects.npz')['arr_0']"
   ]
  },
  {
   "cell_type": "code",
   "execution_count": 58,
   "metadata": {},
   "outputs": [
    {
     "ename": "AttributeError",
     "evalue": "'str' object has no attribute 'iloc'",
     "output_type": "error",
     "traceback": [
      "\u001b[0;31m---------------------------------------------------------------------------\u001b[0m",
      "\u001b[0;31mAttributeError\u001b[0m                            Traceback (most recent call last)",
      "\u001b[0;32m<ipython-input-58-9b94b829920e>\u001b[0m in \u001b[0;36m<module>\u001b[0;34m\u001b[0m\n\u001b[0;32m----> 1\u001b[0;31m \u001b[0mmygamevector\u001b[0m \u001b[0;34m=\u001b[0m \u001b[0mnp\u001b[0m\u001b[0;34m.\u001b[0m\u001b[0marray\u001b[0m\u001b[0;34m(\u001b[0m\u001b[0mdum2\u001b[0m\u001b[0;34m.\u001b[0m\u001b[0miloc\u001b[0m\u001b[0;34m[\u001b[0m\u001b[0;34m:\u001b[0m\u001b[0;34m,\u001b[0m\u001b[0;36m0\u001b[0m\u001b[0;34m]\u001b[0m\u001b[0;34m)\u001b[0m\u001b[0;34m\u001b[0m\u001b[0;34m\u001b[0m\u001b[0m\n\u001b[0m\u001b[1;32m      2\u001b[0m \u001b[0mmygamevector\u001b[0m\u001b[0;34m=\u001b[0m \u001b[0mmygamevector\u001b[0m\u001b[0;34m.\u001b[0m\u001b[0mreshape\u001b[0m\u001b[0;34m(\u001b[0m\u001b[0;34m-\u001b[0m\u001b[0;36m1\u001b[0m\u001b[0;34m,\u001b[0m\u001b[0;36m1\u001b[0m\u001b[0;34m)\u001b[0m\u001b[0;34m\u001b[0m\u001b[0;34m\u001b[0m\u001b[0m\n",
      "\u001b[0;31mAttributeError\u001b[0m: 'str' object has no attribute 'iloc'"
     ]
    }
   ],
   "source": [
    "mygamevector = np.array(dum2.iloc[:,0])\n",
    "mygamevector= mygamevector.reshape(-1,1)"
   ]
  },
  {
   "cell_type": "code",
   "execution_count": null,
   "metadata": {},
   "outputs": [],
   "source": [
    "##### SEMANTICS BASED\n",
    "mysimilarities = []\n",
    "for t in range(0,allgamedocvects.shape[0]):\n",
    "    currgamevect = allgamedocvects[t,:]\n",
    "    currgamevect = currgamevect.reshape(-1,1)\n",
    "    dum = sklpw.cosine_similarity(currgamevect.T,mygamevector.T)\n",
    "    mysimilarities.append(dum[0][0])\n",
    "mycompletesimlist_df = pd.concat((finalgamelist_df['game_rank'],finalgamelist_df['game_name'],pd.DataFrame({'Similarity':mysimilarities})),axis=1)\n",
    "mytop10simlist_df = mycompletesimlist_df.copy()\n",
    "mytop10simlist_df.sort_values(by='Similarity',ascending=False)\n",
    "mytop10simlist_df = mytop10simlist_df[1:11]"
   ]
  },
  {
   "cell_type": "code",
   "execution_count": null,
   "metadata": {},
   "outputs": [],
   "source": [
    "mycompletesimlist_df = pd.concat((finalgamelist_df['game_rank'],finalgamelist_df['game_name'],pd.DataFrame({'Similarity':mysimilarities})),axis=1)\n",
    "mytop10simlist_df = mycompletesimlist_df.copy()\n",
    "mytop10simlist_df.sort_values(by='Similarity',ascending=False,inplace=True)\n",
    "mytop10simlist_df = mytop10simlist_df[1:11]\n",
    "mytop10simlist_df"
   ]
  },
  {
   "cell_type": "code",
   "execution_count": null,
   "metadata": {},
   "outputs": [],
   "source": [
    "# Create output list\n",
    "urllist=[]\n",
    "for gamename in mytop10simlist_df['game_name']:\n",
    "    urllist.append(list(allgamedata_df.loc[allgamedata_df['game_name']==gamename,'bgg_url'])[0])\n",
    "mytop10simlist_df = pd.DataFrame({'Game':mytop10simlist_df['game_name'],'url':urllist})\n",
    "mytop10simlist_df.reset_index(drop=True,inplace=True)\n",
    "mytop10simlist_df.index = mytop10simlist_df.index+1\n",
    "#return mytop10simlist_df"
   ]
  },
  {
   "cell_type": "code",
   "execution_count": null,
   "metadata": {},
   "outputs": [],
   "source": [
    "mytop10simlist_df"
   ]
  },
  {
   "cell_type": "code",
   "execution_count": null,
   "metadata": {},
   "outputs": [],
   "source": []
  },
  {
   "cell_type": "code",
   "execution_count": null,
   "metadata": {},
   "outputs": [],
   "source": [
    "dumdesc =  'my SO and I recently started our venture into board gaming, and it quite quickly became apparent that we are very different players: she likes the solitaire euro games (e.g. she loves Terraforming Mars and Ticket to Ride), where she can ponder best move (talk about analysis paralysis) and ( literally almost always) come out on top. I instead am more impatient, get fairly quickly bored with the aforementioned games, and prefer games where there is tons of player interaction and a strong theme (e.g. ArkhM LCG, which she hates 😂). We have settled on more abstract simpler games like Azul and coop games - pandemic (looking forward to season 1 arriving soon) and considering spirit island. '\n",
    "dumdesc"
   ]
  },
  {
   "cell_type": "code",
   "execution_count": 63,
   "metadata": {},
   "outputs": [],
   "source": [
    "dumdesc = 'solitaire euro terraforming ticket ponder analysis impatient quick bored interaction theme'\n",
    "dumdesc = 'quick exciting adventure control'"
   ]
  },
  {
   "cell_type": "code",
   "execution_count": 64,
   "metadata": {},
   "outputs": [],
   "source": [
    "from bgg_functions import *"
   ]
  },
  {
   "cell_type": "code",
   "execution_count": 68,
   "metadata": {},
   "outputs": [],
   "source": [
    "dv = description2vector(dumdesc)"
   ]
  },
  {
   "cell_type": "code",
   "execution_count": 69,
   "metadata": {},
   "outputs": [],
   "source": [
    "gamelist = vector2similargameurls(dv)"
   ]
  },
  {
   "cell_type": "code",
   "execution_count": 70,
   "metadata": {},
   "outputs": [
    {
     "data": {
      "text/html": [
       "<div>\n",
       "<style scoped>\n",
       "    .dataframe tbody tr th:only-of-type {\n",
       "        vertical-align: middle;\n",
       "    }\n",
       "\n",
       "    .dataframe tbody tr th {\n",
       "        vertical-align: top;\n",
       "    }\n",
       "\n",
       "    .dataframe thead th {\n",
       "        text-align: right;\n",
       "    }\n",
       "</style>\n",
       "<table border=\"1\" class=\"dataframe\">\n",
       "  <thead>\n",
       "    <tr style=\"text-align: right;\">\n",
       "      <th></th>\n",
       "      <th>Game</th>\n",
       "      <th>url</th>\n",
       "    </tr>\n",
       "  </thead>\n",
       "  <tbody>\n",
       "    <tr>\n",
       "      <th>1</th>\n",
       "      <td>Rommel at Gazala</td>\n",
       "      <td>https://boardgamegeek.com//boardgame/11112/rom...</td>\n",
       "    </tr>\n",
       "    <tr>\n",
       "      <th>2</th>\n",
       "      <td>1825 Unit 3</td>\n",
       "      <td>https://boardgamegeek.com//boardgame/15999/182...</td>\n",
       "    </tr>\n",
       "    <tr>\n",
       "      <th>3</th>\n",
       "      <td>Back to Iraq</td>\n",
       "      <td>https://boardgamegeek.com//boardgame/4381/back...</td>\n",
       "    </tr>\n",
       "    <tr>\n",
       "      <th>4</th>\n",
       "      <td>7 Deadly Sins</td>\n",
       "      <td>https://boardgamegeek.com//boardgame/13935/7-d...</td>\n",
       "    </tr>\n",
       "    <tr>\n",
       "      <th>5</th>\n",
       "      <td>Crazier Eights</td>\n",
       "      <td>https://boardgamegeek.com//boardgame/160545/cr...</td>\n",
       "    </tr>\n",
       "    <tr>\n",
       "      <th>6</th>\n",
       "      <td>Agra</td>\n",
       "      <td>https://boardgamegeek.com//boardgame/230085/agra</td>\n",
       "    </tr>\n",
       "    <tr>\n",
       "      <th>7</th>\n",
       "      <td>hus</td>\n",
       "      <td>https://boardgamegeek.com//boardgame/25999/hus</td>\n",
       "    </tr>\n",
       "    <tr>\n",
       "      <th>8</th>\n",
       "      <td>Rapscallion</td>\n",
       "      <td>https://boardgamegeek.com//boardgame/33958/rap...</td>\n",
       "    </tr>\n",
       "    <tr>\n",
       "      <th>9</th>\n",
       "      <td>Introduction to Advanced Dungeons &amp; Dragons</td>\n",
       "      <td>https://boardgamegeek.com//boardgame/7849/intr...</td>\n",
       "    </tr>\n",
       "    <tr>\n",
       "      <th>10</th>\n",
       "      <td>Trivial Pursuit: DVD Pop Culture Game</td>\n",
       "      <td>https://boardgamegeek.com//boardgame/8039/triv...</td>\n",
       "    </tr>\n",
       "  </tbody>\n",
       "</table>\n",
       "</div>"
      ],
      "text/plain": [
       "                                           Game  \\\n",
       "1                              Rommel at Gazala   \n",
       "2                                   1825 Unit 3   \n",
       "3                                  Back to Iraq   \n",
       "4                                 7 Deadly Sins   \n",
       "5                                Crazier Eights   \n",
       "6                                          Agra   \n",
       "7                                           hus   \n",
       "8                                   Rapscallion   \n",
       "9   Introduction to Advanced Dungeons & Dragons   \n",
       "10        Trivial Pursuit: DVD Pop Culture Game   \n",
       "\n",
       "                                                  url  \n",
       "1   https://boardgamegeek.com//boardgame/11112/rom...  \n",
       "2   https://boardgamegeek.com//boardgame/15999/182...  \n",
       "3   https://boardgamegeek.com//boardgame/4381/back...  \n",
       "4   https://boardgamegeek.com//boardgame/13935/7-d...  \n",
       "5   https://boardgamegeek.com//boardgame/160545/cr...  \n",
       "6    https://boardgamegeek.com//boardgame/230085/agra  \n",
       "7      https://boardgamegeek.com//boardgame/25999/hus  \n",
       "8   https://boardgamegeek.com//boardgame/33958/rap...  \n",
       "9   https://boardgamegeek.com//boardgame/7849/intr...  \n",
       "10  https://boardgamegeek.com//boardgame/8039/triv...  "
      ]
     },
     "execution_count": 70,
     "metadata": {},
     "output_type": "execute_result"
    }
   ],
   "source": [
    "gamelist"
   ]
  },
  {
   "cell_type": "code",
   "execution_count": null,
   "metadata": {},
   "outputs": [],
   "source": []
  }
 ],
 "metadata": {
  "kernelspec": {
   "display_name": "Python 3",
   "language": "python",
   "name": "python3"
  },
  "language_info": {
   "codemirror_mode": {
    "name": "ipython",
    "version": 3
   },
   "file_extension": ".py",
   "mimetype": "text/x-python",
   "name": "python",
   "nbconvert_exporter": "python",
   "pygments_lexer": "ipython3",
   "version": "3.8.2"
  }
 },
 "nbformat": 4,
 "nbformat_minor": 4
}
