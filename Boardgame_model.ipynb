{
 "cells": [
  {
   "cell_type": "code",
   "execution_count": 1,
   "metadata": {},
   "outputs": [],
   "source": [
    "import numpy as np\n",
    "import pandas as pd\n",
    "import re\n",
    "import sklearn.metrics.pairwise as smp\n",
    "import seaborn as sns \n",
    "import matplotlib.pyplot as plt"
   ]
  },
  {
   "cell_type": "code",
   "execution_count": 7,
   "metadata": {},
   "outputs": [],
   "source": [
    "bggdata_df = pd.read_pickle('datasources/BGG_FINAL.pkl')"
   ]
  },
  {
   "cell_type": "code",
   "execution_count": 8,
   "metadata": {},
   "outputs": [
    {
     "data": {
      "text/plain": [
       "Index(['game_rank', 'geek_rating', 'avg_rating', 'num_raters', 'game_name',\n",
       "       'game_year', 'bgg_url', 'reimpl0', 'reimpl0href', 'ranks', 'avgrating',\n",
       "       'titleinfo', 'gameplayinfo', 'gamecredits', 'ftr_title', 'ftr_descr',\n",
       "       'gamedscription', 'rnkoverall', 'rnkthematic', 'rnkstrategy',\n",
       "       'shortsummary', 'numplayersmin', 'numplayersmax', 'gamedurmin',\n",
       "       'gamedurmax', 'agemin', 'gameweight', 'designer', 'artist', 'publisher',\n",
       "       'gametype', 'gamecategory', 'gamemechanisms', 'gamefamily', 'rnkwar',\n",
       "       'rnkcustomizable', 'rnkfamily', 'rnkabstract', 'rnkparty',\n",
       "       'rnkchildren's', 'rnkamiga', 'rnkcommodore64', 'rnkarcade',\n",
       "       'rnkatariST'],\n",
       "      dtype='object')"
      ]
     },
     "execution_count": 8,
     "metadata": {},
     "output_type": "execute_result"
    }
   ],
   "source": [
    "bggdata_df.columns"
   ]
  },
  {
   "cell_type": "markdown",
   "metadata": {},
   "source": [
    "### Get game word2vec"
   ]
  },
  {
   "cell_type": "code",
   "execution_count": 9,
   "metadata": {},
   "outputs": [
    {
     "name": "stdout",
     "output_type": "stream",
     "text": [
      "['gloomhaven', 'is', 'a', 'game', 'of', 'tactical', 'combat', 'in', 'persistent', 'world', 'shifting']\n"
     ]
    }
   ],
   "source": [
    "from gensim.models import Word2Vec\n",
    "bgg_model = Word2Vec.load('datasources/bgg_w2v_model.bin')\n",
    "words = list(bgg_model.wv.vocab)\n",
    "print(words[:11])"
   ]
  },
  {
   "cell_type": "markdown",
   "metadata": {},
   "source": [
    "# Create vectors for all boardgames"
   ]
  },
  {
   "cell_type": "markdown",
   "metadata": {},
   "source": [
    "## Create game description document sanitizer:"
   ]
  },
  {
   "cell_type": "code",
   "execution_count": 10,
   "metadata": {},
   "outputs": [],
   "source": [
    "from nltk.tokenize import sent_tokenize, word_tokenize\n",
    "from nltk.stem import WordNetLemmatizer\n",
    "import nltk\n",
    "from nltk.corpus import stopwords\n",
    "\n",
    "stop_words = set(stopwords.words('english')) \n",
    "\n",
    "def word_lemmatizer(text):\n",
    "    lem_text = [WordNetLemmatizer().lemmatize(i) for i in text]\n",
    "    return lem_text\n",
    "\n",
    "\n",
    "def sanitize_text(df, text_field, new_text_field_name):\n",
    "    stop_words = set(stopwords.words('english')) \n",
    "\n",
    "    # CLEAN\n",
    "    df[new_text_field_name] = df[text_field].str.lower()\n",
    "\n",
    "    df[new_text_field_name] = df[new_text_field_name].apply(lambda elem: re.sub(r\"\\d+\", \"\", elem)) \n",
    "\n",
    "    df[new_text_field_name] = df[new_text_field_name].apply(lambda elem: re.sub(r\"(@[A-Za-z0-9]+)|([^0-9A-Za-z \\t])|(\\w+:\\/\\/\\S+)|^rt|http.+?\", \"\", elem))  \n",
    "    # remove numbers\n",
    "    df[new_text_field_name] = df[new_text_field_name].apply(lambda elem: re.sub(r\"\\d+\", \"\", elem))\n",
    "\n",
    "    # DISINFECT - aka TOKENIZATION\n",
    "    df[new_text_field_name] = df[new_text_field_name].apply(lambda elem: word_tokenize(elem))\n",
    "\n",
    "    # Remove STOP words\n",
    "    for ii in df.index:\n",
    "        try:\n",
    "            currii=ii\n",
    "            #df.loc[ii,new_text_field_name] = [w for w in df.loc[ii,new_text_field_name] if not w in stop_words]\n",
    "        except:\n",
    "            print('this ii: {}'.format(ii))\n",
    "        \n",
    "    # CAUTERIZE - aka LEMMATIZATION\n",
    "    #df[new_text_field_name] = df[new_text_field_name].apply(lambda elem: word_lemmatizer(elem))\n",
    "    \n",
    "    return df\n",
    "    "
   ]
  },
  {
   "cell_type": "code",
   "execution_count": 11,
   "metadata": {},
   "outputs": [
    {
     "data": {
      "text/plain": [
       "(3, 2)"
      ]
     },
     "execution_count": 11,
     "metadata": {},
     "output_type": "execute_result"
    }
   ],
   "source": [
    "testdf = pd.DataFrame({'desc':bggdata_df.loc[[0, 126, 151],'gamedscription']})\n",
    "testdf = sanitize_text(testdf,'desc','desc2')\n",
    "testdf.shape"
   ]
  },
  {
   "cell_type": "markdown",
   "metadata": {},
   "source": [
    "## Get average vectors for each game description"
   ]
  },
  {
   "cell_type": "code",
   "execution_count": 12,
   "metadata": {},
   "outputs": [],
   "source": [
    "gamedocvects_df = pd.DataFrame({})\n",
    "\n",
    "for currdoc in testdf['desc2']:\n",
    "    numw = len(currdoc)\n",
    "    docvect_df = pd.DataFrame({})\n",
    "    for w in range(0,numw): # Over all words in the doc\n",
    "        if currdoc[w] in words:\n",
    "            docvect_df = pd.concat((docvect_df,pd.DataFrame(bgg_model.wv[currdoc[w]])),axis=1)\n",
    "    gamedocvects_df = pd.concat((gamedocvects_df,docvect_df.mean(axis=1)),axis=1)\n",
    "    "
   ]
  },
  {
   "cell_type": "markdown",
   "metadata": {},
   "source": [
    "### Sanity check"
   ]
  },
  {
   "cell_type": "code",
   "execution_count": 13,
   "metadata": {},
   "outputs": [
    {
     "data": {
      "text/plain": [
       "<matplotlib.axes._subplots.AxesSubplot at 0x125a69640>"
      ]
     },
     "execution_count": 13,
     "metadata": {},
     "output_type": "execute_result"
    },
    {
     "data": {
      "image/png": "[encoded data removed]",
      "text/plain": [
       "<Figure size 432x288 with 1 Axes>"
      ]
     },
     "metadata": {
      "needs_background": "light"
     },
     "output_type": "display_data"
    }
   ],
   "source": [
    "sns.distplot(np.ravel(gamedocvects_df))"
   ]
  },
  {
   "cell_type": "code",
   "execution_count": 14,
   "metadata": {},
   "outputs": [],
   "source": [
    "gamedocvects = np.array(gamedocvects_df).T # vectors, 1 per document: each ROW is a game\n",
    "gamesimilarities = smp.cosine_similarity(gamedocvects)\n",
    "gamesimilarities_df = pd.DataFrame(gamesimilarities,columns=list(bggdata_df.loc[testdf.index,'game_name']),index=list(bggdata_df.loc[testdf.index,'game_name']))"
   ]
  },
  {
   "cell_type": "code",
   "execution_count": 15,
   "metadata": {},
   "outputs": [
    {
     "data": {
      "image/png": "[encoded data removed]",
      "text/plain": [
       "<Figure size 648x504 with 2 Axes>"
      ]
     },
     "metadata": {},
     "output_type": "display_data"
    }
   ],
   "source": [
    "sns.set(context='talk')\n",
    "f,a = plt.subplots(1,1,figsize=(9,7))\n",
    "ax = sns.heatmap(gamesimilarities_df, cmap='hot')"
   ]
  },
  {
   "cell_type": "code",
   "execution_count": null,
   "metadata": {},
   "outputs": [],
   "source": []
  },
  {
   "cell_type": "markdown",
   "metadata": {},
   "source": [
    "# Get similarities for ALL GAMES \n",
    "### Select only games with desc lens >N\n",
    "### N >= 200"
   ]
  },
  {
   "cell_type": "code",
   "execution_count": 16,
   "metadata": {},
   "outputs": [],
   "source": [
    "N=200\n",
    "allgamesdesc_df = pd.DataFrame({'idx':bggdata_df.index,'gamename':bggdata_df['game_name'],'desc':bggdata_df['gamedscription']})\n",
    "allgamesdesc_df = allgamesdesc_df[allgamesdesc_df['desc'].str.len()>=N]"
   ]
  },
  {
   "cell_type": "code",
   "execution_count": 17,
   "metadata": {},
   "outputs": [
    {
     "data": {
      "text/plain": [
       "(18561, 3)"
      ]
     },
     "execution_count": 17,
     "metadata": {},
     "output_type": "execute_result"
    }
   ],
   "source": [
    "allgamesdesc_df.shape"
   ]
  },
  {
   "cell_type": "code",
   "execution_count": 18,
   "metadata": {},
   "outputs": [],
   "source": [
    "dum_df = sanitize_text(pd.DataFrame(allgamesdesc_df['desc']),'desc','desc_clean')"
   ]
  },
  {
   "cell_type": "code",
   "execution_count": 19,
   "metadata": {},
   "outputs": [],
   "source": [
    "allgamesdesc_df['desc_clean'] = dum_df['desc_clean']"
   ]
  },
  {
   "cell_type": "code",
   "execution_count": 20,
   "metadata": {},
   "outputs": [
    {
     "data": {
      "text/html": [
       "<div>\n",
       "<style scoped>\n",
       "    .dataframe tbody tr th:only-of-type {\n",
       "        vertical-align: middle;\n",
       "    }\n",
       "\n",
       "    .dataframe tbody tr th {\n",
       "        vertical-align: top;\n",
       "    }\n",
       "\n",
       "    .dataframe thead th {\n",
       "        text-align: right;\n",
       "    }\n",
       "</style>\n",
       "<table border=\"1\" class=\"dataframe\">\n",
       "  <thead>\n",
       "    <tr style=\"text-align: right;\">\n",
       "      <th></th>\n",
       "      <th>idx</th>\n",
       "      <th>gamename</th>\n",
       "      <th>desc</th>\n",
       "      <th>desc_clean</th>\n",
       "    </tr>\n",
       "  </thead>\n",
       "  <tbody>\n",
       "    <tr>\n",
       "      <th>0</th>\n",
       "      <td>0</td>\n",
       "      <td>Gloomhaven</td>\n",
       "      <td>Gloomhaven is a game of Euro-inspired tactical...</td>\n",
       "      <td>[gloomhaven, is, a, game, of, euroinspired, ta...</td>\n",
       "    </tr>\n",
       "    <tr>\n",
       "      <th>1</th>\n",
       "      <td>1</td>\n",
       "      <td>Pandemic Legacy: Season 1</td>\n",
       "      <td>Pandemic Legacy is a co-operative campaign gam...</td>\n",
       "      <td>[pandemic, legacy, is, a, cooperative, campaig...</td>\n",
       "    </tr>\n",
       "    <tr>\n",
       "      <th>2</th>\n",
       "      <td>2</td>\n",
       "      <td>Terraforming Mars</td>\n",
       "      <td>In the 2400s, mankind begins to terraform the ...</td>\n",
       "      <td>[in, the, s, mankind, begins, to, terraform, t...</td>\n",
       "    </tr>\n",
       "  </tbody>\n",
       "</table>\n",
       "</div>"
      ],
      "text/plain": [
       "   idx                   gamename  \\\n",
       "0    0                 Gloomhaven   \n",
       "1    1  Pandemic Legacy: Season 1   \n",
       "2    2          Terraforming Mars   \n",
       "\n",
       "                                                desc  \\\n",
       "0  Gloomhaven is a game of Euro-inspired tactical...   \n",
       "1  Pandemic Legacy is a co-operative campaign gam...   \n",
       "2  In the 2400s, mankind begins to terraform the ...   \n",
       "\n",
       "                                          desc_clean  \n",
       "0  [gloomhaven, is, a, game, of, euroinspired, ta...  \n",
       "1  [pandemic, legacy, is, a, cooperative, campaig...  \n",
       "2  [in, the, s, mankind, begins, to, terraform, t...  "
      ]
     },
     "execution_count": 20,
     "metadata": {},
     "output_type": "execute_result"
    }
   ],
   "source": [
    "allgamesdesc_df.head(3)"
   ]
  },
  {
   "cell_type": "code",
   "execution_count": 21,
   "metadata": {},
   "outputs": [],
   "source": [
    "allgamedocvects_df = pd.DataFrame({})\n",
    "\n",
    "for currdoc in allgamesdesc_df['desc_clean']:\n",
    "    numw = len(currdoc)\n",
    "    docvect_df = pd.DataFrame({})\n",
    "    for w in range(0,numw): # Over all words in the doc\n",
    "        if currdoc[w] in words:\n",
    "            docvect_df = pd.concat((docvect_df,pd.DataFrame(bgg_model.wv[currdoc[w]])),axis=1)\n",
    "    allgamedocvects_df = pd.concat((allgamedocvects_df,docvect_df.mean(axis=1)),axis=1)\n",
    "    "
   ]
  },
  {
   "cell_type": "code",
   "execution_count": 22,
   "metadata": {},
   "outputs": [
    {
     "data": {
      "text/plain": [
       "<matplotlib.axes._subplots.AxesSubplot at 0x1256fa2e0>"
      ]
     },
     "execution_count": 22,
     "metadata": {},
     "output_type": "execute_result"
    },
    {
     "data": {
      "image/png": "[encoded data removed]",
      "text/plain": [
       "<Figure size 432x288 with 1 Axes>"
      ]
     },
     "metadata": {},
     "output_type": "display_data"
    }
   ],
   "source": [
    "sns.distplot(np.ravel(allgamedocvects_df))"
   ]
  },
  {
   "cell_type": "code",
   "execution_count": 23,
   "metadata": {},
   "outputs": [
    {
     "name": "stdout",
     "output_type": "stream",
     "text": [
      "Each ROW is a game; shape of matrix is: (18561, 100)\n"
     ]
    }
   ],
   "source": [
    "allgamedocvects = np.array(allgamedocvects_df).T # Transpose so each ROW is a game.\n",
    "print('Each ROW is a game; shape of matrix is: {}'.format(allgamedocvects.shape))"
   ]
  },
  {
   "cell_type": "code",
   "execution_count": 45,
   "metadata": {},
   "outputs": [],
   "source": [
    "allgamedocvects_array = np.asarray(allgamedocvects)\n",
    "np.savez_compressed('allgamedocvects.npy', allgamedocvects_array)"
   ]
  },
  {
   "cell_type": "code",
   "execution_count": null,
   "metadata": {},
   "outputs": [],
   "source": []
  },
  {
   "cell_type": "code",
   "execution_count": 24,
   "metadata": {},
   "outputs": [],
   "source": [
    "allgamesimilarities = smp.cosine_similarity(allgamedocvects)"
   ]
  },
  {
   "cell_type": "code",
   "execution_count": 25,
   "metadata": {},
   "outputs": [
    {
     "data": {
      "text/plain": [
       "(18561, 18561)"
      ]
     },
     "execution_count": 25,
     "metadata": {},
     "output_type": "execute_result"
    }
   ],
   "source": [
    "allgamesimilarities.shape"
   ]
  },
  {
   "cell_type": "code",
   "execution_count": 26,
   "metadata": {},
   "outputs": [],
   "source": [
    "allgamesimilarities_df = pd.DataFrame(allgamesimilarities,columns=list(allgamesdesc_df['gamename']),index=list(allgamesdesc_df['gamename']))"
   ]
  },
  {
   "cell_type": "code",
   "execution_count": 28,
   "metadata": {},
   "outputs": [],
   "source": [
    "# SAVE DATA\n",
    "#allgamesimilarities_df.to_csv('BGG_GameSimilarityMatrix.csv')\n",
    "#allgamesimilarities_df.to_pickle('BGG_GameSimilarityMatrixP4.pkl',protocol=4)"
   ]
  },
  {
   "cell_type": "code",
   "execution_count": 27,
   "metadata": {},
   "outputs": [],
   "source": [
    "finalgamelist_df = pd.DataFrame({'idx':allgamesdesc_df.index,'gamename':np.array(list(allgamesdesc_df['gamename']))})"
   ]
  },
  {
   "cell_type": "code",
   "execution_count": 29,
   "metadata": {},
   "outputs": [],
   "source": [
    "# SAVE DATA\n",
    "#finalgamelist_df.to_pickle('BGG_GameSimilarityKeyP4.pkl',protocol=4)\n",
    "#finalgamelist_df.to_csv('BGG_GameSimilarityKey.csv')"
   ]
  },
  {
   "cell_type": "code",
   "execution_count": null,
   "metadata": {},
   "outputs": [],
   "source": []
  },
  {
   "cell_type": "code",
   "execution_count": null,
   "metadata": {},
   "outputs": [],
   "source": []
  },
  {
   "cell_type": "code",
   "execution_count": null,
   "metadata": {},
   "outputs": [],
   "source": []
  },
  {
   "cell_type": "markdown",
   "metadata": {},
   "source": [
    "## Test some random sets"
   ]
  },
  {
   "cell_type": "code",
   "execution_count": 30,
   "metadata": {},
   "outputs": [
    {
     "data": {
      "text/plain": [
       "(18561, 18561)"
      ]
     },
     "execution_count": 30,
     "metadata": {},
     "output_type": "execute_result"
    }
   ],
   "source": [
    "allgamesimilarities_df.shape"
   ]
  },
  {
   "cell_type": "code",
   "execution_count": 31,
   "metadata": {},
   "outputs": [],
   "source": [
    "ii = np.append(0,np.random.randint(0,18560,6))"
   ]
  },
  {
   "cell_type": "code",
   "execution_count": 32,
   "metadata": {},
   "outputs": [
    {
     "data": {
      "image/png": "[encoded data removed]",
      "text/plain": [
       "<Figure size 432x288 with 2 Axes>"
      ]
     },
     "metadata": {},
     "output_type": "display_data"
    }
   ],
   "source": [
    "ax = sns.heatmap(allgamesimilarities_df.iloc[ii,ii], cmap='hot')"
   ]
  },
  {
   "cell_type": "code",
   "execution_count": 33,
   "metadata": {},
   "outputs": [
    {
     "data": {
      "text/plain": [
       "['Gloomhaven',\n",
       " 'Heads of State',\n",
       " 'Prelude to Rebellion: Mobilization & Unrest in Lower Canada 1834-1837',\n",
       " 'USAC Auto Racing',\n",
       " 'De Stijl',\n",
       " 'Stalingrad: Inferno on the Volga',\n",
       " 'ESCAPE Dysturbia: Mörderischer Maskenball']"
      ]
     },
     "execution_count": 33,
     "metadata": {},
     "output_type": "execute_result"
    }
   ],
   "source": [
    "list(allgamesimilarities_df.index[ii])"
   ]
  },
  {
   "cell_type": "code",
   "execution_count": 34,
   "metadata": {},
   "outputs": [
    {
     "data": {
      "text/plain": [
       "0                                               Gloomhaven\n",
       "5140                                        Heads of State\n",
       "7070     Prelude to Rebellion: Mobilization & Unrest in...\n",
       "13342                                     USAC Auto Racing\n",
       "10420                                             De Stijl\n",
       "4497                      Stalingrad: Inferno on the Volga\n",
       "7027             ESCAPE Dysturbia: Mörderischer Maskenball\n",
       "Name: gamename, dtype: object"
      ]
     },
     "execution_count": 34,
     "metadata": {},
     "output_type": "execute_result"
    }
   ],
   "source": [
    "finalgamelist_df.loc[ii,'gamename']"
   ]
  },
  {
   "cell_type": "markdown",
   "metadata": {},
   "source": [
    "# Find game most similar to..."
   ]
  },
  {
   "cell_type": "code",
   "execution_count": 35,
   "metadata": {},
   "outputs": [],
   "source": [
    "from fuzzywuzzy import fuzz\n",
    "from fuzzywuzzy import process"
   ]
  },
  {
   "cell_type": "code",
   "execution_count": 36,
   "metadata": {},
   "outputs": [],
   "source": [
    "def get_similar_games(mygamename):\n",
    "    gamename_matchlist = [fuzz.token_sort_ratio(x,mygamename) for x in finalgamelist_df['gamename']]\n",
    "    possiblegame_idx  = [i for i, x in enumerate(gamename_matchlist) if x == max(gamename_matchlist)]\n",
    "    possiblegame_idx = possiblegame_idx[0] # Get first, make it number\n",
    "    possiblegame_name = list(finalgamelist_df.loc[finalgamelist_df['idx']==possiblegame_idx,'gamename'])[0]\n",
    "    print('Best match: {}'.format(possiblegame_name))\n",
    "\n",
    "    mygamevect = list(allgamesimilarities_df.loc[:,possiblegame_name])\n",
    "    mygamevect_df = pd.DataFrame({'gamename':allgamesimilarities_df.index,'cosinesimilarity':mygamevect})\n",
    "    mygamevect_df.sort_values(by='cosinesimilarity',inplace=True,ascending=False)\n",
    "    \n",
    "    return mygamevect_df"
   ]
  },
  {
   "cell_type": "code",
   "execution_count": 37,
   "metadata": {},
   "outputs": [
    {
     "name": "stdout",
     "output_type": "stream",
     "text": [
      "Best match: Elfenland\n"
     ]
    },
    {
     "data": {
      "text/html": [
       "<div>\n",
       "<style scoped>\n",
       "    .dataframe tbody tr th:only-of-type {\n",
       "        vertical-align: middle;\n",
       "    }\n",
       "\n",
       "    .dataframe tbody tr th {\n",
       "        vertical-align: top;\n",
       "    }\n",
       "\n",
       "    .dataframe thead th {\n",
       "        text-align: right;\n",
       "    }\n",
       "</style>\n",
       "<table border=\"1\" class=\"dataframe\">\n",
       "  <thead>\n",
       "    <tr style=\"text-align: right;\">\n",
       "      <th></th>\n",
       "      <th>gamename</th>\n",
       "      <th>cosinesimilarity</th>\n",
       "    </tr>\n",
       "  </thead>\n",
       "  <tbody>\n",
       "    <tr>\n",
       "      <th>959</th>\n",
       "      <td>Elfenland</td>\n",
       "      <td>1.000000</td>\n",
       "    </tr>\n",
       "    <tr>\n",
       "      <th>7128</th>\n",
       "      <td>Der Fliegende Holländer</td>\n",
       "      <td>0.992225</td>\n",
       "    </tr>\n",
       "    <tr>\n",
       "      <th>13019</th>\n",
       "      <td>RoboTroc</td>\n",
       "      <td>0.991096</td>\n",
       "    </tr>\n",
       "    <tr>\n",
       "      <th>2648</th>\n",
       "      <td>Raxxon</td>\n",
       "      <td>0.991045</td>\n",
       "    </tr>\n",
       "    <tr>\n",
       "      <th>3684</th>\n",
       "      <td>Gravity Superstar</td>\n",
       "      <td>0.990996</td>\n",
       "    </tr>\n",
       "    <tr>\n",
       "      <th>6851</th>\n",
       "      <td>Lighthouse Run</td>\n",
       "      <td>0.990870</td>\n",
       "    </tr>\n",
       "    <tr>\n",
       "      <th>12526</th>\n",
       "      <td>Carrossel</td>\n",
       "      <td>0.990756</td>\n",
       "    </tr>\n",
       "    <tr>\n",
       "      <th>16094</th>\n",
       "      <td>Migrato</td>\n",
       "      <td>0.990678</td>\n",
       "    </tr>\n",
       "    <tr>\n",
       "      <th>9774</th>\n",
       "      <td>Fish 'n' Flips</td>\n",
       "      <td>0.990528</td>\n",
       "    </tr>\n",
       "    <tr>\n",
       "      <th>13683</th>\n",
       "      <td>Fliegende Teppiche</td>\n",
       "      <td>0.990500</td>\n",
       "    </tr>\n",
       "    <tr>\n",
       "      <th>11577</th>\n",
       "      <td>Grund</td>\n",
       "      <td>0.990425</td>\n",
       "    </tr>\n",
       "  </tbody>\n",
       "</table>\n",
       "</div>"
      ],
      "text/plain": [
       "                      gamename  cosinesimilarity\n",
       "959                  Elfenland          1.000000\n",
       "7128   Der Fliegende Holländer          0.992225\n",
       "13019                 RoboTroc          0.991096\n",
       "2648                    Raxxon          0.991045\n",
       "3684         Gravity Superstar          0.990996\n",
       "6851            Lighthouse Run          0.990870\n",
       "12526                Carrossel          0.990756\n",
       "16094                  Migrato          0.990678\n",
       "9774            Fish 'n' Flips          0.990528\n",
       "13683       Fliegende Teppiche          0.990500\n",
       "11577                    Grund          0.990425"
      ]
     },
     "execution_count": 37,
     "metadata": {},
     "output_type": "execute_result"
    }
   ],
   "source": [
    "mygamename='elfenland'\n",
    "mygamevect_df = get_similar_games(mygamename)\n",
    "mygamevect_df.head(11)\n"
   ]
  },
  {
   "cell_type": "code",
   "execution_count": null,
   "metadata": {},
   "outputs": [],
   "source": []
  },
  {
   "cell_type": "code",
   "execution_count": null,
   "metadata": {},
   "outputs": [],
   "source": []
  },
  {
   "cell_type": "code",
   "execution_count": null,
   "metadata": {},
   "outputs": [],
   "source": []
  },
  {
   "cell_type": "code",
   "execution_count": null,
   "metadata": {},
   "outputs": [],
   "source": []
  },
  {
   "cell_type": "code",
   "execution_count": null,
   "metadata": {},
   "outputs": [],
   "source": []
  }
 ],
 "metadata": {
  "kernelspec": {
   "display_name": "Python 3",
   "language": "python",
   "name": "python3"
  },
  "language_info": {
   "codemirror_mode": {
    "name": "ipython",
    "version": 3
   },
   "file_extension": ".py",
   "mimetype": "text/x-python",
   "name": "python",
   "nbconvert_exporter": "python",
   "pygments_lexer": "ipython3",
   "version": "3.8.2"
  }
 },
 "nbformat": 4,
 "nbformat_minor": 4
}
