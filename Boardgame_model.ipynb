{
 "cells": [
  {
   "cell_type": "code",
   "execution_count": 1,
   "metadata": {},
   "outputs": [],
   "source": [
    "import numpy as np\n",
    "import pandas as pd\n",
    "import re\n",
    "import sklearn.metrics.pairwise as smp\n",
    "import seaborn as sns \n",
    "import matplotlib.pyplot as plt"
   ]
  },
  {
   "cell_type": "code",
   "execution_count": 2,
   "metadata": {},
   "outputs": [],
   "source": [
    "bggdata_df = pd.read_pickle('datasources/BGG_FINAL.pkl')"
   ]
  },
  {
   "cell_type": "code",
   "execution_count": 3,
   "metadata": {},
   "outputs": [
    {
     "data": {
      "text/plain": [
       "Index(['game_rank', 'geek_rating', 'avg_rating', 'num_raters', 'game_name',\n",
       "       'game_year', 'bgg_url', 'reimpl0', 'reimpl0href', 'ranks', 'avgrating',\n",
       "       'titleinfo', 'gameplayinfo', 'gamecredits', 'ftr_title', 'ftr_descr',\n",
       "       'gamedscription', 'rnkoverall', 'rnkthematic', 'rnkstrategy',\n",
       "       'shortsummary', 'numplayersmin', 'numplayersmax', 'gamedurmin',\n",
       "       'gamedurmax', 'agemin', 'gameweight', 'designer', 'artist', 'publisher',\n",
       "       'gametype', 'gamecategory', 'gamemechanisms', 'gamefamily', 'rnkwar',\n",
       "       'rnkcustomizable', 'rnkfamily', 'rnkabstract', 'rnkparty',\n",
       "       'rnkchildren's', 'rnkamiga', 'rnkcommodore64', 'rnkarcade',\n",
       "       'rnkatariST'],\n",
       "      dtype='object')"
      ]
     },
     "execution_count": 3,
     "metadata": {},
     "output_type": "execute_result"
    }
   ],
   "source": [
    "bggdata_df.columns"
   ]
  },
  {
   "cell_type": "markdown",
   "metadata": {},
   "source": [
    "### Get game word2vec"
   ]
  },
  {
   "cell_type": "code",
   "execution_count": 4,
   "metadata": {},
   "outputs": [
    {
     "name": "stdout",
     "output_type": "stream",
     "text": [
      "['gloomhaven', 'is', 'a', 'game', 'of', 'tactical', 'combat', 'in', 'persistent', 'world', 'shifting']\n"
     ]
    }
   ],
   "source": [
    "from gensim.models import Word2Vec\n",
    "bgg_model = Word2Vec.load('datasources/bgg_w2v_model.bin')\n",
    "words = list(bgg_model.wv.vocab)\n",
    "print(words[:11])"
   ]
  },
  {
   "cell_type": "markdown",
   "metadata": {},
   "source": [
    "# Create vectors for all boardgames"
   ]
  },
  {
   "cell_type": "markdown",
   "metadata": {},
   "source": [
    "## Create game description document sanitizer:"
   ]
  },
  {
   "cell_type": "code",
   "execution_count": 5,
   "metadata": {},
   "outputs": [],
   "source": [
    "from nltk.tokenize import sent_tokenize, word_tokenize\n",
    "from nltk.stem import WordNetLemmatizer\n",
    "import nltk\n",
    "from nltk.corpus import stopwords\n",
    "\n",
    "stop_words = set(stopwords.words('english')) \n",
    "\n",
    "def word_lemmatizer(text):\n",
    "    lem_text = [WordNetLemmatizer().lemmatize(i) for i in text]\n",
    "    return lem_text\n",
    "\n",
    "\n",
    "def sanitize_text(df, text_field, new_text_field_name):\n",
    "    stop_words = set(stopwords.words('english')) \n",
    "\n",
    "    # CLEAN\n",
    "    df[new_text_field_name] = df[text_field].str.lower()\n",
    "\n",
    "    df[new_text_field_name] = df[new_text_field_name].apply(lambda elem: re.sub(r\"\\d+\", \"\", elem)) \n",
    "\n",
    "    df[new_text_field_name] = df[new_text_field_name].apply(lambda elem: re.sub(r\"(@[A-Za-z0-9]+)|([^0-9A-Za-z \\t])|(\\w+:\\/\\/\\S+)|^rt|http.+?\", \"\", elem))  \n",
    "    # remove numbers\n",
    "    df[new_text_field_name] = df[new_text_field_name].apply(lambda elem: re.sub(r\"\\d+\", \"\", elem))\n",
    "\n",
    "    # DISINFECT - aka TOKENIZATION\n",
    "    df[new_text_field_name] = df[new_text_field_name].apply(lambda elem: word_tokenize(elem))\n",
    "\n",
    "    # Remove STOP words\n",
    "    for ii in df.index:\n",
    "        try:\n",
    "            currii=ii\n",
    "            #df.loc[ii,new_text_field_name] = [w for w in df.loc[ii,new_text_field_name] if not w in stop_words]\n",
    "        except:\n",
    "            print('this ii: {}'.format(ii))\n",
    "        \n",
    "    # CAUTERIZE - aka LEMMATIZATION\n",
    "    #df[new_text_field_name] = df[new_text_field_name].apply(lambda elem: word_lemmatizer(elem))\n",
    "    \n",
    "    return df\n",
    "    "
   ]
  },
  {
   "cell_type": "code",
   "execution_count": 10,
   "metadata": {},
   "outputs": [
    {
     "data": {
      "text/plain": [
       "(3, 2)"
      ]
     },
     "execution_count": 10,
     "metadata": {},
     "output_type": "execute_result"
    }
   ],
   "source": [
    "testdf = pd.DataFrame({'desc':bggdata_df.loc[[0, 126, 151],'gamedscription']})\n",
    "testdf = sanitize_text(testdf,'desc','desc2')\n",
    "testdf.shape"
   ]
  },
  {
   "cell_type": "markdown",
   "metadata": {},
   "source": [
    "## Get average vectors for each game description"
   ]
  },
  {
   "cell_type": "code",
   "execution_count": 11,
   "metadata": {},
   "outputs": [],
   "source": [
    "gamedocvects_df = pd.DataFrame({})\n",
    "\n",
    "for currdoc in testdf['desc2']:\n",
    "    numw = len(currdoc)\n",
    "    docvect_df = pd.DataFrame({})\n",
    "    for w in range(0,numw): # Over all words in the doc\n",
    "        if currdoc[w] in words:\n",
    "            docvect_df = pd.concat((docvect_df,pd.DataFrame(bgg_model.wv[currdoc[w]])),axis=1)\n",
    "    gamedocvects_df = pd.concat((gamedocvects_df,docvect_df.mean(axis=1)),axis=1)\n",
    "    "
   ]
  },
  {
   "cell_type": "markdown",
   "metadata": {},
   "source": [
    "### Sanity check"
   ]
  },
  {
   "cell_type": "code",
   "execution_count": 12,
   "metadata": {},
   "outputs": [
    {
     "data": {
      "text/plain": [
       "<matplotlib.axes._subplots.AxesSubplot at 0x11f65fb20>"
      ]
     },
     "execution_count": 12,
     "metadata": {},
     "output_type": "execute_result"
    },
    {
     "data": {
      "image/png": "[encoded data removed]",
      "text/plain": [
       "<Figure size 432x288 with 1 Axes>"
      ]
     },
     "metadata": {
      "needs_background": "light"
     },
     "output_type": "display_data"
    }
   ],
   "source": [
    "sns.distplot(np.ravel(gamedocvects_df))"
   ]
  },
  {
   "cell_type": "code",
   "execution_count": 13,
   "metadata": {},
   "outputs": [],
   "source": [
    "gamedocvects = np.array(gamedocvects_df).T # vectors, 1 per document: each ROW is a game\n",
    "gamesimilarities = smp.cosine_similarity(gamedocvects)\n",
    "gamesimilarities_df = pd.DataFrame(gamesimilarities,columns=list(bggdata_df.loc[testdf.index,'game_name']),index=list(bggdata_df.loc[testdf.index,'game_name']))"
   ]
  },
  {
   "cell_type": "code",
   "execution_count": 18,
   "metadata": {},
   "outputs": [
    {
     "data": {
      "image/png": "[encoded data removed]",
      "text/plain": [
       "<Figure size 648x504 with 2 Axes>"
      ]
     },
     "metadata": {},
     "output_type": "display_data"
    }
   ],
   "source": [
    "sns.set(context='talk')\n",
    "f,a = plt.subplots(1,1,figsize=(9,7))\n",
    "ax = sns.heatmap(gamesimilarities_df, cmap='hot')"
   ]
  },
  {
   "cell_type": "code",
   "execution_count": null,
   "metadata": {},
   "outputs": [],
   "source": []
  },
  {
   "cell_type": "markdown",
   "metadata": {},
   "source": [
    "# Get similarities for ALL GAMES \n",
    "### Select only games with desc lens >N\n",
    "### N >= 200"
   ]
  },
  {
   "cell_type": "code",
   "execution_count": 90,
   "metadata": {},
   "outputs": [],
   "source": [
    "N=200\n",
    "allgamesdesc_df = pd.DataFrame({'idx':bggdata_df.index,'gamename':bggdata_df['game_name'],'desc':bggdata_df['gamedscription']})\n",
    "allgamesdesc_df = allgamesdesc_df[allgamesdesc_df['desc'].str.len()>=N]"
   ]
  },
  {
   "cell_type": "code",
   "execution_count": 91,
   "metadata": {},
   "outputs": [
    {
     "data": {
      "text/plain": [
       "(18561, 3)"
      ]
     },
     "execution_count": 91,
     "metadata": {},
     "output_type": "execute_result"
    }
   ],
   "source": [
    "allgamesdesc_df.shape"
   ]
  },
  {
   "cell_type": "code",
   "execution_count": 109,
   "metadata": {},
   "outputs": [],
   "source": [
    "dum_df = sanitize_text(pd.DataFrame(allgamesdesc_df['desc']),'desc','desc_clean')"
   ]
  },
  {
   "cell_type": "code",
   "execution_count": 110,
   "metadata": {},
   "outputs": [],
   "source": [
    "allgamesdesc_df['desc_clean'] = dum_df['desc_clean']"
   ]
  },
  {
   "cell_type": "code",
   "execution_count": 112,
   "metadata": {},
   "outputs": [
    {
     "data": {
      "text/html": [
       "<div>\n",
       "<style scoped>\n",
       "    .dataframe tbody tr th:only-of-type {\n",
       "        vertical-align: middle;\n",
       "    }\n",
       "\n",
       "    .dataframe tbody tr th {\n",
       "        vertical-align: top;\n",
       "    }\n",
       "\n",
       "    .dataframe thead th {\n",
       "        text-align: right;\n",
       "    }\n",
       "</style>\n",
       "<table border=\"1\" class=\"dataframe\">\n",
       "  <thead>\n",
       "    <tr style=\"text-align: right;\">\n",
       "      <th></th>\n",
       "      <th>idx</th>\n",
       "      <th>gamename</th>\n",
       "      <th>desc</th>\n",
       "      <th>desc_clean</th>\n",
       "    </tr>\n",
       "  </thead>\n",
       "  <tbody>\n",
       "    <tr>\n",
       "      <th>0</th>\n",
       "      <td>0</td>\n",
       "      <td>Gloomhaven</td>\n",
       "      <td>Gloomhaven is a game of Euro-inspired tactical...</td>\n",
       "      <td>[gloomhaven, is, a, game, of, euroinspired, ta...</td>\n",
       "    </tr>\n",
       "    <tr>\n",
       "      <th>1</th>\n",
       "      <td>1</td>\n",
       "      <td>Pandemic Legacy: Season 1</td>\n",
       "      <td>Pandemic Legacy is a co-operative campaign gam...</td>\n",
       "      <td>[pandemic, legacy, is, a, cooperative, campaig...</td>\n",
       "    </tr>\n",
       "    <tr>\n",
       "      <th>2</th>\n",
       "      <td>2</td>\n",
       "      <td>Terraforming Mars</td>\n",
       "      <td>In the 2400s, mankind begins to terraform the ...</td>\n",
       "      <td>[in, the, s, mankind, begins, to, terraform, t...</td>\n",
       "    </tr>\n",
       "  </tbody>\n",
       "</table>\n",
       "</div>"
      ],
      "text/plain": [
       "   idx                   gamename  \\\n",
       "0    0                 Gloomhaven   \n",
       "1    1  Pandemic Legacy: Season 1   \n",
       "2    2          Terraforming Mars   \n",
       "\n",
       "                                                desc  \\\n",
       "0  Gloomhaven is a game of Euro-inspired tactical...   \n",
       "1  Pandemic Legacy is a co-operative campaign gam...   \n",
       "2  In the 2400s, mankind begins to terraform the ...   \n",
       "\n",
       "                                          desc_clean  \n",
       "0  [gloomhaven, is, a, game, of, euroinspired, ta...  \n",
       "1  [pandemic, legacy, is, a, cooperative, campaig...  \n",
       "2  [in, the, s, mankind, begins, to, terraform, t...  "
      ]
     },
     "execution_count": 112,
     "metadata": {},
     "output_type": "execute_result"
    }
   ],
   "source": [
    "allgamesdesc_df.head(3)"
   ]
  },
  {
   "cell_type": "code",
   "execution_count": 114,
   "metadata": {},
   "outputs": [],
   "source": [
    "allgamedocvects_df = pd.DataFrame({})\n",
    "\n",
    "for currdoc in allgamesdesc_df['desc_clean']:\n",
    "    numw = len(currdoc)\n",
    "    docvect_df = pd.DataFrame({})\n",
    "    for w in range(0,numw): # Over all words in the doc\n",
    "        if currdoc[w] in words:\n",
    "            docvect_df = pd.concat((docvect_df,pd.DataFrame(bgg_model.wv[currdoc[w]])),axis=1)\n",
    "    allgamedocvects_df = pd.concat((allgamedocvects_df,docvect_df.mean(axis=1)),axis=1)\n",
    "    "
   ]
  },
  {
   "cell_type": "code",
   "execution_count": 115,
   "metadata": {},
   "outputs": [
    {
     "data": {
      "text/plain": [
       "<matplotlib.axes._subplots.AxesSubplot at 0x14cdfaa00>"
      ]
     },
     "execution_count": 115,
     "metadata": {},
     "output_type": "execute_result"
    },
    {
     "data": {
      "image/png": "[encoded data removed]",
      "text/plain": [
       "<Figure size 432x288 with 1 Axes>"
      ]
     },
     "metadata": {
      "needs_background": "light"
     },
     "output_type": "display_data"
    }
   ],
   "source": [
    "sns.distplot(np.ravel(allgamedocvects_df))"
   ]
  },
  {
   "cell_type": "code",
   "execution_count": 116,
   "metadata": {},
   "outputs": [
    {
     "name": "stdout",
     "output_type": "stream",
     "text": [
      "Each ROW is a game; shape of matrix is: (18561, 100)\n"
     ]
    }
   ],
   "source": [
    "allgamedocvects = np.array(allgamedocvects_df).T # Transpose so each ROW is a game.\n",
    "print('Each ROW is a game; shape of matrix is: {}'.format(allgamedocvects.shape))"
   ]
  },
  {
   "cell_type": "code",
   "execution_count": 117,
   "metadata": {},
   "outputs": [],
   "source": [
    "allgamesimilarities = smp.cosine_similarity(allgamedocvects)"
   ]
  },
  {
   "cell_type": "code",
   "execution_count": 151,
   "metadata": {},
   "outputs": [
    {
     "data": {
      "text/plain": [
       "(18561, 18561)"
      ]
     },
     "execution_count": 151,
     "metadata": {},
     "output_type": "execute_result"
    }
   ],
   "source": [
    "allgamesimilarities.shape"
   ]
  },
  {
   "cell_type": "code",
   "execution_count": 120,
   "metadata": {},
   "outputs": [],
   "source": [
    "allgamesimilarities_df = pd.DataFrame(allgamesimilarities,columns=list(allgamesdesc_df['gamename']),index=list(allgamesdesc_df['gamename']))"
   ]
  },
  {
   "cell_type": "code",
   "execution_count": 122,
   "metadata": {},
   "outputs": [],
   "source": [
    "# SAVE DATA\n",
    "#allgamesimilarities_df.to_csv('BGG_GameSimilarityMatrix.csv')\n",
    "#allgamesimilarities_df.to_pickle('BGG_GameSimilarityMatrix.pkl')"
   ]
  },
  {
   "cell_type": "code",
   "execution_count": 159,
   "metadata": {},
   "outputs": [],
   "source": [
    "finalgamelist_df = pd.DataFrame({'idx':allgamesdesc_df.index,'gamename':np.array(list(allgamesdesc_df['gamename']))})"
   ]
  },
  {
   "cell_type": "code",
   "execution_count": 160,
   "metadata": {},
   "outputs": [],
   "source": [
    "# SAVE DATA\n",
    "#finalgamelist_df.to_pickle('BGG_GameSimilarityKey.pkl')\n",
    "#finalgamelist_df.to_csv('BGG_GameSimilarityKey.csv')"
   ]
  },
  {
   "cell_type": "markdown",
   "metadata": {},
   "source": [
    "## Test some random sets"
   ]
  },
  {
   "cell_type": "code",
   "execution_count": 125,
   "metadata": {},
   "outputs": [
    {
     "data": {
      "text/plain": [
       "(18561, 18561)"
      ]
     },
     "execution_count": 125,
     "metadata": {},
     "output_type": "execute_result"
    }
   ],
   "source": [
    "allgamesimilarities_df.shape"
   ]
  },
  {
   "cell_type": "code",
   "execution_count": 152,
   "metadata": {},
   "outputs": [],
   "source": [
    "ii = np.append(0,np.random.randint(0,18560,6))"
   ]
  },
  {
   "cell_type": "code",
   "execution_count": 153,
   "metadata": {},
   "outputs": [
    {
     "data": {
      "image/png": "[encoded data removed]",
      "text/plain": [
       "<Figure size 432x288 with 2 Axes>"
      ]
     },
     "metadata": {
      "needs_background": "light"
     },
     "output_type": "display_data"
    }
   ],
   "source": [
    "ax = sns.heatmap(allgamesimilarities_df.iloc[ii,ii], cmap='hot')"
   ]
  },
  {
   "cell_type": "code",
   "execution_count": 154,
   "metadata": {},
   "outputs": [
    {
     "data": {
      "text/plain": [
       "['Gloomhaven',\n",
       " \"The Red Dragon's Lair\",\n",
       " 'Battlefront: WWII',\n",
       " 'Switchboard',\n",
       " 'Red Sun/Red Star: The Nomonhan Campaign, 1939',\n",
       " 'Darkest Night (Second edition)',\n",
       " 'Great War at Sea 2: The North & Baltic Seas']"
      ]
     },
     "execution_count": 154,
     "metadata": {},
     "output_type": "execute_result"
    }
   ],
   "source": [
    "list(allgamesimilarities_df.index[ii])"
   ]
  },
  {
   "cell_type": "code",
   "execution_count": 158,
   "metadata": {},
   "outputs": [
    {
     "data": {
      "text/plain": [
       "0                                           Gloomhaven\n",
       "16715                            The Red Dragon's Lair\n",
       "8994                                 Battlefront: WWII\n",
       "13390                                      Switchboard\n",
       "13884    Red Sun/Red Star: The Nomonhan Campaign, 1939\n",
       "2373                    Darkest Night (Second edition)\n",
       "7660       Great War at Sea 2: The North & Baltic Seas\n",
       "Name: gamename, dtype: object"
      ]
     },
     "execution_count": 158,
     "metadata": {},
     "output_type": "execute_result"
    }
   ],
   "source": [
    "finalgamelist.loc[ii,'gamename']"
   ]
  },
  {
   "cell_type": "markdown",
   "metadata": {},
   "source": [
    "# Find game most similar to..."
   ]
  },
  {
   "cell_type": "code",
   "execution_count": null,
   "metadata": {},
   "outputs": [],
   "source": [
    "from fuzzywuzzy import fuzz\n",
    "from fuzzywuzzy import process"
   ]
  },
  {
   "cell_type": "code",
   "execution_count": 446,
   "metadata": {},
   "outputs": [],
   "source": [
    "def get_similar_games(mygamename):\n",
    "    gamename_matchlist = [fuzz.token_sort_ratio(x,mygamename) for x in finalgamelist_df['gamename']]\n",
    "    possiblegame_idx  = [i for i, x in enumerate(gamename_matchlist) if x == max(gamename_matchlist)]\n",
    "    possiblegame_idx = possiblegame_idx[0] # Get first, make it number\n",
    "    possiblegame_name = list(finalgamelist_df.loc[finalgamelist_df['idx']==possiblegame_idx,'gamename'])[0]\n",
    "    print('Best match: {}'.format(possiblegame_name))\n",
    "\n",
    "    mygamevect = list(allgamesimilarities_df.loc[:,possiblegame_name])\n",
    "    mygamevect_df = pd.DataFrame({'gamename':allgamesimilarities_df.index,'cosinesimilarity':mygamevect})\n",
    "    mygamevect_df.sort_values(by='cosinesimilarity',inplace=True,ascending=False)\n",
    "    \n",
    "    return mygamevect_df"
   ]
  },
  {
   "cell_type": "code",
   "execution_count": 447,
   "metadata": {},
   "outputs": [
    {
     "name": "stdout",
     "output_type": "stream",
     "text": [
      "Best match: Codenames\n"
     ]
    },
    {
     "data": {
      "text/html": [
       "<div>\n",
       "<style scoped>\n",
       "    .dataframe tbody tr th:only-of-type {\n",
       "        vertical-align: middle;\n",
       "    }\n",
       "\n",
       "    .dataframe tbody tr th {\n",
       "        vertical-align: top;\n",
       "    }\n",
       "\n",
       "    .dataframe thead th {\n",
       "        text-align: right;\n",
       "    }\n",
       "</style>\n",
       "<table border=\"1\" class=\"dataframe\">\n",
       "  <thead>\n",
       "    <tr style=\"text-align: right;\">\n",
       "      <th></th>\n",
       "      <th>gamename</th>\n",
       "      <th>cosinesimilarity</th>\n",
       "    </tr>\n",
       "  </thead>\n",
       "  <tbody>\n",
       "    <tr>\n",
       "      <th>77</th>\n",
       "      <td>Codenames</td>\n",
       "      <td>1.000000</td>\n",
       "    </tr>\n",
       "    <tr>\n",
       "      <th>1672</th>\n",
       "      <td>Codenames: Deep Undercover</td>\n",
       "      <td>0.991408</td>\n",
       "    </tr>\n",
       "    <tr>\n",
       "      <th>11435</th>\n",
       "      <td>Codenames: The Simpsons</td>\n",
       "      <td>0.983244</td>\n",
       "    </tr>\n",
       "    <tr>\n",
       "      <th>3892</th>\n",
       "      <td>Codenames: Marvel</td>\n",
       "      <td>0.981780</td>\n",
       "    </tr>\n",
       "    <tr>\n",
       "      <th>6178</th>\n",
       "      <td>Final Touch</td>\n",
       "      <td>0.979883</td>\n",
       "    </tr>\n",
       "    <tr>\n",
       "      <th>11263</th>\n",
       "      <td>Affinity</td>\n",
       "      <td>0.978917</td>\n",
       "    </tr>\n",
       "    <tr>\n",
       "      <th>14891</th>\n",
       "      <td>Women vs. Men Alias</td>\n",
       "      <td>0.977765</td>\n",
       "    </tr>\n",
       "    <tr>\n",
       "      <th>105</th>\n",
       "      <td>Decrypto</td>\n",
       "      <td>0.977177</td>\n",
       "    </tr>\n",
       "    <tr>\n",
       "      <th>7934</th>\n",
       "      <td>Buzzword</td>\n",
       "      <td>0.977151</td>\n",
       "    </tr>\n",
       "    <tr>\n",
       "      <th>9649</th>\n",
       "      <td>Spy Alley</td>\n",
       "      <td>0.977005</td>\n",
       "    </tr>\n",
       "    <tr>\n",
       "      <th>11385</th>\n",
       "      <td>Honeycombs</td>\n",
       "      <td>0.975738</td>\n",
       "    </tr>\n",
       "  </tbody>\n",
       "</table>\n",
       "</div>"
      ],
      "text/plain": [
       "                         gamename  cosinesimilarity\n",
       "77                      Codenames          1.000000\n",
       "1672   Codenames: Deep Undercover          0.991408\n",
       "11435     Codenames: The Simpsons          0.983244\n",
       "3892            Codenames: Marvel          0.981780\n",
       "6178                  Final Touch          0.979883\n",
       "11263                    Affinity          0.978917\n",
       "14891         Women vs. Men Alias          0.977765\n",
       "105                      Decrypto          0.977177\n",
       "7934                     Buzzword          0.977151\n",
       "9649                    Spy Alley          0.977005\n",
       "11385                  Honeycombs          0.975738"
      ]
     },
     "execution_count": 447,
     "metadata": {},
     "output_type": "execute_result"
    }
   ],
   "source": [
    "mygamename='codenms'\n",
    "mygamevect_df = get_similar_games(mygamename)\n",
    "mygamevect_df.head(11)"
   ]
  },
  {
   "cell_type": "code",
   "execution_count": null,
   "metadata": {},
   "outputs": [],
   "source": []
  },
  {
   "cell_type": "code",
   "execution_count": null,
   "metadata": {},
   "outputs": [],
   "source": []
  },
  {
   "cell_type": "code",
   "execution_count": null,
   "metadata": {},
   "outputs": [],
   "source": []
  },
  {
   "cell_type": "code",
   "execution_count": null,
   "metadata": {},
   "outputs": [],
   "source": []
  },
  {
   "cell_type": "code",
   "execution_count": null,
   "metadata": {},
   "outputs": [],
   "source": []
  },
  {
   "cell_type": "code",
   "execution_count": null,
   "metadata": {},
   "outputs": [],
   "source": []
  }
 ],
 "metadata": {
  "kernelspec": {
   "display_name": "Python 3",
   "language": "python",
   "name": "python3"
  },
  "language_info": {
   "codemirror_mode": {
    "name": "ipython",
    "version": 3
   },
   "file_extension": ".py",
   "mimetype": "text/x-python",
   "name": "python",
   "nbconvert_exporter": "python",
   "pygments_lexer": "ipython3",
   "version": "3.8.2"
  }
 },
 "nbformat": 4,
 "nbformat_minor": 4
}
