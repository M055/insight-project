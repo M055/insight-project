{
 "cells": [
  {
   "cell_type": "markdown",
   "metadata": {},
   "source": [
    "# On-the-fly ggame computation"
   ]
  },
  {
   "cell_type": "code",
   "execution_count": 7,
   "metadata": {},
   "outputs": [],
   "source": [
    "import pandas as pd\n",
    "import seaborn as sns\n",
    "import numpy as np\n",
    "import streamlit as st\n",
    "import sklearn.metrics.pairwise as sklpw\n",
    "from PIL import Image\n",
    "from fuzzywuzzy import fuzz\n",
    "import re"
   ]
  },
  {
   "cell_type": "code",
   "execution_count": 8,
   "metadata": {},
   "outputs": [],
   "source": [
    "# LOAD DATA\n",
    "allgamedata_df = pd.read_pickle('datasources/gamerankurl.pkl') # USE ONLY FOR URLS\n",
    "allgamedata_df = allgamedata_df.astype({'game_rank':'int32'},copy=True)\n",
    "allgamedocvects = np.load('datasources/allgamedocvects_v3.npz')['arr_0']\n",
    "finalgamelist_df = pd.read_pickle('datasources/BGG_GameSimilarityKey.pkl')\n",
    "finalgamelist_df =  finalgamelist_df.astype({'game_rank':'int32'},copy=True)\n",
    "finalgamelist_df.reset_index(drop=True,inplace=True) # So that row ids are indices to gamevector array\n",
    "\n",
    "# FOr gameplay-based vectors\n",
    "bgg_gameplay_df = pd.read_pickle('datasources/bgg_gameplayfeatures.pkl')\n",
    "bgg_gameplay_df.dropna(inplace=True) # Some not-NAs here...\n",
    "bgg_gameplay_df.reset_index(drop=True,inplace=True)\n",
    "allgamePLAYdocvects = np.array(bgg_gameplay_df.iloc[:,1:]) # Create right here"
   ]
  },
  {
   "cell_type": "markdown",
   "metadata": {},
   "source": [
    "## Verify data sizes"
   ]
  },
  {
   "cell_type": "code",
   "execution_count": null,
   "metadata": {},
   "outputs": [],
   "source": [
    "print('finalgamelist_df {} should match allgamedocvects {}'.format(finalgamelist_df.shape,allgamedocvects.shape))"
   ]
  },
  {
   "cell_type": "code",
   "execution_count": null,
   "metadata": {},
   "outputs": [],
   "source": [
    "print('bgg_gameplay_df {} should match allgamePLAYdocvects {}'.format(bgg_gameplay_df.shape,allgamePLAYdocvects.shape))"
   ]
  },
  {
   "cell_type": "code",
   "execution_count": null,
   "metadata": {},
   "outputs": [],
   "source": [
    "# FUNCTIONS\n",
    "\n",
    "def getcompute_similar_by_gameplay(gamename,allgamedata_df, bgg_gameplay_df, allgamePLAYdocvects):\n",
    "    # Get game rank from game name, and matrix index from rank\n",
    "  \n",
    "    gamerank = list(allgamedata_df.loc[allgamedata_df['game_name']==gamename,'game_rank'])[0]\n",
    "    gamerank = int(gamerank)\n",
    "    gamerank_idx = list(bgg_gameplay_df.index[bgg_gameplay_df['game_rank']==gamerank])[0]\n",
    "    #print(gamename, gamerank_idx)\n",
    "    \n",
    "    mygamePLAYvector = allgamePLAYdocvects[gamerank_idx,:] \n",
    "    mygamePLAYvector = mygamePLAYvector.reshape(-1,1)\n",
    "\n",
    "    mysimilarities_gp = []\n",
    "    for t in range(0,allgamePLAYdocvects.shape[0]):\n",
    "        currgamevect_gp = allgamePLAYdocvects[t,:]\n",
    "        currgamevect_gp = currgamevect_gp.reshape(-1,1)\n",
    "        dum = sklpw.cosine_similarity(currgamevect_gp.T,mygamePLAYvector.T)\n",
    "        mysimilarities_gp.append(dum[0][0])\n",
    "    mycompleteGPsimlist_df = pd.concat((pd.DataFrame({'game_rank':bgg_gameplay_df['game_rank']}),pd.DataFrame({'GameplaySimilarity':mysimilarities_gp})),axis=1)\n",
    "    return mycompleteGPsimlist_df\n",
    "\n",
    "\n",
    "def getcompute_similar_games_by_id(mygameid,mygamename,allgamedata_df,allgamedocvects,finalgamelist_df,bgg_gameplay_df, allgamePLAYdocvects,W1,W2):\n",
    "    myvectid = mygameid\n",
    "    mygamevector = allgamedocvects[myvectid,:]\n",
    "    mygamevector= mygamevector.reshape(-1,1)\n",
    "    mysimilarities = []\n",
    "    for t in range(0,allgamedocvects.shape[0]):\n",
    "        currgamevect = allgamedocvects[t,:]\n",
    "        currgamevect = currgamevect.reshape(-1,1)\n",
    "        dum = sklpw.cosine_similarity(currgamevect.T,mygamevector.T)\n",
    "        mysimilarities.append(dum[0][0])\n",
    "    mycompletesimlist_df = pd.concat((finalgamelist_df['game_rank'],finalgamelist_df['game_name'],pd.DataFrame({'Similarity':mysimilarities})),axis=1)\n",
    "    # Get this also for GAMEPLAY data\n",
    "    mycompleteGPsimlist_df = getcompute_similar_by_gameplay(mygamename,allgamedata_df, bgg_gameplay_df, allgamePLAYdocvects)\n",
    "\n",
    "    # PUt sim lists together\n",
    "    mycompletesimlist_df  = mycompletesimlist_df.astype({'game_rank':'int32'},copy=True)\n",
    "    mycompleteGPsimlist_df = mycompleteGPsimlist_df.astype({'game_rank':'int32'},copy=True)\n",
    "    mycompletesimlist_df.set_index('game_rank',inplace=True)\n",
    "    mycompleteGPsimlist_df.set_index('game_rank',inplace=True)\n",
    "    # Do it\n",
    "    myFINALsimlist_df = mycompletesimlist_df.join(mycompleteGPsimlist_df,how='inner')\n",
    "    \n",
    "    \n",
    "    weightedsimilarity = (np.array(myFINALsimlist_df['Similarity'])*W1) + (np.array(myFINALsimlist_df['GameplaySimilarity'])*W2)\n",
    "    myFINALsimlist_df['WghtdSimilarity'] = weightedsimilarity\n",
    "    \n",
    "    \n",
    "    myFINALsimlist_df.sort_values(by='WghtdSimilarity',ascending=False,inplace=True)\n",
    "    mytop10simlist_df = myFINALsimlist_df[1:11]\n",
    "    # Create output list\n",
    "    urllist=[]\n",
    "    for gamename in mytop10simlist_df['game_name']:\n",
    "        urllist.append(list(allgamedata_df.loc[allgamedata_df['game_name']==gamename,'bgg_url'])[0])\n",
    "    #mytop10simlist_df = pd.DataFrame({'Game':mytop10simlist_df['game_name'],'Similarity':mytop10simlist_df['WghtdSimilarity'],'url':urllist})\n",
    "    mytop10simlist_df = pd.DataFrame({'Game':mytop10simlist_df['game_name'],'url':urllist})\n",
    "    mytop10simlist_df.reset_index(drop=True,inplace=True)\n",
    "    mytop10simlist_df.index = mytop10simlist_df.index+1\n",
    "    return mytop10simlist_df\n",
    "    \n",
    "    \n",
    "    \n",
    "    #mycompletesimlist_df.sort_values(by='Similarity',ascending=False,inplace=True)\n",
    "    #mytop10simlist_df = mycompletesimlist_df[1:11]\n",
    "    # Create output list\n",
    "    #urllist=[]\n",
    "    #for gamename in mytop10simlist_df['gamename']:\n",
    "    #    urllist.append(list(allgamedata_df.loc[allgamedata_df['game_name']==gamename,'bgg_url'])[0])\n",
    "    #mytop10simlist_df = pd.DataFrame({'Game':mytop10simlist_df['gamename'],'Similarity':mytop10simlist_df['Similarity'],'url':urllist})\n",
    "    #mytop10simlist_df.reset_index(drop=True,inplace=True)\n",
    "    #mytop10simlist_df.index = mytop10simlist_df.index+1\n",
    "    #return mytop10simlist_df\n",
    "\n",
    "\n",
    "def get_real_name_fuzzy(usergamename,finalgamelist_df):\n",
    "    # Clean up\n",
    "    usergamename = re.sub(r\"(@[A-Za-z0-9]+)|([^0-9A-Za-z \\t])|(\\w+:\\/\\/\\S+)|^rt|http.+?\", \"\", usergamename)\n",
    "    #usergamename = re.sub(r\"\\d+\", \"\", usergamename) # Maybe dont remove numbers?\n",
    "    gamename_matchlist = [fuzz.token_sort_ratio(x,usergamename) for x in finalgamelist_df['game_name']]\n",
    "    possiblegame_idx  = [i for i, x in enumerate(gamename_matchlist) if x == max(gamename_matchlist)]\n",
    "    possiblegame_idx = possiblegame_idx[0] # Get first, make it number\n",
    "    #possiblegame_name = list(finalgamelist_df.loc[finalgamelist_df['idx']==possiblegame_idx,'gamename'])[0]\n",
    "    possiblegame_name = finalgamelist_df.iloc[possiblegame_idx,2]\n",
    "    #print('Best match: {}'.format(possiblegame_name))\n",
    "    \n",
    "    return possiblegame_name,max(gamename_matchlist)\n",
    "\n",
    "def make_clickable(url,text): # Make liks in pd df for url in table\n",
    "    return f'<a target=\"_blank\" href=\"{url}\">{text}</a>'\n",
    "\n",
    "def streamlitify_df(df):\n",
    "    # Get original URLS\n",
    "    df['Game_link'] = [make_clickable(a,b) for a,b in zip(list(df['url']),list(df['Game']))]\n",
    "    return df\n"
   ]
  },
  {
   "cell_type": "code",
   "execution_count": null,
   "metadata": {},
   "outputs": [],
   "source": [
    "# CREATES THE DEMO GAME LIST\n",
    "allgamedata_df['numeric_ranks']=[int(x) for x in allgamedata_df['game_rank']]\n",
    "topranked_df = pd.DataFrame(allgamedata_df.loc[allgamedata_df['numeric_ranks']<=50,'game_name']) # To go back n forth\n",
    "topranked_df.sort_values(by='game_name',inplace=True)\n",
    "topranked_idx = topranked_df.index\n",
    "demo_gamelist = tuple(list(finalgamelist_df.loc[topranked_idx,'game_name']))"
   ]
  },
  {
   "cell_type": "markdown",
   "metadata": {},
   "source": [
    "## Pretend some game selected"
   ]
  },
  {
   "cell_type": "code",
   "execution_count": null,
   "metadata": {},
   "outputs": [],
   "source": [
    "mygamename = 'blood rage'\n",
    "# IF NAME IS UNCLEAR\n",
    "mygamename,qltynum = get_real_name_fuzzy(mygamename,finalgamelist_df)\n",
    "print('Best guess: {} (match score: {}/100)'.format(mygamename,str(qltynum)))\n",
    "mygameid = list(finalgamelist_df.index[finalgamelist_df['game_name']==mygamename])[0] # Need INDEX, not idx\n",
    "mygameurl=list(allgamedata_df.loc[allgamedata_df['game_name']==mygamename,'bgg_url'])[0]"
   ]
  },
  {
   "cell_type": "code",
   "execution_count": null,
   "metadata": {},
   "outputs": [],
   "source": [
    "W1=0 # Semantic\n",
    "W2=1 # Feature\n",
    "mytop10simlist_df = getcompute_similar_games_by_id(mygameid,mygamename,allgamedata_df,allgamedocvects,finalgamelist_df,bgg_gameplay_df, allgamePLAYdocvects,W1,W2)\n",
    "mygamevect_df = streamlitify_df(mytop10simlist_df)\n",
    "\n",
    "mygamevect_df.style.set_properties(**{'background-color': 'black',\n",
    "                           'color': 'lawngreen',\n",
    "                           'border-color': 'white'})\n",
    "mygamevect_df"
   ]
  },
  {
   "cell_type": "code",
   "execution_count": null,
   "metadata": {},
   "outputs": [],
   "source": [
    "mygamename_st_url = f'<a target=\"_blank\" href=\"{mygameurl}\">{mygamename}</a>'\n",
    "mygamename_st_url"
   ]
  },
  {
   "cell_type": "markdown",
   "metadata": {},
   "source": [
    "#  ******** ROUGH STUFF ****************"
   ]
  },
  {
   "cell_type": "code",
   "execution_count": null,
   "metadata": {},
   "outputs": [],
   "source": []
  }
 ],
 "metadata": {
  "kernelspec": {
   "display_name": "Python 3",
   "language": "python",
   "name": "python3"
  },
  "language_info": {
   "codemirror_mode": {
    "name": "ipython",
    "version": 3
   },
   "file_extension": ".py",
   "mimetype": "text/x-python",
   "name": "python",
   "nbconvert_exporter": "python",
   "pygments_lexer": "ipython3",
   "version": "3.8.2"
  }
 },
 "nbformat": 4,
 "nbformat_minor": 4
}
