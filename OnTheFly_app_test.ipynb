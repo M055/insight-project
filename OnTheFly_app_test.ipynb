{
 "cells": [
  {
   "cell_type": "markdown",
   "metadata": {},
   "source": [
    "# On-the-fly ggame computation"
   ]
  },
  {
   "cell_type": "code",
   "execution_count": 12,
   "metadata": {},
   "outputs": [],
   "source": [
    "import pandas as pd\n",
    "import seaborn as sns\n",
    "import numpy as np\n",
    "import streamlit as st\n",
    "import sklearn.metrics.pairwise as sklpw\n",
    "from PIL import Image\n",
    "from fuzzywuzzy import fuzz\n",
    "import re"
   ]
  },
  {
   "cell_type": "code",
   "execution_count": 2,
   "metadata": {},
   "outputs": [],
   "source": [
    "# LOAD DATA\n",
    "allgamedata_df = pd.read_pickle('datasources/BGG_FINAL.pkl') # USE ONLY FOR URLS\n",
    "allgamedocvects = np.load('datasources/allgamedocvects.npz')['arr_0']\n",
    "finalgamelist_df = pd.read_pickle('datasources/BGG_GameSimilarityKey.pkl')\n",
    "finalgamelist_df.reset_index(drop=True,inplace=True) # So that row ids are indices to gamevector array"
   ]
  },
  {
   "cell_type": "code",
   "execution_count": 56,
   "metadata": {},
   "outputs": [],
   "source": [
    "# FUNCTIONS\n",
    "def getcompute_similar_games_by_name(mygameid,allgamedata_df,allgamedocvects,finalgamelist_df):\n",
    "    myvectid = mygameid\n",
    "    mygamevector = allgamedocvects[myvectid,:]\n",
    "    mygamevector= mygamevector.reshape(-1,1)\n",
    "    mysimilarities = []\n",
    "    for t in range(0,allgamedocvects.shape[0]):\n",
    "        currgamevect = allgamedocvects[t,:]\n",
    "        currgamevect = currgamevect.reshape(-1,1)\n",
    "        dum = sklpw.cosine_similarity(currgamevect.T,mygamevector.T)\n",
    "        mysimilarities.append(dum[0][0])\n",
    "    mycompletesimlist_df = pd.concat((finalgamelist_df['gamename'],pd.DataFrame({'Similarity':mysimilarities})),axis=1)\n",
    "    mycompletesimlist_df.sort_values(by='Similarity',ascending=False,inplace=True)\n",
    "    mytop10simlist_df = mycompletesimlist_df[1:11]\n",
    "    # Create output list\n",
    "    urllist=[]\n",
    "    for gamename in mytop10simlist_df['gamename']:\n",
    "        urllist.append(list(allgamedata_df.loc[allgamedata_df['game_name']==gamename,'bgg_url'])[0])\n",
    "    mytop10simlist_df = pd.DataFrame({'Game':mytop10simlist_df['gamename'],'Similarity':mytop10simlist_df['Similarity'],'url':urllist})\n",
    "    mytop10simlist_df.reset_index(drop=True,inplace=True)\n",
    "    mytop10simlist_df.index = mytop10simlist_df.index+1\n",
    "    return mytop10simlist_df\n",
    "\n",
    "\n",
    "def get_real_name_fuzzy(usergamename):\n",
    "    # Clean up\n",
    "    usergamename = re.sub(r\"\\d+\", \"\", usergamename) \n",
    "    usergamename = re.sub(r\"(@[A-Za-z0-9]+)|([^0-9A-Za-z \\t])|(\\w+:\\/\\/\\S+)|^rt|http.+?\", \"\", usergamename)\n",
    "    #usergamename = re.sub(r\"\\d+\", \"\", usergamename) # Maybe dont remove numbers?\n",
    "    \n",
    "    gamename_matchlist = [fuzz.token_sort_ratio(x,mygamename) for x in finalgamelist_df['gamename']]\n",
    "    possiblegame_idx  = [i for i, x in enumerate(gamename_matchlist) if x == max(gamename_matchlist)]\n",
    "    possiblegame_idx = possiblegame_idx[0] # Get first, make it number\n",
    "    possiblegame_name = list(finalgamelist_df.loc[finalgamelist_df['idx']==possiblegame_idx,'gamename'])[0]\n",
    "    #print('Best match: {}'.format(possiblegame_name))\n",
    "    \n",
    "    return possiblegame_name,max(gamename_matchlist)\n",
    "\n",
    "def make_clickable(url,text): # Make liks in pd df for url in table\n",
    "    return f'<a target=\"_blank\" href=\"{url}\">{text}</a>'\n",
    "\n",
    "def streamlitify_df(df):\n",
    "    # Get original URLS\n",
    "    df['Game_link'] = [make_clickable(a,b) for a,b in zip(list(df['url']),list(df['Game']))]\n",
    "    return df\n"
   ]
  },
  {
   "cell_type": "code",
   "execution_count": 4,
   "metadata": {},
   "outputs": [],
   "source": [
    "# CREATES THE DEMO GAME LIST\n",
    "allgamedata_df['numeric_ranks']=[int(x) for x in allgamedata_df['game_rank']]\n",
    "topranked_df = pd.DataFrame(allgamedata_df.loc[allgamedata_df['numeric_ranks']<=50,'game_name']) # To go back n forth\n",
    "topranked_idx = topranked_df.index\n",
    "demo_gamelist = tuple(list(finalgamelist_df.loc[topranked_idx,'gamename']))"
   ]
  },
  {
   "cell_type": "markdown",
   "metadata": {},
   "source": [
    "## Pretend some game selected"
   ]
  },
  {
   "cell_type": "code",
   "execution_count": 61,
   "metadata": {},
   "outputs": [
    {
     "name": "stdout",
     "output_type": "stream",
     "text": [
      "Best guess: Punto (match score: 50/100)\n"
     ]
    }
   ],
   "source": [
    "mygamename = 'Glo34 3gav%$^%^&*&Y(BN*UHNIUen'\n",
    "# IF NAME IS UNCLEAR\n",
    "mygamename,qltynum = get_real_name_fuzzy(mygamename)\n",
    "print('Best guess: {} (match score: {}/100)'.format(mygamename,str(qltynum)))"
   ]
  },
  {
   "cell_type": "code",
   "execution_count": 59,
   "metadata": {},
   "outputs": [
    {
     "name": "stdout",
     "output_type": "stream",
     "text": [
      "Best guess: Gloomhaven (match score: 95/100)\n"
     ]
    }
   ],
   "source": [
    "print('Best guess: {} (match score: {}/100)'.format(mygamename,str(qltynum)))"
   ]
  },
  {
   "cell_type": "code",
   "execution_count": 6,
   "metadata": {},
   "outputs": [],
   "source": [
    "mygameid = list(finalgamelist_df.index[finalgamelist_df['gamename']==mygamename])[0] # Need INDEX, not idx\n",
    "mygameurl=list(allgamedata_df.loc[allgamedata_df['game_name']==mygamename,'bgg_url'])[0]\n",
    "mytop10simlist_df = getcompute_similar_games_by_name(mygameid,allgamedata_df,allgamedocvects,finalgamelist_df)\n",
    "mygamevect_df = streamlitify_df(mytop10simlist_df)"
   ]
  },
  {
   "cell_type": "code",
   "execution_count": 7,
   "metadata": {},
   "outputs": [
    {
     "data": {
      "text/html": [
       "<div>\n",
       "<style scoped>\n",
       "    .dataframe tbody tr th:only-of-type {\n",
       "        vertical-align: middle;\n",
       "    }\n",
       "\n",
       "    .dataframe tbody tr th {\n",
       "        vertical-align: top;\n",
       "    }\n",
       "\n",
       "    .dataframe thead th {\n",
       "        text-align: right;\n",
       "    }\n",
       "</style>\n",
       "<table border=\"1\" class=\"dataframe\">\n",
       "  <thead>\n",
       "    <tr style=\"text-align: right;\">\n",
       "      <th></th>\n",
       "      <th>Game</th>\n",
       "      <th>Similarity</th>\n",
       "      <th>url</th>\n",
       "      <th>Game_link</th>\n",
       "    </tr>\n",
       "  </thead>\n",
       "  <tbody>\n",
       "    <tr>\n",
       "      <th>1</th>\n",
       "      <td>Forgotten Waters</td>\n",
       "      <td>0.988992</td>\n",
       "      <td>https://boardgamegeek.com//boardgame/302723/fo...</td>\n",
       "      <td>&lt;a target=\"_blank\" href=\"https://boardgamegeek...</td>\n",
       "    </tr>\n",
       "    <tr>\n",
       "      <th>2</th>\n",
       "      <td>Fallen Land: A Post Apocalyptic Board Game</td>\n",
       "      <td>0.988874</td>\n",
       "      <td>https://boardgamegeek.com//boardgame/169141/fa...</td>\n",
       "      <td>&lt;a target=\"_blank\" href=\"https://boardgamegeek...</td>\n",
       "    </tr>\n",
       "    <tr>\n",
       "      <th>3</th>\n",
       "      <td>Fallout</td>\n",
       "      <td>0.987675</td>\n",
       "      <td>https://boardgamegeek.com//boardgame/232918/fa...</td>\n",
       "      <td>&lt;a target=\"_blank\" href=\"https://boardgamegeek...</td>\n",
       "    </tr>\n",
       "    <tr>\n",
       "      <th>4</th>\n",
       "      <td>The World of SMOG: Rise of Moloch</td>\n",
       "      <td>0.985400</td>\n",
       "      <td>https://boardgamegeek.com//boardgame/209324/wo...</td>\n",
       "      <td>&lt;a target=\"_blank\" href=\"https://boardgamegeek...</td>\n",
       "    </tr>\n",
       "    <tr>\n",
       "      <th>5</th>\n",
       "      <td>Paradox</td>\n",
       "      <td>0.984702</td>\n",
       "      <td>https://boardgamegeek.com//boardgame/161297/pa...</td>\n",
       "      <td>&lt;a target=\"_blank\" href=\"https://boardgamegeek...</td>\n",
       "    </tr>\n",
       "    <tr>\n",
       "      <th>6</th>\n",
       "      <td>Machina Arcana</td>\n",
       "      <td>0.984538</td>\n",
       "      <td>https://boardgamegeek.com//boardgame/144743/ma...</td>\n",
       "      <td>&lt;a target=\"_blank\" href=\"https://boardgamegeek...</td>\n",
       "    </tr>\n",
       "    <tr>\n",
       "      <th>7</th>\n",
       "      <td>London Dread</td>\n",
       "      <td>0.984230</td>\n",
       "      <td>https://boardgamegeek.com//boardgame/178134/lo...</td>\n",
       "      <td>&lt;a target=\"_blank\" href=\"https://boardgamegeek...</td>\n",
       "    </tr>\n",
       "    <tr>\n",
       "      <th>8</th>\n",
       "      <td>Oathsworn: Into the Deepwood</td>\n",
       "      <td>0.983738</td>\n",
       "      <td>https://boardgamegeek.com//boardgame/251661/oa...</td>\n",
       "      <td>&lt;a target=\"_blank\" href=\"https://boardgamegeek...</td>\n",
       "    </tr>\n",
       "    <tr>\n",
       "      <th>9</th>\n",
       "      <td>The Hills Rise Wild!</td>\n",
       "      <td>0.983729</td>\n",
       "      <td>https://boardgamegeek.com//boardgame/799/hills...</td>\n",
       "      <td>&lt;a target=\"_blank\" href=\"https://boardgamegeek...</td>\n",
       "    </tr>\n",
       "    <tr>\n",
       "      <th>10</th>\n",
       "      <td>Overturn: Rising</td>\n",
       "      <td>0.983659</td>\n",
       "      <td>https://boardgamegeek.com//boardgame/240624/ov...</td>\n",
       "      <td>&lt;a target=\"_blank\" href=\"https://boardgamegeek...</td>\n",
       "    </tr>\n",
       "  </tbody>\n",
       "</table>\n",
       "</div>"
      ],
      "text/plain": [
       "                                          Game  Similarity  \\\n",
       "1                             Forgotten Waters    0.988992   \n",
       "2   Fallen Land: A Post Apocalyptic Board Game    0.988874   \n",
       "3                                      Fallout    0.987675   \n",
       "4            The World of SMOG: Rise of Moloch    0.985400   \n",
       "5                                      Paradox    0.984702   \n",
       "6                               Machina Arcana    0.984538   \n",
       "7                                 London Dread    0.984230   \n",
       "8                 Oathsworn: Into the Deepwood    0.983738   \n",
       "9                         The Hills Rise Wild!    0.983729   \n",
       "10                            Overturn: Rising    0.983659   \n",
       "\n",
       "                                                  url  \\\n",
       "1   https://boardgamegeek.com//boardgame/302723/fo...   \n",
       "2   https://boardgamegeek.com//boardgame/169141/fa...   \n",
       "3   https://boardgamegeek.com//boardgame/232918/fa...   \n",
       "4   https://boardgamegeek.com//boardgame/209324/wo...   \n",
       "5   https://boardgamegeek.com//boardgame/161297/pa...   \n",
       "6   https://boardgamegeek.com//boardgame/144743/ma...   \n",
       "7   https://boardgamegeek.com//boardgame/178134/lo...   \n",
       "8   https://boardgamegeek.com//boardgame/251661/oa...   \n",
       "9   https://boardgamegeek.com//boardgame/799/hills...   \n",
       "10  https://boardgamegeek.com//boardgame/240624/ov...   \n",
       "\n",
       "                                            Game_link  \n",
       "1   <a target=\"_blank\" href=\"https://boardgamegeek...  \n",
       "2   <a target=\"_blank\" href=\"https://boardgamegeek...  \n",
       "3   <a target=\"_blank\" href=\"https://boardgamegeek...  \n",
       "4   <a target=\"_blank\" href=\"https://boardgamegeek...  \n",
       "5   <a target=\"_blank\" href=\"https://boardgamegeek...  \n",
       "6   <a target=\"_blank\" href=\"https://boardgamegeek...  \n",
       "7   <a target=\"_blank\" href=\"https://boardgamegeek...  \n",
       "8   <a target=\"_blank\" href=\"https://boardgamegeek...  \n",
       "9   <a target=\"_blank\" href=\"https://boardgamegeek...  \n",
       "10  <a target=\"_blank\" href=\"https://boardgamegeek...  "
      ]
     },
     "execution_count": 7,
     "metadata": {},
     "output_type": "execute_result"
    }
   ],
   "source": [
    "\n",
    "mygamevect_df"
   ]
  },
  {
   "cell_type": "code",
   "execution_count": null,
   "metadata": {},
   "outputs": [],
   "source": []
  },
  {
   "cell_type": "markdown",
   "metadata": {},
   "source": [
    "#  ******** ROUGH STUFF ****************"
   ]
  },
  {
   "cell_type": "code",
   "execution_count": 8,
   "metadata": {},
   "outputs": [
    {
     "data": {
      "text/html": [
       "<div>\n",
       "<style scoped>\n",
       "    .dataframe tbody tr th:only-of-type {\n",
       "        vertical-align: middle;\n",
       "    }\n",
       "\n",
       "    .dataframe tbody tr th {\n",
       "        vertical-align: top;\n",
       "    }\n",
       "\n",
       "    .dataframe thead th {\n",
       "        text-align: right;\n",
       "    }\n",
       "</style>\n",
       "<table border=\"1\" class=\"dataframe\">\n",
       "  <thead>\n",
       "    <tr style=\"text-align: right;\">\n",
       "      <th></th>\n",
       "      <th>idx</th>\n",
       "      <th>gamename</th>\n",
       "    </tr>\n",
       "  </thead>\n",
       "  <tbody>\n",
       "    <tr>\n",
       "      <th>0</th>\n",
       "      <td>0</td>\n",
       "      <td>Gloomhaven</td>\n",
       "    </tr>\n",
       "    <tr>\n",
       "      <th>1</th>\n",
       "      <td>1</td>\n",
       "      <td>Pandemic Legacy: Season 1</td>\n",
       "    </tr>\n",
       "  </tbody>\n",
       "</table>\n",
       "</div>"
      ],
      "text/plain": [
       "   idx                   gamename\n",
       "0    0                 Gloomhaven\n",
       "1    1  Pandemic Legacy: Season 1"
      ]
     },
     "execution_count": 8,
     "metadata": {},
     "output_type": "execute_result"
    }
   ],
   "source": [
    "finalgamelist_df.head(2)"
   ]
  },
  {
   "cell_type": "code",
   "execution_count": 15,
   "metadata": {},
   "outputs": [
    {
     "data": {
      "text/plain": [
       "'Gloomhaven'"
      ]
     },
     "execution_count": 15,
     "metadata": {},
     "output_type": "execute_result"
    }
   ],
   "source": [
    "usergamename=mygamename\n",
    "usergamename"
   ]
  },
  {
   "cell_type": "code",
   "execution_count": 136,
   "metadata": {},
   "outputs": [
    {
     "data": {
      "text/plain": [
       "(18561, 2)"
      ]
     },
     "execution_count": 136,
     "metadata": {},
     "output_type": "execute_result"
    }
   ],
   "source": [
    "df[new_text_field_name] = df[new_text_field_name].apply(lambda elem: re.sub(r\"\\d+\", \"\", elem)) \n",
    "df[new_text_field_name] = df[new_text_field_name].apply(lambda elem: re.sub(r\"(@[A-Za-z0-9]+)|([^0-9A-Za-z \\t])|(\\w+:\\/\\/\\S+)|^rt|http.+?\", \"\", elem))  \n",
    "# remove numbers\n",
    "df[new_text_field_name] = df[new_text_field_name].apply(lambda elem: re.sub(r\"\\d+\", \"\", elem))\n",
    "gamename_matchlist = [fuzz.token_sort_ratio(x,mygamename) for x in finalgamelist_df['gamename']]"
   ]
  },
  {
   "cell_type": "code",
   "execution_count": 18,
   "metadata": {},
   "outputs": [],
   "source": []
  },
  {
   "cell_type": "code",
   "execution_count": 19,
   "metadata": {},
   "outputs": [
    {
     "data": {
      "text/plain": [
       "'Gloomhaven'"
      ]
     },
     "execution_count": 19,
     "metadata": {},
     "output_type": "execute_result"
    }
   ],
   "source": [
    "usergamename = re.sub(r\"\\d+\", \"\", usergamename) \n",
    "usergamename = re.sub(r\"(@[A-Za-z0-9]+)|([^0-9A-Za-z \\t])|(\\w+:\\/\\/\\S+)|^rt|http.+?\", \"\", usergamename))\n",
    "usergamename = re.sub(r\"\\d+\", \"\", usergamename)\n"
   ]
  },
  {
   "cell_type": "code",
   "execution_count": 22,
   "metadata": {},
   "outputs": [
    {
     "data": {
      "text/plain": [
       "18561"
      ]
     },
     "execution_count": 22,
     "metadata": {},
     "output_type": "execute_result"
    }
   ],
   "source": [
    "x = [len(y) for y in finalgamelist_df['gamename']]\n",
    "len(x)"
   ]
  },
  {
   "cell_type": "code",
   "execution_count": 37,
   "metadata": {},
   "outputs": [
    {
     "data": {
      "text/plain": [
       "[3233, 6227, 7658, 10346]"
      ]
     },
     "execution_count": 37,
     "metadata": {},
     "output_type": "execute_result"
    }
   ],
   "source": [
    "[a for a,b in list(enumerate(x)) if b>100]"
   ]
  },
  {
   "cell_type": "code",
   "execution_count": 40,
   "metadata": {},
   "outputs": [
    {
     "data": {
      "text/plain": [
       "idx                                                      7695\n",
       "gamename    Disposable Heroes and Coffin For Seven Brother...\n",
       "Name: 7658, dtype: object"
      ]
     },
     "execution_count": 40,
     "metadata": {},
     "output_type": "execute_result"
    }
   ],
   "source": [
    "finalgamelist_df.iloc[7658,:]"
   ]
  },
  {
   "cell_type": "code",
   "execution_count": null,
   "metadata": {},
   "outputs": [],
   "source": []
  },
  {
   "cell_type": "code",
   "execution_count": 48,
   "metadata": {},
   "outputs": [
    {
     "name": "stdout",
     "output_type": "stream",
     "text": [
      "Best match: Gloomhaven\n"
     ]
    }
   ],
   "source": [
    "usergamename = 'Glomhvn'\n",
    "# Clean up\n",
    "usergamename = re.sub(r\"\\d+\", \"\", usergamename) \n",
    "usergamename = re.sub(r\"(@[A-Za-z0-9]+)|([^0-9A-Za-z \\t])|(\\w+:\\/\\/\\S+)|^rt|http.+?\", \"\", usergamename)\n",
    "#usergamename = re.sub(r\"\\d+\", \"\", usergamename) # Maybe dont remove numbers?\n",
    "\n",
    "gamename_matchlist = [fuzz.token_sort_ratio(x,mygamename) for x in finalgamelist_df['gamename']]\n",
    "possiblegame_idx  = [i for i, x in enumerate(gamename_matchlist) if x == max(gamename_matchlist)]\n",
    "possiblegame_idx = possiblegame_idx[0] # Get first, make it number\n",
    "possiblegame_name = list(finalgamelist_df.loc[finalgamelist_df['idx']==possiblegame_idx,'gamename'])[0]\n",
    "print('Best match: {}'.format(possiblegame_name))"
   ]
  },
  {
   "cell_type": "code",
   "execution_count": 50,
   "metadata": {},
   "outputs": [],
   "source": [
    "gamename_matchlist = [fuzz.token_sort_ratio(x,mygamename) for x in finalgamelist_df['gamename']]\n",
    "possiblegame_idx  = [i for i, x in enumerate(gamename_matchlist) if x == max(gamename_matchlist)]\n",
    "possiblegame_idx = possiblegame_idx[0] # Get first, make it number"
   ]
  },
  {
   "cell_type": "code",
   "execution_count": 53,
   "metadata": {},
   "outputs": [
    {
     "data": {
      "text/plain": [
       "95"
      ]
     },
     "execution_count": 53,
     "metadata": {},
     "output_type": "execute_result"
    }
   ],
   "source": [
    "max(gamename_matchlist)"
   ]
  },
  {
   "cell_type": "code",
   "execution_count": null,
   "metadata": {},
   "outputs": [],
   "source": []
  }
 ],
 "metadata": {
  "kernelspec": {
   "display_name": "Python 3",
   "language": "python",
   "name": "python3"
  },
  "language_info": {
   "codemirror_mode": {
    "name": "ipython",
    "version": 3
   },
   "file_extension": ".py",
   "mimetype": "text/x-python",
   "name": "python",
   "nbconvert_exporter": "python",
   "pygments_lexer": "ipython3",
   "version": "3.8.2"
  }
 },
 "nbformat": 4,
 "nbformat_minor": 4
}
