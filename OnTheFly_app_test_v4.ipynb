{
 "cells": [
  {
   "cell_type": "markdown",
   "metadata": {},
   "source": [
    "# On-the-fly ggame computation"
   ]
  },
  {
   "cell_type": "code",
   "execution_count": 1,
   "metadata": {},
   "outputs": [],
   "source": [
    "import pandas as pd\n",
    "import seaborn as sns\n",
    "import numpy as np\n",
    "import streamlit as st\n",
    "import sklearn.metrics.pairwise as sklpw\n",
    "from PIL import Image\n",
    "from fuzzywuzzy import fuzz\n",
    "import re"
   ]
  },
  {
   "cell_type": "code",
   "execution_count": 2,
   "metadata": {},
   "outputs": [],
   "source": [
    "# LOAD DATA\n",
    "allgamedata_df = pd.read_pickle('datasources/bgg_filters.pkl') # USE FOR URLS and FILTERS\n",
    "allgamedata_df = allgamedata_df.astype({'game_rank':'int32'},copy=True)\n",
    "allgamedocvects = np.load('datasources/allgamedocvects_v3.npz')['arr_0']\n",
    "finalgamelist_df = pd.read_pickle('datasources/finalgamelist_df.pkl')\n",
    "#finalgamelist_df =  finalgamelist_df.astype({'game_rank':'int32'},copy=True)\n",
    "#finalgamelist_df['num_raters'] = [list(allgamedata_df.loc[allgamedata_df['game_name']==g,'num_raters'])[0] for g in finalgamelist_df['game_name']]\n",
    "#finalgamelist_df.reset_index(drop=True,inplace=True) # So that row ids are indices to gamevector array\n",
    "\n",
    "# FOr gameplay-based vectors\n",
    "bgg_gameplay_df = pd.read_pickle('datasources/bgg_gameplayfeatures.pkl')\n",
    "bgg_gameplay_df.dropna(inplace=True) # Some not-NAs here...\n",
    "bgg_gameplay_df.reset_index(drop=True,inplace=True)\n",
    "allgamePLAYdocvects = np.array(bgg_gameplay_df.iloc[:,1:]) # Create right here"
   ]
  },
  {
   "cell_type": "markdown",
   "metadata": {},
   "source": [
    "## Verify data sizes"
   ]
  },
  {
   "cell_type": "code",
   "execution_count": 3,
   "metadata": {},
   "outputs": [
    {
     "name": "stdout",
     "output_type": "stream",
     "text": [
      "finalgamelist_df (18561, 4) should match allgamedocvects (18561, 100)\n"
     ]
    }
   ],
   "source": [
    "print('finalgamelist_df {} should match allgamedocvects {}'.format(finalgamelist_df.shape,allgamedocvects.shape))"
   ]
  },
  {
   "cell_type": "code",
   "execution_count": 4,
   "metadata": {},
   "outputs": [
    {
     "name": "stdout",
     "output_type": "stream",
     "text": [
      "bgg_gameplay_df (18500, 272) should match allgamePLAYdocvects (18500, 271)\n"
     ]
    }
   ],
   "source": [
    "print('bgg_gameplay_df {} should match allgamePLAYdocvects {}'.format(bgg_gameplay_df.shape,allgamePLAYdocvects.shape))"
   ]
  },
  {
   "cell_type": "code",
   "execution_count": 5,
   "metadata": {},
   "outputs": [
    {
     "data": {
      "text/plain": [
       "Index(['idx', 'game_rank', 'game_name', 'num_raters'], dtype='object')"
      ]
     },
     "execution_count": 5,
     "metadata": {},
     "output_type": "execute_result"
    }
   ],
   "source": [
    "finalgamelist_df.columns"
   ]
  },
  {
   "cell_type": "code",
   "execution_count": 6,
   "metadata": {},
   "outputs": [
    {
     "data": {
      "text/plain": [
       "Index(['game_rank', 'geek_rating', 'avg_rating', 'num_raters', 'game_name',\n",
       "       'game_year', 'bgg_url', 'numplayersmin', 'gamedurmin', 'gamedurmax',\n",
       "       'agemin'],\n",
       "      dtype='object')"
      ]
     },
     "execution_count": 6,
     "metadata": {},
     "output_type": "execute_result"
    }
   ],
   "source": [
    "allgamedata_df.columns"
   ]
  },
  {
   "cell_type": "code",
   "execution_count": 7,
   "metadata": {},
   "outputs": [],
   "source": [
    "# FUNCTIONS\n",
    "\n",
    "def getcompute_similar_by_gameplay(gamename,allgamedata_df, bgg_gameplay_df, allgamePLAYdocvects):\n",
    "    # Get game rank from game name, and matrix index from rank\n",
    "  \n",
    "    gamerank = list(allgamedata_df.loc[allgamedata_df['game_name']==gamename,'game_rank'])[0]\n",
    "    gamerank = int(gamerank)\n",
    "    gamerank_idx = list(bgg_gameplay_df.index[bgg_gameplay_df['game_rank']==gamerank])[0]\n",
    "    #print(gamename, gamerank_idx)\n",
    "    \n",
    "    mygamePLAYvector = allgamePLAYdocvects[gamerank_idx,:] \n",
    "    mygamePLAYvector = mygamePLAYvector.reshape(-1,1)\n",
    "\n",
    "    mysimilarities_gp = []\n",
    "    for t in range(0,allgamePLAYdocvects.shape[0]):\n",
    "        currgamevect_gp = allgamePLAYdocvects[t,:]\n",
    "        currgamevect_gp = currgamevect_gp.reshape(-1,1)\n",
    "        dum = sklpw.cosine_similarity(currgamevect_gp.T,mygamePLAYvector.T)\n",
    "        mysimilarities_gp.append(dum[0][0])\n",
    "    mycompleteGPsimlist_df = pd.concat((pd.DataFrame({'game_rank':bgg_gameplay_df['game_rank']}),pd.DataFrame({'GameplaySimilarity':mysimilarities_gp})),axis=1)\n",
    "    return mycompleteGPsimlist_df\n",
    "\n",
    "def getcompute_similar_games(mygameid,mygamename,allgamedata_df,allgamedocvects,finalgamelist_df,bgg_gameplay_df, allgamePLAYdocvects,W1,W2,filt_dict):\n",
    "    # Jun 13 added filt_dict input\n",
    "    myvectid = mygameid\n",
    "    mygamevector = allgamedocvects[myvectid,:]\n",
    "    mygamevector= mygamevector.reshape(-1,1)\n",
    "    mysimilarities = []\n",
    "    for t in range(0,allgamedocvects.shape[0]):\n",
    "        currgamevect = allgamedocvects[t,:]\n",
    "        currgamevect = currgamevect.reshape(-1,1)\n",
    "        dum = sklpw.cosine_similarity(currgamevect.T,mygamevector.T)\n",
    "        mysimilarities.append(dum[0][0])\n",
    "    mycompletesimlist_df = pd.concat((finalgamelist_df['game_rank'],finalgamelist_df['game_name'],pd.DataFrame({'Similarity':mysimilarities})),axis=1)\n",
    "    #mycompletesimlist_df = pd.concat((finalgamelist_df['game_rank','game_name'],pd.DataFrame({'Similarity':mysimilarities})),axis=1)\n",
    "    #Get this also for GAMEPLAY data\n",
    "    mycompleteGPsimlist_df = getcompute_similar_by_gameplay(mygamename,allgamedata_df, bgg_gameplay_df, allgamePLAYdocvects)\n",
    "\n",
    "    # PUt sim lists together\n",
    "    mycompletesimlist_df  = mycompletesimlist_df.astype({'game_rank':'int32'},copy=True)\n",
    "    mycompleteGPsimlist_df = mycompleteGPsimlist_df.astype({'game_rank':'int32'},copy=True)\n",
    "    mycompletesimlist_df.set_index('game_rank',inplace=True)\n",
    "    mycompleteGPsimlist_df.set_index('game_rank',inplace=True)\n",
    "    # Do it\n",
    "    myFINALsimlist_df = mycompletesimlist_df.join(mycompleteGPsimlist_df,how='inner')\n",
    "    \n",
    "    \n",
    "    weightedsimilarity = (np.array(myFINALsimlist_df['Similarity'])*W1) + (np.array(myFINALsimlist_df['GameplaySimilarity'])*W2)\n",
    "    myFINALsimlist_df['WghtdSimilarity'] = weightedsimilarity\n",
    "    myFINALsimlist_df.sort_values(by='WghtdSimilarity',ascending=False,inplace=True)\n",
    "    \n",
    "    \n",
    "    # NEW: Jun 13\n",
    "    # Create DF with all the filter data\n",
    "    dum=allgamedata_df.loc[[list(allgamedata_df.index[allgamedata_df['game_rank']==n])[0] for n in myFINALsimlist_df.index],:]\n",
    "    dum = dum[[ 'avg_rating', 'num_raters', 'bgg_url', 'numplayersmin', 'gamedurmin','agemin']].copy()\n",
    "    dum.reset_index(drop=True, inplace=True)\n",
    "    # Add this into myFINALsimlist_df\n",
    "    myFINALsimlist_df.reset_index(inplace=True)\n",
    "    myFINALsimlist_df=pd.concat((myFINALsimlist_df,dum),axis=1)\n",
    "    # Create filter\n",
    "    myfilters = (myFINALsimlist_df['avg_rating']>=filt_dict.get('min_rating'))  &  (myFINALsimlist_df['numplayersmin']>=filt_dict.get('min_players'))  &  (myFINALsimlist_df['gamedurmin']>=filt_dict.get('min_dur'))\n",
    "    # UPDATE myFINALsimlist_df\n",
    "    myFINALsimlist_df = myFINALsimlist_df.loc[myfilters,:].copy()\n",
    "    \n",
    "    \n",
    "    #MO: Jun 18: Add in SUPECOMBO. Sort right after\n",
    "    avgratingfactor = myFINALsimlist_df.iloc[0,:]['avg_rating']/10 # SCALE by rating of game?\n",
    "    dumsupercombo = np.array(myFINALsimlist_df['Similarity'] + myFINALsimlist_df['GameplaySimilarity'] + (myFINALsimlist_df['avg_rating']/10)*avgratingfactor + np.log10(myFINALsimlist_df['num_raters'])/5)/4\n",
    "    myFINALsimlist_df['supercombo'] = dumsupercombo\n",
    "    myFINALsimlist_df.sort_values(by='supercombo',inplace=True,ascending=False)\n",
    "    myFINALsimlist_df.drop(index=0,inplace=True) # DROP THE MAIN COMPARISON GAME ALREADY\n",
    "    myFINALsimlist_df.reset_index(drop=True,inplace=True)\n",
    "    \n",
    "    # Create output list\n",
    "    # MO: New Jun 13 - check to make sure there are enough games!\n",
    "    # MO: June 18: return FULL LIST, compute later\n",
    "    if len(myFINALsimlist_df)>11:    \n",
    "        mytop10simlist_df = myFINALsimlist_df[:10].copy()\n",
    "    else:\n",
    "        mytop10simlist_df = myFINALsimlist_df.copy()\n",
    "    urllist=[]\n",
    "    for gamename in mytop10simlist_df['game_name']:\n",
    "        urllist.append(list(allgamedata_df.loc[allgamedata_df['game_name']==gamename,'bgg_url'])[0])\n",
    "    #mytop10simlist_df = pd.DataFrame({'Game':mytop10simlist_df['game_name'],'Similarity':mytop10simlist_df['WghtdSimilarity'],'url':urllist})\n",
    "    mytop10simlist_df = pd.DataFrame({'Game':mytop10simlist_df['game_name'],'url':urllist})\n",
    "    mytop10simlist_df.reset_index(drop=True,inplace=True)\n",
    "    mytop10simlist_df.index = mytop10simlist_df.index+1\n",
    "\n",
    "    return mytop10simlist_df,myFINALsimlist_df\n",
    "    \n",
    "    \n",
    "    \n",
    "    #mycompletesimlist_df.sort_values(by='Similarity',ascending=False,inplace=True)\n",
    "    #mytop10simlist_df = mycompletesimlist_df[1:11]\n",
    "    # Create output list\n",
    "    #urllist=[]\n",
    "    #for gamename in mytop10simlist_df['gamename']:\n",
    "    #    urllist.append(list(allgamedata_df.loc[allgamedata_df['game_name']==gamename,'bgg_url'])[0])\n",
    "    #mytop10simlist_df = pd.DataFrame({'Game':mytop10simlist_df['gamename'],'Similarity':mytop10simlist_df['Similarity'],'url':urllist})\n",
    "    #mytop10simlist_df.reset_index(drop=True,inplace=True)\n",
    "    #mytop10simlist_df.index = mytop10simlist_df.index+1\n",
    "    #return mytop10simlist_df\n",
    "\n",
    "\n",
    "def get_real_name_fuzzy(usergamename,finalgamelist_df):\n",
    "    # Clean up\n",
    "    usergamename = re.sub(r\"(@[A-Za-z0-9]+)|([^0-9A-Za-z \\t])|(\\w+:\\/\\/\\S+)|^rt|http.+?\", \"\", usergamename)\n",
    "    #usergamename = re.sub(r\"\\d+\", \"\", usergamename) # Maybe dont remove numbers?\n",
    "    gamename_matchlist = [fuzz.token_sort_ratio(x,usergamename) for x in finalgamelist_df['game_name']]\n",
    "    possiblegame_idx  = [i for i, x in enumerate(gamename_matchlist) if x == max(gamename_matchlist)]\n",
    "    possiblegame_idx = possiblegame_idx[0] # Get first, make it number\n",
    "    #possiblegame_name = list(finalgamelist_df.loc[finalgamelist_df['idx']==possiblegame_idx,'gamename'])[0]\n",
    "    possiblegame_name = finalgamelist_df.iloc[possiblegame_idx,2]\n",
    "    #print('Best match: {}'.format(possiblegame_name))\n",
    "    \n",
    "    return possiblegame_name,max(gamename_matchlist)\n",
    "\n",
    "def make_clickable(url,text): # Make liks in pd df for url in table\n",
    "    return f'<a target=\"_blank\" href=\"{url}\">{text}</a>'\n",
    "\n",
    "def streamlitify_df(df):\n",
    "    # Get original URLS\n",
    "    df['Game_link'] = [make_clickable(a,b) for a,b in zip(list(df['url']),list(df['Game']))]\n",
    "    return df\n",
    "\n",
    "\n",
    "#def get_final_filt_list()"
   ]
  },
  {
   "cell_type": "code",
   "execution_count": 8,
   "metadata": {},
   "outputs": [],
   "source": [
    "# CREATES THE DEMO GAME LIST\n",
    "allgamedata_df['numeric_ranks']=[int(x) for x in allgamedata_df['game_rank']]\n",
    "topranked_df = pd.DataFrame(allgamedata_df.loc[allgamedata_df['numeric_ranks']<=50,'game_name']) # To go back n forth\n",
    "topranked_df.sort_values(by='game_name',inplace=True)\n",
    "topranked_idx = topranked_df.index\n",
    "demogamelist_manual = ['Azul', 'Catan', 'Candy Land','Carcassonne','Cards Against Humanity', 'Clue','Pandemic', 'Scrabble','Taboo' ]\n",
    "#demo_gamelist = tuple(list(finalgamelist_df.loc[topranked_idx,'game_name']))\n",
    "demo_gamelist = tuple(demogamelist_manual)"
   ]
  },
  {
   "cell_type": "markdown",
   "metadata": {},
   "source": [
    "## Pretend some game selected"
   ]
  },
  {
   "cell_type": "code",
   "execution_count": 10,
   "metadata": {},
   "outputs": [
    {
     "name": "stdout",
     "output_type": "stream",
     "text": [
      "Best guess: Catan (match score: 100/100)\n"
     ]
    }
   ],
   "source": [
    "mygamename = 'catan'\n",
    "# IF NAME IS UNCLEAR\n",
    "mygamename,qltynum = get_real_name_fuzzy(mygamename,finalgamelist_df)\n",
    "print('Best guess: {} (match score: {}/100)'.format(mygamename,str(qltynum)))\n",
    "mygameid = list(finalgamelist_df.index[finalgamelist_df['game_name']==mygamename])[0] # Need INDEX, not idx\n",
    "mygameurl=list(allgamedata_df.loc[allgamedata_df['game_name']==mygamename,'bgg_url'])[0]"
   ]
  },
  {
   "cell_type": "code",
   "execution_count": 11,
   "metadata": {},
   "outputs": [],
   "source": [
    "W1=1 # Semantic\n",
    "W2=1 # Feature\n",
    "# FILTERS\n",
    "filt_dict = {'min_rating':2,'min_players':1,'min_dur':1, 'min_numraters':1}\n",
    "#min_rating = 7\n"
   ]
  },
  {
   "cell_type": "code",
   "execution_count": 12,
   "metadata": {},
   "outputs": [],
   "source": [
    "mytop10simlist_df,myFINALsimlist_df = getcompute_similar_games(mygameid,mygamename,allgamedata_df,allgamedocvects,finalgamelist_df,bgg_gameplay_df, allgamePLAYdocvects,W1,W2,filt_dict)"
   ]
  },
  {
   "cell_type": "code",
   "execution_count": null,
   "metadata": {},
   "outputs": [],
   "source": [
    "mygamevect_df = streamlitify_df(mytop10simlist_df)\n",
    "dumtop10 = myFINALsimlist_df.copy().reset_index(drop=True)[:10]\n",
    "dumtop10.index = dumtop10.index+1\n",
    "mygamevect_df = pd.concat((mygamevect_df['Game_link'],dumtop10[['avg_rating','num_raters','numplayersmin','gamedurmin']]),axis=1)\n",
    "mygamevect_df['num_raters']=np.round((np.log10(mygamevect_df['num_raters'])/5)*100).astype('int32')\n",
    "mygamevect_df['numplayersmin']=mygamevect_df['numplayersmin'].astype('int32')\n",
    "mygamevect_df['gamedurmin']=mygamevect_df['gamedurmin'].astype('int32')\n",
    "mygamevect_df.rename(columns={'Game_link':'Game','avg_rating':'Avg. Rating','num_raters':'Popularity','numplayersmin':'Min. Number of Players','gamedurmin':'Min. Game Duration(min)'},inplace=True)\n",
    "mygamevect_df\n",
    "dumtop10"
   ]
  },
  {
   "cell_type": "code",
   "execution_count": null,
   "metadata": {},
   "outputs": [],
   "source": []
  },
  {
   "cell_type": "code",
   "execution_count": null,
   "metadata": {},
   "outputs": [],
   "source": []
  },
  {
   "cell_type": "code",
   "execution_count": null,
   "metadata": {},
   "outputs": [],
   "source": [
    "mygamename_st_url = f'<a target=\"_blank\" href=\"{mygameurl}\">{mygamename}</a>'\n",
    "mygamename_st_url"
   ]
  },
  {
   "cell_type": "code",
   "execution_count": null,
   "metadata": {},
   "outputs": [],
   "source": [
    "mygameurl"
   ]
  },
  {
   "cell_type": "code",
   "execution_count": null,
   "metadata": {},
   "outputs": [],
   "source": []
  },
  {
   "cell_type": "code",
   "execution_count": null,
   "metadata": {},
   "outputs": [],
   "source": []
  },
  {
   "cell_type": "markdown",
   "metadata": {},
   "source": [
    "#  ******** ROUGH STUFF ****************"
   ]
  },
  {
   "cell_type": "code",
   "execution_count": 30,
   "metadata": {},
   "outputs": [],
   "source": [
    "import matplotlib.pyplot as plt\n",
    "import sklearn.preprocessing as sklpre\n",
    "from scipy import stats"
   ]
  },
  {
   "cell_type": "code",
   "execution_count": 9,
   "metadata": {},
   "outputs": [
    {
     "data": {
      "text/plain": [
       "Index(['idx', 'game_rank', 'game_name', 'num_raters'], dtype='object')"
      ]
     },
     "execution_count": 9,
     "metadata": {},
     "output_type": "execute_result"
    }
   ],
   "source": [
    "finalgamelist_df.columns\n",
    "#finalgamelist_df[['game_rank','game_name']]"
   ]
  },
  {
   "cell_type": "code",
   "execution_count": 155,
   "metadata": {},
   "outputs": [],
   "source": [
    "dumtop10 = myFINALsimlist_df.copy().reset_index(drop=True)[:10]\n",
    "dumtop10.index = dumtop10.index+1\n",
    "top10 = pd.concat((mygamevect_df['Game_link'],dumtop10[['avg_rating','num_raters','numplayersmin','gamedurmin']]),axis=1)"
   ]
  },
  {
   "cell_type": "code",
   "execution_count": 26,
   "metadata": {},
   "outputs": [
    {
     "data": {
      "text/plain": [
       "Index(['game_rank', 'geek_rating', 'avg_rating', 'num_raters', 'game_name',\n",
       "       'game_year', 'bgg_url', 'numplayersmin', 'gamedurmin', 'gamedurmax',\n",
       "       'agemin', 'numeric_ranks'],\n",
       "      dtype='object')"
      ]
     },
     "execution_count": 26,
     "metadata": {},
     "output_type": "execute_result"
    }
   ],
   "source": [
    "allgamedata_df.columns"
   ]
  },
  {
   "cell_type": "code",
   "execution_count": 75,
   "metadata": {},
   "outputs": [
    {
     "name": "stdout",
     "output_type": "stream",
     "text": [
      "2.0718820073061255\n",
      "0.07987535229006934\n"
     ]
    },
    {
     "data": {
      "text/plain": [
       "<matplotlib.axes._subplots.AxesSubplot at 0x7fb4f22756d0>"
      ]
     },
     "execution_count": 75,
     "metadata": {},
     "output_type": "execute_result"
    },
    {
     "data": {
      "image/png": "[encoded data removed]",
      "text/plain": [
       "<Figure size 1008x576 with 3 Axes>"
      ]
     },
     "metadata": {
      "needs_background": "light"
     },
     "output_type": "display_data"
    }
   ],
   "source": [
    "f,a = plt.subplots(1,3,figsize=(14,8))\n",
    "print(np.median(np.log10(allgamedata_df['num_raters'])))\n",
    "numratersfactor1 = np.log10(myFINALsimlist_df.iloc[0,:]['num_raters']) #Current\n",
    "numratersfactor2 = abs(np.log10(allgamedata_df['num_raters'])-numratersfactor1) # Abs diff\n",
    "numratersfactor2 = np.log10(allgamedata_df['num_raters']) * ( 1 - (numratersfactor2/np.max(numratersfactor2)))\n",
    "numratersfactor =  numratersfactor2/5\n",
    "#numratersfactor = (numratersfactor * (np.max(numratersfactor2) - numratersfactor2))/5 # \n",
    "\n",
    "#sns.distplot(np.log10(allgamedata_df['num_raters']))\n",
    "#numratersfactor = (np.log10(allgamedata_df['num_raters']))\n",
    "#numratersfactor = numratersfactor * (1 - ())\n",
    "#numratersfactor = abs(numratersfactor-np.median(numratersfactor))/5\n",
    "print(np.median(numratersfactor))\n",
    "#sns.distplot(numratersfactor/5)\n",
    "sns.scatterplot(allgamedata_df['avg_rating'],allgamedata_df['num_raters'],ax=a[0])\n",
    "sns.scatterplot(allgamedata_df['avg_rating'],numratersfactor, ax=a[1])\n",
    "sns.distplot(numratersfactor,ax=a[2])"
   ]
  },
  {
   "cell_type": "code",
   "execution_count": 143,
   "metadata": {},
   "outputs": [
    {
     "data": {
      "text/html": [
       "<div>\n",
       "<style scoped>\n",
       "    .dataframe tbody tr th:only-of-type {\n",
       "        vertical-align: middle;\n",
       "    }\n",
       "\n",
       "    .dataframe tbody tr th {\n",
       "        vertical-align: top;\n",
       "    }\n",
       "\n",
       "    .dataframe thead th {\n",
       "        text-align: right;\n",
       "    }\n",
       "</style>\n",
       "<table border=\"1\" class=\"dataframe\">\n",
       "  <thead>\n",
       "    <tr style=\"text-align: right;\">\n",
       "      <th></th>\n",
       "      <th>Game</th>\n",
       "      <th>url</th>\n",
       "    </tr>\n",
       "  </thead>\n",
       "  <tbody>\n",
       "    <tr>\n",
       "      <th>1</th>\n",
       "      <td>Apples to Apples</td>\n",
       "      <td>https://boardgamegeek.com//boardgame/74/apples...</td>\n",
       "    </tr>\n",
       "    <tr>\n",
       "      <th>2</th>\n",
       "      <td>Joking Hazard</td>\n",
       "      <td>https://boardgamegeek.com//boardgame/193621/jo...</td>\n",
       "    </tr>\n",
       "    <tr>\n",
       "      <th>3</th>\n",
       "      <td>Dixit</td>\n",
       "      <td>https://boardgamegeek.com//boardgame/39856/dixit</td>\n",
       "    </tr>\n",
       "    <tr>\n",
       "      <th>4</th>\n",
       "      <td>Dixit: Odyssey</td>\n",
       "      <td>https://boardgamegeek.com//boardgame/92828/dix...</td>\n",
       "    </tr>\n",
       "    <tr>\n",
       "      <th>5</th>\n",
       "      <td>Sushi Go Party!</td>\n",
       "      <td>https://boardgamegeek.com//boardgame/192291/su...</td>\n",
       "    </tr>\n",
       "    <tr>\n",
       "      <th>6</th>\n",
       "      <td>Bring Your Own Book</td>\n",
       "      <td>https://boardgamegeek.com//boardgame/173441/br...</td>\n",
       "    </tr>\n",
       "    <tr>\n",
       "      <th>7</th>\n",
       "      <td>7 Wonders</td>\n",
       "      <td>https://boardgamegeek.com//boardgame/68448/7-w...</td>\n",
       "    </tr>\n",
       "    <tr>\n",
       "      <th>8</th>\n",
       "      <td>Race for the Galaxy</td>\n",
       "      <td>https://boardgamegeek.com//boardgame/28143/rac...</td>\n",
       "    </tr>\n",
       "    <tr>\n",
       "      <th>9</th>\n",
       "      <td>Skull</td>\n",
       "      <td>https://boardgamegeek.com//boardgame/92415/skull</td>\n",
       "    </tr>\n",
       "    <tr>\n",
       "      <th>10</th>\n",
       "      <td>Dixit: Journey</td>\n",
       "      <td>https://boardgamegeek.com//boardgame/121288/di...</td>\n",
       "    </tr>\n",
       "  </tbody>\n",
       "</table>\n",
       "</div>"
      ],
      "text/plain": [
       "                   Game                                                url\n",
       "1      Apples to Apples  https://boardgamegeek.com//boardgame/74/apples...\n",
       "2         Joking Hazard  https://boardgamegeek.com//boardgame/193621/jo...\n",
       "3                 Dixit   https://boardgamegeek.com//boardgame/39856/dixit\n",
       "4        Dixit: Odyssey  https://boardgamegeek.com//boardgame/92828/dix...\n",
       "5       Sushi Go Party!  https://boardgamegeek.com//boardgame/192291/su...\n",
       "6   Bring Your Own Book  https://boardgamegeek.com//boardgame/173441/br...\n",
       "7             7 Wonders  https://boardgamegeek.com//boardgame/68448/7-w...\n",
       "8   Race for the Galaxy  https://boardgamegeek.com//boardgame/28143/rac...\n",
       "9                 Skull   https://boardgamegeek.com//boardgame/92415/skull\n",
       "10       Dixit: Journey  https://boardgamegeek.com//boardgame/121288/di..."
      ]
     },
     "execution_count": 143,
     "metadata": {},
     "output_type": "execute_result"
    }
   ],
   "source": [
    "mytop10simlist_df"
   ]
  },
  {
   "cell_type": "code",
   "execution_count": 142,
   "metadata": {},
   "outputs": [
    {
     "data": {
      "text/html": [
       "<div>\n",
       "<style scoped>\n",
       "    .dataframe tbody tr th:only-of-type {\n",
       "        vertical-align: middle;\n",
       "    }\n",
       "\n",
       "    .dataframe tbody tr th {\n",
       "        vertical-align: top;\n",
       "    }\n",
       "\n",
       "    .dataframe thead th {\n",
       "        text-align: right;\n",
       "    }\n",
       "</style>\n",
       "<table border=\"1\" class=\"dataframe\">\n",
       "  <thead>\n",
       "    <tr style=\"text-align: right;\">\n",
       "      <th></th>\n",
       "      <th>game_rank</th>\n",
       "      <th>game_name</th>\n",
       "      <th>Similarity</th>\n",
       "      <th>GameplaySimilarity</th>\n",
       "      <th>WghtdSimilarity</th>\n",
       "      <th>avg_rating</th>\n",
       "      <th>num_raters</th>\n",
       "      <th>bgg_url</th>\n",
       "      <th>numplayersmin</th>\n",
       "      <th>gamedurmin</th>\n",
       "      <th>agemin</th>\n",
       "      <th>supercombo</th>\n",
       "    </tr>\n",
       "  </thead>\n",
       "  <tbody>\n",
       "    <tr>\n",
       "      <th>5</th>\n",
       "      <td>4321</td>\n",
       "      <td>Apples to Apples</td>\n",
       "      <td>0.977594</td>\n",
       "      <td>0.826923</td>\n",
       "      <td>1.804517</td>\n",
       "      <td>5.83</td>\n",
       "      <td>17061.0</td>\n",
       "      <td>https://boardgamegeek.com//boardgame/74/apples...</td>\n",
       "      <td>4.0</td>\n",
       "      <td>30.0</td>\n",
       "      <td>12.0</td>\n",
       "      <td>0.749596</td>\n",
       "    </tr>\n",
       "    <tr>\n",
       "      <th>4</th>\n",
       "      <td>1934</td>\n",
       "      <td>Joking Hazard</td>\n",
       "      <td>0.968616</td>\n",
       "      <td>0.901775</td>\n",
       "      <td>1.870390</td>\n",
       "      <td>6.44</td>\n",
       "      <td>3862.0</td>\n",
       "      <td>https://boardgamegeek.com//boardgame/193621/jo...</td>\n",
       "      <td>3.0</td>\n",
       "      <td>30.0</td>\n",
       "      <td>18.0</td>\n",
       "      <td>0.742894</td>\n",
       "    </tr>\n",
       "    <tr>\n",
       "      <th>76</th>\n",
       "      <td>250</td>\n",
       "      <td>Dixit</td>\n",
       "      <td>0.980458</td>\n",
       "      <td>0.620393</td>\n",
       "      <td>1.600851</td>\n",
       "      <td>7.27</td>\n",
       "      <td>46879.0</td>\n",
       "      <td>https://boardgamegeek.com//boardgame/39856/dixit</td>\n",
       "      <td>3.0</td>\n",
       "      <td>30.0</td>\n",
       "      <td>8.0</td>\n",
       "      <td>0.742085</td>\n",
       "    </tr>\n",
       "    <tr>\n",
       "      <th>53</th>\n",
       "      <td>198</td>\n",
       "      <td>Dixit: Odyssey</td>\n",
       "      <td>0.976949</td>\n",
       "      <td>0.650945</td>\n",
       "      <td>1.627893</td>\n",
       "      <td>7.46</td>\n",
       "      <td>15343.0</td>\n",
       "      <td>https://boardgamegeek.com//boardgame/92828/dix...</td>\n",
       "      <td>3.0</td>\n",
       "      <td>30.0</td>\n",
       "      <td>8.0</td>\n",
       "      <td>0.727423</td>\n",
       "    </tr>\n",
       "    <tr>\n",
       "      <th>158</th>\n",
       "      <td>177</td>\n",
       "      <td>Sushi Go Party!</td>\n",
       "      <td>0.963708</td>\n",
       "      <td>0.587963</td>\n",
       "      <td>1.551670</td>\n",
       "      <td>7.48</td>\n",
       "      <td>18753.0</td>\n",
       "      <td>https://boardgamegeek.com//boardgame/192291/su...</td>\n",
       "      <td>2.0</td>\n",
       "      <td>20.0</td>\n",
       "      <td>8.0</td>\n",
       "      <td>0.713023</td>\n",
       "    </tr>\n",
       "    <tr>\n",
       "      <th>...</th>\n",
       "      <td>...</td>\n",
       "      <td>...</td>\n",
       "      <td>...</td>\n",
       "      <td>...</td>\n",
       "      <td>...</td>\n",
       "      <td>...</td>\n",
       "      <td>...</td>\n",
       "      <td>...</td>\n",
       "      <td>...</td>\n",
       "      <td>...</td>\n",
       "      <td>...</td>\n",
       "      <td>...</td>\n",
       "    </tr>\n",
       "    <tr>\n",
       "      <th>17963</th>\n",
       "      <td>18165</td>\n",
       "      <td>Civil War Classics, Volume 1: The Battles of P...</td>\n",
       "      <td>0.891843</td>\n",
       "      <td>0.157019</td>\n",
       "      <td>1.048861</td>\n",
       "      <td>3.15</td>\n",
       "      <td>30.0</td>\n",
       "      <td>https://boardgamegeek.com//boardgame/10793/civ...</td>\n",
       "      <td>2.0</td>\n",
       "      <td>240.0</td>\n",
       "      <td>12.0</td>\n",
       "      <td>0.383006</td>\n",
       "    </tr>\n",
       "    <tr>\n",
       "      <th>17860</th>\n",
       "      <td>18407</td>\n",
       "      <td>Worlds of Heroes &amp; Tyrants</td>\n",
       "      <td>0.902342</td>\n",
       "      <td>0.157019</td>\n",
       "      <td>1.059360</td>\n",
       "      <td>2.80</td>\n",
       "      <td>30.0</td>\n",
       "      <td>https://boardgamegeek.com//boardgame/1546/worl...</td>\n",
       "      <td>2.0</td>\n",
       "      <td>60.0</td>\n",
       "      <td>8.0</td>\n",
       "      <td>0.380416</td>\n",
       "    </tr>\n",
       "    <tr>\n",
       "      <th>18139</th>\n",
       "      <td>18629</td>\n",
       "      <td>The Civil War</td>\n",
       "      <td>0.833706</td>\n",
       "      <td>0.168529</td>\n",
       "      <td>1.002235</td>\n",
       "      <td>2.84</td>\n",
       "      <td>48.0</td>\n",
       "      <td>https://boardgamegeek.com//boardgame/11370/civ...</td>\n",
       "      <td>2.0</td>\n",
       "      <td>1200.0</td>\n",
       "      <td>12.0</td>\n",
       "      <td>0.376937</td>\n",
       "    </tr>\n",
       "    <tr>\n",
       "      <th>18174</th>\n",
       "      <td>17147</td>\n",
       "      <td>Amos Daragon</td>\n",
       "      <td>0.609788</td>\n",
       "      <td>0.157019</td>\n",
       "      <td>0.766807</td>\n",
       "      <td>4.73</td>\n",
       "      <td>32.0</td>\n",
       "      <td>https://boardgamegeek.com//boardgame/58339/amo...</td>\n",
       "      <td>3.0</td>\n",
       "      <td>30.0</td>\n",
       "      <td>9.0</td>\n",
       "      <td>0.337436</td>\n",
       "    </tr>\n",
       "    <tr>\n",
       "      <th>18175</th>\n",
       "      <td>14336</td>\n",
       "      <td>Dracula: El Vampiro del Castillo</td>\n",
       "      <td>0.463472</td>\n",
       "      <td>0.205586</td>\n",
       "      <td>0.669058</td>\n",
       "      <td>5.81</td>\n",
       "      <td>32.0</td>\n",
       "      <td>https://boardgamegeek.com//boardgame/36538/dra...</td>\n",
       "      <td>2.0</td>\n",
       "      <td>30.0</td>\n",
       "      <td>NaN</td>\n",
       "      <td>0.329091</td>\n",
       "    </tr>\n",
       "  </tbody>\n",
       "</table>\n",
       "<p>17679 rows × 12 columns</p>\n",
       "</div>"
      ],
      "text/plain": [
       "       game_rank                                          game_name  \\\n",
       "5           4321                                   Apples to Apples   \n",
       "4           1934                                      Joking Hazard   \n",
       "76           250                                              Dixit   \n",
       "53           198                                     Dixit: Odyssey   \n",
       "158          177                                    Sushi Go Party!   \n",
       "...          ...                                                ...   \n",
       "17963      18165  Civil War Classics, Volume 1: The Battles of P...   \n",
       "17860      18407                         Worlds of Heroes & Tyrants   \n",
       "18139      18629                                      The Civil War   \n",
       "18174      17147                                       Amos Daragon   \n",
       "18175      14336                   Dracula: El Vampiro del Castillo   \n",
       "\n",
       "       Similarity  GameplaySimilarity  WghtdSimilarity  avg_rating  \\\n",
       "5        0.977594            0.826923         1.804517        5.83   \n",
       "4        0.968616            0.901775         1.870390        6.44   \n",
       "76       0.980458            0.620393         1.600851        7.27   \n",
       "53       0.976949            0.650945         1.627893        7.46   \n",
       "158      0.963708            0.587963         1.551670        7.48   \n",
       "...           ...                 ...              ...         ...   \n",
       "17963    0.891843            0.157019         1.048861        3.15   \n",
       "17860    0.902342            0.157019         1.059360        2.80   \n",
       "18139    0.833706            0.168529         1.002235        2.84   \n",
       "18174    0.609788            0.157019         0.766807        4.73   \n",
       "18175    0.463472            0.205586         0.669058        5.81   \n",
       "\n",
       "       num_raters                                            bgg_url  \\\n",
       "5         17061.0  https://boardgamegeek.com//boardgame/74/apples...   \n",
       "4          3862.0  https://boardgamegeek.com//boardgame/193621/jo...   \n",
       "76        46879.0   https://boardgamegeek.com//boardgame/39856/dixit   \n",
       "53        15343.0  https://boardgamegeek.com//boardgame/92828/dix...   \n",
       "158       18753.0  https://boardgamegeek.com//boardgame/192291/su...   \n",
       "...           ...                                                ...   \n",
       "17963        30.0  https://boardgamegeek.com//boardgame/10793/civ...   \n",
       "17860        30.0  https://boardgamegeek.com//boardgame/1546/worl...   \n",
       "18139        48.0  https://boardgamegeek.com//boardgame/11370/civ...   \n",
       "18174        32.0  https://boardgamegeek.com//boardgame/58339/amo...   \n",
       "18175        32.0  https://boardgamegeek.com//boardgame/36538/dra...   \n",
       "\n",
       "       numplayersmin  gamedurmin  agemin  supercombo  \n",
       "5                4.0        30.0    12.0    0.749596  \n",
       "4                3.0        30.0    18.0    0.742894  \n",
       "76               3.0        30.0     8.0    0.742085  \n",
       "53               3.0        30.0     8.0    0.727423  \n",
       "158              2.0        20.0     8.0    0.713023  \n",
       "...              ...         ...     ...         ...  \n",
       "17963            2.0       240.0    12.0    0.383006  \n",
       "17860            2.0        60.0     8.0    0.380416  \n",
       "18139            2.0      1200.0    12.0    0.376937  \n",
       "18174            3.0        30.0     9.0    0.337436  \n",
       "18175            2.0        30.0     NaN    0.329091  \n",
       "\n",
       "[17679 rows x 12 columns]"
      ]
     },
     "execution_count": 142,
     "metadata": {},
     "output_type": "execute_result"
    }
   ],
   "source": [
    "myFINALsimlist_df"
   ]
  },
  {
   "cell_type": "code",
   "execution_count": 134,
   "metadata": {},
   "outputs": [
    {
     "data": {
      "text/html": [
       "<div>\n",
       "<style scoped>\n",
       "    .dataframe tbody tr th:only-of-type {\n",
       "        vertical-align: middle;\n",
       "    }\n",
       "\n",
       "    .dataframe tbody tr th {\n",
       "        vertical-align: top;\n",
       "    }\n",
       "\n",
       "    .dataframe thead th {\n",
       "        text-align: right;\n",
       "    }\n",
       "</style>\n",
       "<table border=\"1\" class=\"dataframe\">\n",
       "  <thead>\n",
       "    <tr style=\"text-align: right;\">\n",
       "      <th></th>\n",
       "      <th>Game</th>\n",
       "      <th>url</th>\n",
       "    </tr>\n",
       "  </thead>\n",
       "  <tbody>\n",
       "    <tr>\n",
       "      <th>1</th>\n",
       "      <td>Apples to Apples</td>\n",
       "      <td>https://boardgamegeek.com//boardgame/74/apples...</td>\n",
       "    </tr>\n",
       "    <tr>\n",
       "      <th>2</th>\n",
       "      <td>Joking Hazard</td>\n",
       "      <td>https://boardgamegeek.com//boardgame/193621/jo...</td>\n",
       "    </tr>\n",
       "    <tr>\n",
       "      <th>3</th>\n",
       "      <td>Dixit</td>\n",
       "      <td>https://boardgamegeek.com//boardgame/39856/dixit</td>\n",
       "    </tr>\n",
       "    <tr>\n",
       "      <th>4</th>\n",
       "      <td>Dixit: Odyssey</td>\n",
       "      <td>https://boardgamegeek.com//boardgame/92828/dix...</td>\n",
       "    </tr>\n",
       "    <tr>\n",
       "      <th>5</th>\n",
       "      <td>Sushi Go Party!</td>\n",
       "      <td>https://boardgamegeek.com//boardgame/192291/su...</td>\n",
       "    </tr>\n",
       "    <tr>\n",
       "      <th>6</th>\n",
       "      <td>Bring Your Own Book</td>\n",
       "      <td>https://boardgamegeek.com//boardgame/173441/br...</td>\n",
       "    </tr>\n",
       "    <tr>\n",
       "      <th>7</th>\n",
       "      <td>7 Wonders</td>\n",
       "      <td>https://boardgamegeek.com//boardgame/68448/7-w...</td>\n",
       "    </tr>\n",
       "    <tr>\n",
       "      <th>8</th>\n",
       "      <td>Race for the Galaxy</td>\n",
       "      <td>https://boardgamegeek.com//boardgame/28143/rac...</td>\n",
       "    </tr>\n",
       "    <tr>\n",
       "      <th>9</th>\n",
       "      <td>Skull</td>\n",
       "      <td>https://boardgamegeek.com//boardgame/92415/skull</td>\n",
       "    </tr>\n",
       "    <tr>\n",
       "      <th>10</th>\n",
       "      <td>Dixit: Journey</td>\n",
       "      <td>https://boardgamegeek.com//boardgame/121288/di...</td>\n",
       "    </tr>\n",
       "  </tbody>\n",
       "</table>\n",
       "</div>"
      ],
      "text/plain": [
       "                   Game                                                url\n",
       "1      Apples to Apples  https://boardgamegeek.com//boardgame/74/apples...\n",
       "2         Joking Hazard  https://boardgamegeek.com//boardgame/193621/jo...\n",
       "3                 Dixit   https://boardgamegeek.com//boardgame/39856/dixit\n",
       "4        Dixit: Odyssey  https://boardgamegeek.com//boardgame/92828/dix...\n",
       "5       Sushi Go Party!  https://boardgamegeek.com//boardgame/192291/su...\n",
       "6   Bring Your Own Book  https://boardgamegeek.com//boardgame/173441/br...\n",
       "7             7 Wonders  https://boardgamegeek.com//boardgame/68448/7-w...\n",
       "8   Race for the Galaxy  https://boardgamegeek.com//boardgame/28143/rac...\n",
       "9                 Skull   https://boardgamegeek.com//boardgame/92415/skull\n",
       "10       Dixit: Journey  https://boardgamegeek.com//boardgame/121288/di..."
      ]
     },
     "execution_count": 134,
     "metadata": {},
     "output_type": "execute_result"
    }
   ],
   "source": [
    "mytop10simlist_df"
   ]
  },
  {
   "cell_type": "code",
   "execution_count": 130,
   "metadata": {},
   "outputs": [
    {
     "data": {
      "text/html": [
       "<div>\n",
       "<style scoped>\n",
       "    .dataframe tbody tr th:only-of-type {\n",
       "        vertical-align: middle;\n",
       "    }\n",
       "\n",
       "    .dataframe tbody tr th {\n",
       "        vertical-align: top;\n",
       "    }\n",
       "\n",
       "    .dataframe thead th {\n",
       "        text-align: right;\n",
       "    }\n",
       "</style>\n",
       "<table border=\"1\" class=\"dataframe\">\n",
       "  <thead>\n",
       "    <tr style=\"text-align: right;\">\n",
       "      <th></th>\n",
       "      <th>Game</th>\n",
       "      <th>url</th>\n",
       "      <th>Game_link</th>\n",
       "    </tr>\n",
       "  </thead>\n",
       "  <tbody>\n",
       "    <tr>\n",
       "      <th>1</th>\n",
       "      <td>Apples to Apples</td>\n",
       "      <td>https://boardgamegeek.com//boardgame/74/apples...</td>\n",
       "      <td>&lt;a target=\"_blank\" href=\"https://boardgamegeek...</td>\n",
       "    </tr>\n",
       "    <tr>\n",
       "      <th>2</th>\n",
       "      <td>Joking Hazard</td>\n",
       "      <td>https://boardgamegeek.com//boardgame/193621/jo...</td>\n",
       "      <td>&lt;a target=\"_blank\" href=\"https://boardgamegeek...</td>\n",
       "    </tr>\n",
       "    <tr>\n",
       "      <th>3</th>\n",
       "      <td>Dixit</td>\n",
       "      <td>https://boardgamegeek.com//boardgame/39856/dixit</td>\n",
       "      <td>&lt;a target=\"_blank\" href=\"https://boardgamegeek...</td>\n",
       "    </tr>\n",
       "    <tr>\n",
       "      <th>4</th>\n",
       "      <td>Dixit: Odyssey</td>\n",
       "      <td>https://boardgamegeek.com//boardgame/92828/dix...</td>\n",
       "      <td>&lt;a target=\"_blank\" href=\"https://boardgamegeek...</td>\n",
       "    </tr>\n",
       "    <tr>\n",
       "      <th>5</th>\n",
       "      <td>Sushi Go Party!</td>\n",
       "      <td>https://boardgamegeek.com//boardgame/192291/su...</td>\n",
       "      <td>&lt;a target=\"_blank\" href=\"https://boardgamegeek...</td>\n",
       "    </tr>\n",
       "    <tr>\n",
       "      <th>6</th>\n",
       "      <td>Bring Your Own Book</td>\n",
       "      <td>https://boardgamegeek.com//boardgame/173441/br...</td>\n",
       "      <td>&lt;a target=\"_blank\" href=\"https://boardgamegeek...</td>\n",
       "    </tr>\n",
       "    <tr>\n",
       "      <th>7</th>\n",
       "      <td>7 Wonders</td>\n",
       "      <td>https://boardgamegeek.com//boardgame/68448/7-w...</td>\n",
       "      <td>&lt;a target=\"_blank\" href=\"https://boardgamegeek...</td>\n",
       "    </tr>\n",
       "    <tr>\n",
       "      <th>8</th>\n",
       "      <td>Race for the Galaxy</td>\n",
       "      <td>https://boardgamegeek.com//boardgame/28143/rac...</td>\n",
       "      <td>&lt;a target=\"_blank\" href=\"https://boardgamegeek...</td>\n",
       "    </tr>\n",
       "    <tr>\n",
       "      <th>9</th>\n",
       "      <td>Skull</td>\n",
       "      <td>https://boardgamegeek.com//boardgame/92415/skull</td>\n",
       "      <td>&lt;a target=\"_blank\" href=\"https://boardgamegeek...</td>\n",
       "    </tr>\n",
       "    <tr>\n",
       "      <th>10</th>\n",
       "      <td>Dixit: Journey</td>\n",
       "      <td>https://boardgamegeek.com//boardgame/121288/di...</td>\n",
       "      <td>&lt;a target=\"_blank\" href=\"https://boardgamegeek...</td>\n",
       "    </tr>\n",
       "  </tbody>\n",
       "</table>\n",
       "</div>"
      ],
      "text/plain": [
       "                   Game                                                url  \\\n",
       "1      Apples to Apples  https://boardgamegeek.com//boardgame/74/apples...   \n",
       "2         Joking Hazard  https://boardgamegeek.com//boardgame/193621/jo...   \n",
       "3                 Dixit   https://boardgamegeek.com//boardgame/39856/dixit   \n",
       "4        Dixit: Odyssey  https://boardgamegeek.com//boardgame/92828/dix...   \n",
       "5       Sushi Go Party!  https://boardgamegeek.com//boardgame/192291/su...   \n",
       "6   Bring Your Own Book  https://boardgamegeek.com//boardgame/173441/br...   \n",
       "7             7 Wonders  https://boardgamegeek.com//boardgame/68448/7-w...   \n",
       "8   Race for the Galaxy  https://boardgamegeek.com//boardgame/28143/rac...   \n",
       "9                 Skull   https://boardgamegeek.com//boardgame/92415/skull   \n",
       "10       Dixit: Journey  https://boardgamegeek.com//boardgame/121288/di...   \n",
       "\n",
       "                                            Game_link  \n",
       "1   <a target=\"_blank\" href=\"https://boardgamegeek...  \n",
       "2   <a target=\"_blank\" href=\"https://boardgamegeek...  \n",
       "3   <a target=\"_blank\" href=\"https://boardgamegeek...  \n",
       "4   <a target=\"_blank\" href=\"https://boardgamegeek...  \n",
       "5   <a target=\"_blank\" href=\"https://boardgamegeek...  \n",
       "6   <a target=\"_blank\" href=\"https://boardgamegeek...  \n",
       "7   <a target=\"_blank\" href=\"https://boardgamegeek...  \n",
       "8   <a target=\"_blank\" href=\"https://boardgamegeek...  \n",
       "9   <a target=\"_blank\" href=\"https://boardgamegeek...  \n",
       "10  <a target=\"_blank\" href=\"https://boardgamegeek...  "
      ]
     },
     "execution_count": 130,
     "metadata": {},
     "output_type": "execute_result"
    }
   ],
   "source": [
    "mytop10simlist_df"
   ]
  },
  {
   "cell_type": "code",
   "execution_count": null,
   "metadata": {},
   "outputs": [],
   "source": [
    "myFINALsimlist_df['supercombo'] = myFINALsimlist_df['Similarity']"
   ]
  },
  {
   "cell_type": "code",
   "execution_count": 61,
   "metadata": {},
   "outputs": [],
   "source": [
    "dumsupercombo = np.array(myFINALsimlist_df['Similarity'] + myFINALsimlist_df['GameplaySimilarity'] + myFINALsimlist_df['avg_rating']/10 + np.log10(myFINALsimlist_df['num_raters'])/5)/4"
   ]
  },
  {
   "cell_type": "code",
   "execution_count": 62,
   "metadata": {},
   "outputs": [
    {
     "data": {
      "text/plain": [
       "0.6408287038693953"
      ]
     },
     "execution_count": 62,
     "metadata": {},
     "output_type": "execute_result"
    }
   ],
   "source": [
    "dumsupercombo.mean()"
   ]
  },
  {
   "cell_type": "code",
   "execution_count": 92,
   "metadata": {},
   "outputs": [
    {
     "data": {
      "text/plain": [
       "(17680,)"
      ]
     },
     "execution_count": 92,
     "metadata": {},
     "output_type": "execute_result"
    }
   ],
   "source": [
    "x=stats.boxcox(myFINALsimlist_df['Similarity'])\n",
    "x[0].shape"
   ]
  },
  {
   "cell_type": "code",
   "execution_count": 94,
   "metadata": {},
   "outputs": [
    {
     "data": {
      "image/png": "[encoded data removed]",
      "text/plain": [
       "<Figure size 1296x360 with 4 Axes>"
      ]
     },
     "metadata": {
      "needs_background": "light"
     },
     "output_type": "display_data"
    }
   ],
   "source": [
    "f,a = plt.subplots(1,4,figsize=(18,5))\n",
    "sns.distplot(sklpre.scale(stats.boxcox(myFINALsimlist_df['Similarity'])[0]), ax=a[0])\n",
    "#plt.title('SEM_sim')\n",
    "sns.distplot(myFINALsimlist_df['GameplaySimilarity'], ax=a[1])\n",
    "#plt.title('FTR_sim')\n",
    "sns.distplot(myFINALsimlist_df['avg_rating']/10, ax=a[2])\n",
    "#plt.title('Avg_rtng')\n",
    "sns.distplot(np.log10(myFINALsimlist_df['num_raters'])/5, ax=a[3])\n",
    "#plt.title('Num_raters')\n",
    "plt.show()"
   ]
  },
  {
   "cell_type": "code",
   "execution_count": 100,
   "metadata": {},
   "outputs": [
    {
     "data": {
      "text/plain": [
       "7.04"
      ]
     },
     "execution_count": 100,
     "metadata": {},
     "output_type": "execute_result"
    }
   ],
   "source": [
    "x=myFINALsimlist_df.iloc[0,:]['avg_rating']\n",
    "x"
   ]
  },
  {
   "cell_type": "code",
   "execution_count": null,
   "metadata": {},
   "outputs": [],
   "source": [
    "myFINALsimlist_df = myFINALsimlist_df.iloc[0:10,:]\n",
    "myFINALsimlist_df"
   ]
  },
  {
   "cell_type": "code",
   "execution_count": null,
   "metadata": {},
   "outputs": [],
   "source": [
    "# Create DF with all the filter data\n",
    "dum=allgamedata_df.loc[[list(allgamedata_df.index[allgamedata_df['game_rank']==n])[0] for n in myFINALsimlist_df.index],:]\n",
    "dum = dum[[ 'avg_rating', 'bgg_url', 'numplayersmin', 'gamedurmin','agemin']].copy()\n",
    "dum.reset_index(drop=True, inplace=True)\n",
    "# Add this into myFINALsimlist_df\n",
    "myFINALsimlist_df.reset_index(inplace=True)\n",
    "myFINALsimlist_df=pd.concat((myFINALsimlist_df,dum),axis=1)\n",
    "# Create filter\n",
    "myfilters = (myFINALsimlist_df['avg_rating']>=filt_dict.get('min_rating'))  &  (myFINALsimlist_df['numplayersmin']>=filt_dict.get('min_players'))  &  (myFINALsimlist_df['gamedurmin']>=filt_dict.get('min_dur'))\n",
    "# UPDATE myFINALsimlist_df\n",
    "myFINALsimlist_df = myFINALsimlist_df.loc[myfilters,:].copy()"
   ]
  },
  {
   "cell_type": "code",
   "execution_count": null,
   "metadata": {},
   "outputs": [],
   "source": []
  },
  {
   "cell_type": "code",
   "execution_count": null,
   "metadata": {},
   "outputs": [],
   "source": [
    "mytop10simlist_df,myFINALsimlist_df = getcompute_similar_games(mygameid,mygamename,allgamedata_df,allgamedocvects,finalgamelist_df,bgg_gameplay_df, allgamePLAYdocvects,W1,W2,filt_dict)"
   ]
  },
  {
   "cell_type": "code",
   "execution_count": null,
   "metadata": {},
   "outputs": [],
   "source": [
    "mytop10simlist_df"
   ]
  },
  {
   "cell_type": "code",
   "execution_count": null,
   "metadata": {},
   "outputs": [],
   "source": [
    "urllist=[]\n",
    "for gamename in mytop10simlist_df['game_name']:\n",
    "    print(gamename)\n",
    "    #urllist.append(list(allgamedata_df.loc[allgamedata_df['game_name']==gamename,'bgg_url'])[0])"
   ]
  },
  {
   "cell_type": "code",
   "execution_count": null,
   "metadata": {},
   "outputs": [],
   "source": [
    "len(myFINALsimlist_df)"
   ]
  },
  {
   "cell_type": "code",
   "execution_count": null,
   "metadata": {},
   "outputs": [],
   "source": [
    "allgamedata_df.columns"
   ]
  },
  {
   "cell_type": "code",
   "execution_count": null,
   "metadata": {},
   "outputs": [],
   "source": [
    "import matplotlib.pyplot as plt\n",
    "import seaborn as sns\n",
    "sns.set(context='talk')"
   ]
  },
  {
   "cell_type": "code",
   "execution_count": null,
   "metadata": {},
   "outputs": [],
   "source": [
    "plt.hist(np.log10(allgamedata_df['num_raters']))"
   ]
  },
  {
   "cell_type": "code",
   "execution_count": null,
   "metadata": {},
   "outputs": [],
   "source": [
    "sns.jointplot(np.log10(allgamedata_df['num_raters']),allgamedata_df['avg_rating'],kind='hex')\n"
   ]
  },
  {
   "cell_type": "code",
   "execution_count": null,
   "metadata": {},
   "outputs": [],
   "source": [
    "allgamedata_df.describe()\n",
    "dum =allgamedata_df.copy()\n",
    "dum['lognumraters'] = np.log10(allgamedata_df['num_raters'])"
   ]
  },
  {
   "cell_type": "code",
   "execution_count": null,
   "metadata": {},
   "outputs": [],
   "source": [
    "sns.pairplot(dum[['game_rank','avg_rating','lognumraters','game_year','numplayersmin']])"
   ]
  },
  {
   "cell_type": "code",
   "execution_count": null,
   "metadata": {},
   "outputs": [],
   "source": [
    "finalgamelist_df"
   ]
  },
  {
   "cell_type": "code",
   "execution_count": null,
   "metadata": {},
   "outputs": [],
   "source": [
    "allgamedata_df.columns"
   ]
  },
  {
   "cell_type": "code",
   "execution_count": null,
   "metadata": {},
   "outputs": [],
   "source": [
    "finalgamelist_df['numraters'] = [list(allgamedata_df.loc[allgamedata_df['game_name']==g,'num_raters'])[0] for g in finalgamelist_df['game_name']]\n",
    "                                      \n",
    "                                      \n",
    "                                      "
   ]
  },
  {
   "cell_type": "code",
   "execution_count": null,
   "metadata": {},
   "outputs": [],
   "source": [
    "finalgamelist_df"
   ]
  },
  {
   "cell_type": "code",
   "execution_count": 7,
   "metadata": {},
   "outputs": [
    {
     "data": {
      "text/html": [
       "<div>\n",
       "<style scoped>\n",
       "    .dataframe tbody tr th:only-of-type {\n",
       "        vertical-align: middle;\n",
       "    }\n",
       "\n",
       "    .dataframe tbody tr th {\n",
       "        vertical-align: top;\n",
       "    }\n",
       "\n",
       "    .dataframe thead th {\n",
       "        text-align: right;\n",
       "    }\n",
       "</style>\n",
       "<table border=\"1\" class=\"dataframe\">\n",
       "  <thead>\n",
       "    <tr style=\"text-align: right;\">\n",
       "      <th></th>\n",
       "      <th>idx</th>\n",
       "      <th>game_rank</th>\n",
       "      <th>num_raters</th>\n",
       "    </tr>\n",
       "  </thead>\n",
       "  <tbody>\n",
       "    <tr>\n",
       "      <th>count</th>\n",
       "      <td>18561.000000</td>\n",
       "      <td>18561.000000</td>\n",
       "      <td>18561.000000</td>\n",
       "    </tr>\n",
       "    <tr>\n",
       "      <th>mean</th>\n",
       "      <td>9374.926890</td>\n",
       "      <td>9375.926890</td>\n",
       "      <td>861.334842</td>\n",
       "    </tr>\n",
       "    <tr>\n",
       "      <th>std</th>\n",
       "      <td>5449.683972</td>\n",
       "      <td>5449.683972</td>\n",
       "      <td>3491.090133</td>\n",
       "    </tr>\n",
       "    <tr>\n",
       "      <th>min</th>\n",
       "      <td>0.000000</td>\n",
       "      <td>1.000000</td>\n",
       "      <td>30.000000</td>\n",
       "    </tr>\n",
       "    <tr>\n",
       "      <th>25%</th>\n",
       "      <td>4656.000000</td>\n",
       "      <td>4657.000000</td>\n",
       "      <td>56.000000</td>\n",
       "    </tr>\n",
       "    <tr>\n",
       "      <th>50%</th>\n",
       "      <td>9339.000000</td>\n",
       "      <td>9340.000000</td>\n",
       "      <td>123.000000</td>\n",
       "    </tr>\n",
       "    <tr>\n",
       "      <th>75%</th>\n",
       "      <td>14073.000000</td>\n",
       "      <td>14074.000000</td>\n",
       "      <td>395.000000</td>\n",
       "    </tr>\n",
       "    <tr>\n",
       "      <th>max</th>\n",
       "      <td>18899.000000</td>\n",
       "      <td>18900.000000</td>\n",
       "      <td>94477.000000</td>\n",
       "    </tr>\n",
       "  </tbody>\n",
       "</table>\n",
       "</div>"
      ],
      "text/plain": [
       "                idx     game_rank    num_raters\n",
       "count  18561.000000  18561.000000  18561.000000\n",
       "mean    9374.926890   9375.926890    861.334842\n",
       "std     5449.683972   5449.683972   3491.090133\n",
       "min        0.000000      1.000000     30.000000\n",
       "25%     4656.000000   4657.000000     56.000000\n",
       "50%     9339.000000   9340.000000    123.000000\n",
       "75%    14073.000000  14074.000000    395.000000\n",
       "max    18899.000000  18900.000000  94477.000000"
      ]
     },
     "execution_count": 7,
     "metadata": {},
     "output_type": "execute_result"
    }
   ],
   "source": [
    "finalgamelist_df.describe()"
   ]
  },
  {
   "cell_type": "code",
   "execution_count": 8,
   "metadata": {},
   "outputs": [
    {
     "data": {
      "text/html": [
       "<div>\n",
       "<style scoped>\n",
       "    .dataframe tbody tr th:only-of-type {\n",
       "        vertical-align: middle;\n",
       "    }\n",
       "\n",
       "    .dataframe tbody tr th {\n",
       "        vertical-align: top;\n",
       "    }\n",
       "\n",
       "    .dataframe thead th {\n",
       "        text-align: right;\n",
       "    }\n",
       "</style>\n",
       "<table border=\"1\" class=\"dataframe\">\n",
       "  <thead>\n",
       "    <tr style=\"text-align: right;\">\n",
       "      <th></th>\n",
       "      <th>game_rank</th>\n",
       "      <th>geek_rating</th>\n",
       "      <th>avg_rating</th>\n",
       "      <th>num_raters</th>\n",
       "      <th>game_name</th>\n",
       "      <th>game_year</th>\n",
       "      <th>bgg_url</th>\n",
       "      <th>numplayersmin</th>\n",
       "      <th>gamedurmin</th>\n",
       "      <th>gamedurmax</th>\n",
       "      <th>agemin</th>\n",
       "      <th>numeric_ranks</th>\n",
       "    </tr>\n",
       "  </thead>\n",
       "  <tbody>\n",
       "    <tr>\n",
       "      <th>0</th>\n",
       "      <td>1</td>\n",
       "      <td>8.574</td>\n",
       "      <td>8.83</td>\n",
       "      <td>35235.0</td>\n",
       "      <td>Gloomhaven</td>\n",
       "      <td>2017.0</td>\n",
       "      <td>https://boardgamegeek.com//boardgame/174430/gl...</td>\n",
       "      <td>1.0</td>\n",
       "      <td>60.0</td>\n",
       "      <td>120.0</td>\n",
       "      <td>12.0</td>\n",
       "      <td>1</td>\n",
       "    </tr>\n",
       "    <tr>\n",
       "      <th>1</th>\n",
       "      <td>2</td>\n",
       "      <td>8.471</td>\n",
       "      <td>8.62</td>\n",
       "      <td>37213.0</td>\n",
       "      <td>Pandemic Legacy: Season 1</td>\n",
       "      <td>2015.0</td>\n",
       "      <td>https://boardgamegeek.com//boardgame/161936/pa...</td>\n",
       "      <td>2.0</td>\n",
       "      <td>60.0</td>\n",
       "      <td>NaN</td>\n",
       "      <td>13.0</td>\n",
       "      <td>2</td>\n",
       "    </tr>\n",
       "    <tr>\n",
       "      <th>2</th>\n",
       "      <td>3</td>\n",
       "      <td>8.276</td>\n",
       "      <td>8.43</td>\n",
       "      <td>54359.0</td>\n",
       "      <td>Terraforming Mars</td>\n",
       "      <td>2016.0</td>\n",
       "      <td>https://boardgamegeek.com//boardgame/167791/te...</td>\n",
       "      <td>1.0</td>\n",
       "      <td>120.0</td>\n",
       "      <td>NaN</td>\n",
       "      <td>12.0</td>\n",
       "      <td>3</td>\n",
       "    </tr>\n",
       "    <tr>\n",
       "      <th>3</th>\n",
       "      <td>4</td>\n",
       "      <td>8.276</td>\n",
       "      <td>8.64</td>\n",
       "      <td>12964.0</td>\n",
       "      <td>Brass: Birmingham</td>\n",
       "      <td>2018.0</td>\n",
       "      <td>https://boardgamegeek.com//boardgame/224517/br...</td>\n",
       "      <td>2.0</td>\n",
       "      <td>60.0</td>\n",
       "      <td>120.0</td>\n",
       "      <td>14.0</td>\n",
       "      <td>4</td>\n",
       "    </tr>\n",
       "    <tr>\n",
       "      <th>4</th>\n",
       "      <td>5</td>\n",
       "      <td>8.221</td>\n",
       "      <td>8.47</td>\n",
       "      <td>20132.0</td>\n",
       "      <td>Through the Ages: A New Story of Civilization</td>\n",
       "      <td>2015.0</td>\n",
       "      <td>https://boardgamegeek.com//boardgame/182028/th...</td>\n",
       "      <td>2.0</td>\n",
       "      <td>120.0</td>\n",
       "      <td>NaN</td>\n",
       "      <td>14.0</td>\n",
       "      <td>5</td>\n",
       "    </tr>\n",
       "    <tr>\n",
       "      <th>...</th>\n",
       "      <td>...</td>\n",
       "      <td>...</td>\n",
       "      <td>...</td>\n",
       "      <td>...</td>\n",
       "      <td>...</td>\n",
       "      <td>...</td>\n",
       "      <td>...</td>\n",
       "      <td>...</td>\n",
       "      <td>...</td>\n",
       "      <td>...</td>\n",
       "      <td>...</td>\n",
       "      <td>...</td>\n",
       "    </tr>\n",
       "    <tr>\n",
       "      <th>18895</th>\n",
       "      <td>18896</td>\n",
       "      <td>5.241</td>\n",
       "      <td>4.51</td>\n",
       "      <td>477.0</td>\n",
       "      <td>Buckaroo!</td>\n",
       "      <td>1970.0</td>\n",
       "      <td>https://boardgamegeek.com//boardgame/8392/buck...</td>\n",
       "      <td>2.0</td>\n",
       "      <td>10.0</td>\n",
       "      <td>NaN</td>\n",
       "      <td>4.0</td>\n",
       "      <td>18896</td>\n",
       "    </tr>\n",
       "    <tr>\n",
       "      <th>18896</th>\n",
       "      <td>18897</td>\n",
       "      <td>5.239</td>\n",
       "      <td>3.37</td>\n",
       "      <td>193.0</td>\n",
       "      <td>Snap</td>\n",
       "      <td>1866.0</td>\n",
       "      <td>https://boardgamegeek.com//boardgame/17003/snap</td>\n",
       "      <td>2.0</td>\n",
       "      <td>10.0</td>\n",
       "      <td>NaN</td>\n",
       "      <td>5.0</td>\n",
       "      <td>18897</td>\n",
       "    </tr>\n",
       "    <tr>\n",
       "      <th>18897</th>\n",
       "      <td>18898</td>\n",
       "      <td>5.238</td>\n",
       "      <td>4.99</td>\n",
       "      <td>1323.0</td>\n",
       "      <td>Mad Gab</td>\n",
       "      <td>1996.0</td>\n",
       "      <td>https://boardgamegeek.com//boardgame/764/mad-gab</td>\n",
       "      <td>2.0</td>\n",
       "      <td>45.0</td>\n",
       "      <td>NaN</td>\n",
       "      <td>10.0</td>\n",
       "      <td>18898</td>\n",
       "    </tr>\n",
       "    <tr>\n",
       "      <th>18898</th>\n",
       "      <td>18899</td>\n",
       "      <td>5.235</td>\n",
       "      <td>4.25</td>\n",
       "      <td>337.0</td>\n",
       "      <td>Titanic: The Board Game</td>\n",
       "      <td>1998.0</td>\n",
       "      <td>https://boardgamegeek.com//boardgame/2004/tita...</td>\n",
       "      <td>2.0</td>\n",
       "      <td>90.0</td>\n",
       "      <td>NaN</td>\n",
       "      <td>7.0</td>\n",
       "      <td>18899</td>\n",
       "    </tr>\n",
       "    <tr>\n",
       "      <th>18899</th>\n",
       "      <td>18900</td>\n",
       "      <td>5.234</td>\n",
       "      <td>4.85</td>\n",
       "      <td>805.0</td>\n",
       "      <td>Tenzi</td>\n",
       "      <td>2011.0</td>\n",
       "      <td>https://boardgamegeek.com//boardgame/113819/tenzi</td>\n",
       "      <td>2.0</td>\n",
       "      <td>1.0</td>\n",
       "      <td>5.0</td>\n",
       "      <td>7.0</td>\n",
       "      <td>18900</td>\n",
       "    </tr>\n",
       "  </tbody>\n",
       "</table>\n",
       "<p>18900 rows × 12 columns</p>\n",
       "</div>"
      ],
      "text/plain": [
       "       game_rank  geek_rating  avg_rating  num_raters  \\\n",
       "0              1        8.574        8.83     35235.0   \n",
       "1              2        8.471        8.62     37213.0   \n",
       "2              3        8.276        8.43     54359.0   \n",
       "3              4        8.276        8.64     12964.0   \n",
       "4              5        8.221        8.47     20132.0   \n",
       "...          ...          ...         ...         ...   \n",
       "18895      18896        5.241        4.51       477.0   \n",
       "18896      18897        5.239        3.37       193.0   \n",
       "18897      18898        5.238        4.99      1323.0   \n",
       "18898      18899        5.235        4.25       337.0   \n",
       "18899      18900        5.234        4.85       805.0   \n",
       "\n",
       "                                           game_name  game_year  \\\n",
       "0                                         Gloomhaven     2017.0   \n",
       "1                          Pandemic Legacy: Season 1     2015.0   \n",
       "2                                  Terraforming Mars     2016.0   \n",
       "3                                  Brass: Birmingham     2018.0   \n",
       "4      Through the Ages: A New Story of Civilization     2015.0   \n",
       "...                                              ...        ...   \n",
       "18895                                      Buckaroo!     1970.0   \n",
       "18896                                           Snap     1866.0   \n",
       "18897                                        Mad Gab     1996.0   \n",
       "18898                        Titanic: The Board Game     1998.0   \n",
       "18899                                          Tenzi     2011.0   \n",
       "\n",
       "                                                 bgg_url  numplayersmin  \\\n",
       "0      https://boardgamegeek.com//boardgame/174430/gl...            1.0   \n",
       "1      https://boardgamegeek.com//boardgame/161936/pa...            2.0   \n",
       "2      https://boardgamegeek.com//boardgame/167791/te...            1.0   \n",
       "3      https://boardgamegeek.com//boardgame/224517/br...            2.0   \n",
       "4      https://boardgamegeek.com//boardgame/182028/th...            2.0   \n",
       "...                                                  ...            ...   \n",
       "18895  https://boardgamegeek.com//boardgame/8392/buck...            2.0   \n",
       "18896    https://boardgamegeek.com//boardgame/17003/snap            2.0   \n",
       "18897   https://boardgamegeek.com//boardgame/764/mad-gab            2.0   \n",
       "18898  https://boardgamegeek.com//boardgame/2004/tita...            2.0   \n",
       "18899  https://boardgamegeek.com//boardgame/113819/tenzi            2.0   \n",
       "\n",
       "       gamedurmin  gamedurmax  agemin  numeric_ranks  \n",
       "0            60.0       120.0    12.0              1  \n",
       "1            60.0         NaN    13.0              2  \n",
       "2           120.0         NaN    12.0              3  \n",
       "3            60.0       120.0    14.0              4  \n",
       "4           120.0         NaN    14.0              5  \n",
       "...           ...         ...     ...            ...  \n",
       "18895        10.0         NaN     4.0          18896  \n",
       "18896        10.0         NaN     5.0          18897  \n",
       "18897        45.0         NaN    10.0          18898  \n",
       "18898        90.0         NaN     7.0          18899  \n",
       "18899         1.0         5.0     7.0          18900  \n",
       "\n",
       "[18900 rows x 12 columns]"
      ]
     },
     "execution_count": 8,
     "metadata": {},
     "output_type": "execute_result"
    }
   ],
   "source": [
    "allgamedata_df"
   ]
  },
  {
   "cell_type": "code",
   "execution_count": 17,
   "metadata": {},
   "outputs": [],
   "source": [
    "# Clean up\n",
    "usergamename = mygamename\n",
    "usergamename = re.sub(r\"(@[A-Za-z0-9]+)|([^0-9A-Za-z \\t])|(\\w+:\\/\\/\\S+)|^rt|http.+?\", \"\", usergamename)\n",
    "#usergamename = re.sub(r\"\\d+\", \"\", usergamename) # Maybe dont remove numbers?\n",
    "gamename_matchlist = [fuzz.token_sort_ratio(x,usergamename) for x in finalgamelist_df['game_name']]\n",
    "possiblegame_idx  = [i for i, x in enumerate(gamename_matchlist) if x == max(gamename_matchlist)]\n",
    "possiblegame_idx0 = possiblegame_idx[0] # Get first, make it number\n",
    "#possiblegame_name = list(finalgamelist_df.loc[finalgamelist_df['idx']==possiblegame_idx,'gamename'])[0]\n",
    "possiblegame_name = finalgamelist_df.iloc[possiblegame_idx0,2]\n",
    "#print('Best match: {}'.format(possiblegame_name))"
   ]
  },
  {
   "cell_type": "code",
   "execution_count": 14,
   "metadata": {},
   "outputs": [
    {
     "data": {
      "text/plain": [
       "<matplotlib.axes._subplots.AxesSubplot at 0x7f9e78dbab50>"
      ]
     },
     "execution_count": 14,
     "metadata": {},
     "output_type": "execute_result"
    },
    {
     "data": {
      "image/png": "[encoded data removed]",
      "text/plain": [
       "<Figure size 432x288 with 1 Axes>"
      ]
     },
     "metadata": {
      "needs_background": "light"
     },
     "output_type": "display_data"
    }
   ],
   "source": [
    "sns.distplot(gamename_matchlist)"
   ]
  },
  {
   "cell_type": "code",
   "execution_count": 15,
   "metadata": {},
   "outputs": [
    {
     "data": {
      "text/plain": [
       "371    Catan\n",
       "Name: game_name, dtype: object"
      ]
     },
     "execution_count": 15,
     "metadata": {},
     "output_type": "execute_result"
    }
   ],
   "source": [
    "finalgamelist_df.iloc[possiblegame_idx,2]"
   ]
  },
  {
   "cell_type": "code",
   "execution_count": 18,
   "metadata": {},
   "outputs": [
    {
     "data": {
      "text/plain": [
       "[371]"
      ]
     },
     "execution_count": 18,
     "metadata": {},
     "output_type": "execute_result"
    }
   ],
   "source": [
    "possiblegame_idx"
   ]
  },
  {
   "cell_type": "code",
   "execution_count": 20,
   "metadata": {},
   "outputs": [],
   "source": [
    "x = pd.DataFrame({'idx':finalgamelist_df.index,'matchnum':gamename_matchlist})"
   ]
  },
  {
   "cell_type": "code",
   "execution_count": 22,
   "metadata": {},
   "outputs": [],
   "source": [
    "x.sort_values(by='matchnum',ascending=False,inplace=True)"
   ]
  },
  {
   "cell_type": "code",
   "execution_count": 25,
   "metadata": {},
   "outputs": [],
   "source": [
    "xx=finalgamelist_df.iloc[x['idx'],2]"
   ]
  },
  {
   "cell_type": "code",
   "execution_count": 28,
   "metadata": {},
   "outputs": [
    {
     "data": {
      "text/html": [
       "<div>\n",
       "<style scoped>\n",
       "    .dataframe tbody tr th:only-of-type {\n",
       "        vertical-align: middle;\n",
       "    }\n",
       "\n",
       "    .dataframe tbody tr th {\n",
       "        vertical-align: top;\n",
       "    }\n",
       "\n",
       "    .dataframe thead th {\n",
       "        text-align: right;\n",
       "    }\n",
       "</style>\n",
       "<table border=\"1\" class=\"dataframe\">\n",
       "  <thead>\n",
       "    <tr style=\"text-align: right;\">\n",
       "      <th></th>\n",
       "      <th>idx</th>\n",
       "      <th>matchnum</th>\n",
       "    </tr>\n",
       "  </thead>\n",
       "  <tbody>\n",
       "    <tr>\n",
       "      <th>371</th>\n",
       "      <td>371</td>\n",
       "      <td>100</td>\n",
       "    </tr>\n",
       "    <tr>\n",
       "      <th>15831</th>\n",
       "      <td>15831</td>\n",
       "      <td>73</td>\n",
       "    </tr>\n",
       "    <tr>\n",
       "      <th>7854</th>\n",
       "      <td>7854</td>\n",
       "      <td>73</td>\n",
       "    </tr>\n",
       "    <tr>\n",
       "      <th>7830</th>\n",
       "      <td>7830</td>\n",
       "      <td>73</td>\n",
       "    </tr>\n",
       "    <tr>\n",
       "      <th>3609</th>\n",
       "      <td>3609</td>\n",
       "      <td>71</td>\n",
       "    </tr>\n",
       "    <tr>\n",
       "      <th>...</th>\n",
       "      <td>...</td>\n",
       "      <td>...</td>\n",
       "    </tr>\n",
       "    <tr>\n",
       "      <th>17389</th>\n",
       "      <td>17389</td>\n",
       "      <td>0</td>\n",
       "    </tr>\n",
       "    <tr>\n",
       "      <th>8900</th>\n",
       "      <td>8900</td>\n",
       "      <td>0</td>\n",
       "    </tr>\n",
       "    <tr>\n",
       "      <th>4631</th>\n",
       "      <td>4631</td>\n",
       "      <td>0</td>\n",
       "    </tr>\n",
       "    <tr>\n",
       "      <th>17385</th>\n",
       "      <td>17385</td>\n",
       "      <td>0</td>\n",
       "    </tr>\n",
       "    <tr>\n",
       "      <th>17556</th>\n",
       "      <td>17556</td>\n",
       "      <td>0</td>\n",
       "    </tr>\n",
       "  </tbody>\n",
       "</table>\n",
       "<p>18561 rows × 2 columns</p>\n",
       "</div>"
      ],
      "text/plain": [
       "         idx  matchnum\n",
       "371      371       100\n",
       "15831  15831        73\n",
       "7854    7854        73\n",
       "7830    7830        73\n",
       "3609    3609        71\n",
       "...      ...       ...\n",
       "17389  17389         0\n",
       "8900    8900         0\n",
       "4631    4631         0\n",
       "17385  17385         0\n",
       "17556  17556         0\n",
       "\n",
       "[18561 rows x 2 columns]"
      ]
     },
     "execution_count": 28,
     "metadata": {},
     "output_type": "execute_result"
    }
   ],
   "source": [
    "x"
   ]
  },
  {
   "cell_type": "code",
   "execution_count": 29,
   "metadata": {},
   "outputs": [
    {
     "data": {
      "text/plain": [
       "100"
      ]
     },
     "execution_count": 29,
     "metadata": {},
     "output_type": "execute_result"
    }
   ],
   "source": []
  },
  {
   "cell_type": "code",
   "execution_count": null,
   "metadata": {},
   "outputs": [],
   "source": []
  },
  {
   "cell_type": "code",
   "execution_count": 33,
   "metadata": {},
   "outputs": [
    {
     "data": {
      "text/plain": [
       "'terrible'"
      ]
     },
     "execution_count": 33,
     "metadata": {},
     "output_type": "execute_result"
    }
   ],
   "source": [
    "qltynum=44\n",
    "if qltynum>95:\n",
    "    qltytext = 'great'\n",
    "elif (qltynum>90) & (qltynum<=95):\n",
    "    qltytext = 'fair'\n",
    "elif (qltynum>80) & (qltynum<=90):\n",
    "    qltytext = 'poor'\n",
    "else:\n",
    "    qltytext = 'terrible'\n",
    "\n",
    "qltytext"
   ]
  },
  {
   "cell_type": "code",
   "execution_count": null,
   "metadata": {},
   "outputs": [],
   "source": []
  }
 ],
 "metadata": {
  "kernelspec": {
   "display_name": "Python 3",
   "language": "python",
   "name": "python3"
  },
  "language_info": {
   "codemirror_mode": {
    "name": "ipython",
    "version": 3
   },
   "file_extension": ".py",
   "mimetype": "text/x-python",
   "name": "python",
   "nbconvert_exporter": "python",
   "pygments_lexer": "ipython3",
   "version": "3.8.2"
  }
 },
 "nbformat": 4,
 "nbformat_minor": 4
}
