{
 "cells": [
  {
   "cell_type": "markdown",
   "metadata": {},
   "source": [
    "# Get the most surface features for each game."
   ]
  },
  {
   "cell_type": "code",
   "execution_count": 76,
   "metadata": {},
   "outputs": [],
   "source": [
    "import pandas as pd\n",
    "import numpy as np\n",
    "import seaborn as sns\n",
    "import matplotlib.pyplot as plt"
   ]
  },
  {
   "cell_type": "code",
   "execution_count": 29,
   "metadata": {},
   "outputs": [],
   "source": []
  },
  {
   "cell_type": "code",
   "execution_count": 74,
   "metadata": {},
   "outputs": [],
   "source": [
    "bggdata_df = pd.read_pickle('datasources/BGG_FINAL.pkl')"
   ]
  },
  {
   "cell_type": "code",
   "execution_count": 75,
   "metadata": {},
   "outputs": [
    {
     "data": {
      "text/plain": [
       "Index(['game_rank', 'geek_rating', 'avg_rating', 'num_raters', 'game_name',\n",
       "       'game_year', 'bgg_url', 'reimpl0', 'reimpl0href', 'ranks', 'avgrating',\n",
       "       'titleinfo', 'gameplayinfo', 'gamecredits', 'ftr_title', 'ftr_descr',\n",
       "       'gamedscription', 'rnkoverall', 'rnkthematic', 'rnkstrategy',\n",
       "       'shortsummary', 'numplayersmin', 'numplayersmax', 'gamedurmin',\n",
       "       'gamedurmax', 'agemin', 'gameweight', 'designer', 'artist', 'publisher',\n",
       "       'gametype', 'gamecategory', 'gamemechanisms', 'gamefamily', 'rnkwar',\n",
       "       'rnkcustomizable', 'rnkfamily', 'rnkabstract', 'rnkparty',\n",
       "       'rnkchildren's', 'rnkamiga', 'rnkcommodore64', 'rnkarcade',\n",
       "       'rnkatariST'],\n",
       "      dtype='object')"
      ]
     },
     "execution_count": 75,
     "metadata": {},
     "output_type": "execute_result"
    }
   ],
   "source": [
    "bggdata_df.columns"
   ]
  },
  {
   "cell_type": "code",
   "execution_count": 25,
   "metadata": {},
   "outputs": [],
   "source": [
    "gr = bggdata_df['geek_rating']\n",
    "ar = bggdata_df['avg_rating']\n",
    "ar2 = bggdata_df['avgrating']"
   ]
  },
  {
   "cell_type": "code",
   "execution_count": 79,
   "metadata": {},
   "outputs": [
    {
     "data": {
      "text/plain": [
       "<matplotlib.axes._subplots.AxesSubplot at 0x7f9aec324610>"
      ]
     },
     "execution_count": 79,
     "metadata": {},
     "output_type": "execute_result"
    },
    {
     "data": {
      "image/png": "[encoded data removed]",
      "text/plain": [
       "<Figure size 432x288 with 1 Axes>"
      ]
     },
     "metadata": {
      "needs_background": "light"
     },
     "output_type": "display_data"
    }
   ],
   "source": [
    "sns.distplot(gr)\n",
    "sns.distplot(ar)"
   ]
  },
  {
   "cell_type": "code",
   "execution_count": null,
   "metadata": {},
   "outputs": [],
   "source": []
  }
 ],
 "metadata": {
  "kernelspec": {
   "display_name": "Python 3",
   "language": "python",
   "name": "python3"
  },
  "language_info": {
   "codemirror_mode": {
    "name": "ipython",
    "version": 3
   },
   "file_extension": ".py",
   "mimetype": "text/x-python",
   "name": "python",
   "nbconvert_exporter": "python",
   "pygments_lexer": "ipython3",
   "version": "3.8.2"
  }
 },
 "nbformat": 4,
 "nbformat_minor": 4
}
